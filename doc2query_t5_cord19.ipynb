{
  "nbformat": 4,
  "nbformat_minor": 0,
  "metadata": {
    "colab": {
      "name": "doc2query-t5-cord19.ipynb",
      "provenance": [],
      "collapsed_sections": [],
      "toc_visible": true,
      "include_colab_link": true
    },
    "kernelspec": {
      "name": "python3",
      "display_name": "Python 3"
    },
    "accelerator": "GPU",
    "widgets": {
      "application/vnd.jupyter.widget-state+json": {
        "a5df7fd636074fedad3e71837bfd990d": {
          "model_module": "@jupyter-widgets/controls",
          "model_name": "HBoxModel",
          "state": {
            "_view_name": "HBoxView",
            "_dom_classes": [],
            "_model_name": "HBoxModel",
            "_view_module": "@jupyter-widgets/controls",
            "_model_module_version": "1.5.0",
            "_view_count": null,
            "_view_module_version": "1.5.0",
            "box_style": "",
            "layout": "IPY_MODEL_53ebd35837fc4afe9a63405e13b6b6c0",
            "_model_module": "@jupyter-widgets/controls",
            "children": [
              "IPY_MODEL_202a9043706f4cbdbec4d74c2939191d",
              "IPY_MODEL_efaecf53e29a439b9c8b1bc51b0576ba"
            ]
          }
        },
        "53ebd35837fc4afe9a63405e13b6b6c0": {
          "model_module": "@jupyter-widgets/base",
          "model_name": "LayoutModel",
          "state": {
            "_view_name": "LayoutView",
            "grid_template_rows": null,
            "right": null,
            "justify_content": null,
            "_view_module": "@jupyter-widgets/base",
            "overflow": null,
            "_model_module_version": "1.2.0",
            "_view_count": null,
            "flex_flow": null,
            "width": null,
            "min_width": null,
            "border": null,
            "align_items": null,
            "bottom": null,
            "_model_module": "@jupyter-widgets/base",
            "top": null,
            "grid_column": null,
            "overflow_y": null,
            "overflow_x": null,
            "grid_auto_flow": null,
            "grid_area": null,
            "grid_template_columns": null,
            "flex": null,
            "_model_name": "LayoutModel",
            "justify_items": null,
            "grid_row": null,
            "max_height": null,
            "align_content": null,
            "visibility": null,
            "align_self": null,
            "height": null,
            "min_height": null,
            "padding": null,
            "grid_auto_rows": null,
            "grid_gap": null,
            "max_width": null,
            "order": null,
            "_view_module_version": "1.2.0",
            "grid_template_areas": null,
            "object_position": null,
            "object_fit": null,
            "grid_auto_columns": null,
            "margin": null,
            "display": null,
            "left": null
          }
        },
        "202a9043706f4cbdbec4d74c2939191d": {
          "model_module": "@jupyter-widgets/controls",
          "model_name": "IntProgressModel",
          "state": {
            "_view_name": "ProgressView",
            "style": "IPY_MODEL_8893c4e8a0534bf488d157de6f052579",
            "_dom_classes": [],
            "description": "Downloading: 100%",
            "_model_name": "IntProgressModel",
            "bar_style": "success",
            "max": 791656,
            "_view_module": "@jupyter-widgets/controls",
            "_model_module_version": "1.5.0",
            "value": 791656,
            "_view_count": null,
            "_view_module_version": "1.5.0",
            "orientation": "horizontal",
            "min": 0,
            "description_tooltip": null,
            "_model_module": "@jupyter-widgets/controls",
            "layout": "IPY_MODEL_97baa1f811174b37af300960af8b22a3"
          }
        },
        "efaecf53e29a439b9c8b1bc51b0576ba": {
          "model_module": "@jupyter-widgets/controls",
          "model_name": "HTMLModel",
          "state": {
            "_view_name": "HTMLView",
            "style": "IPY_MODEL_5cd90453fb7e4a849d7285f75aef65d6",
            "_dom_classes": [],
            "description": "",
            "_model_name": "HTMLModel",
            "placeholder": "​",
            "_view_module": "@jupyter-widgets/controls",
            "_model_module_version": "1.5.0",
            "value": " 792k/792k [00:03&lt;00:00, 252kB/s]",
            "_view_count": null,
            "_view_module_version": "1.5.0",
            "description_tooltip": null,
            "_model_module": "@jupyter-widgets/controls",
            "layout": "IPY_MODEL_e48ceddbe14746a88c792caa8355f109"
          }
        },
        "8893c4e8a0534bf488d157de6f052579": {
          "model_module": "@jupyter-widgets/controls",
          "model_name": "ProgressStyleModel",
          "state": {
            "_view_name": "StyleView",
            "_model_name": "ProgressStyleModel",
            "description_width": "initial",
            "_view_module": "@jupyter-widgets/base",
            "_model_module_version": "1.5.0",
            "_view_count": null,
            "_view_module_version": "1.2.0",
            "bar_color": null,
            "_model_module": "@jupyter-widgets/controls"
          }
        },
        "97baa1f811174b37af300960af8b22a3": {
          "model_module": "@jupyter-widgets/base",
          "model_name": "LayoutModel",
          "state": {
            "_view_name": "LayoutView",
            "grid_template_rows": null,
            "right": null,
            "justify_content": null,
            "_view_module": "@jupyter-widgets/base",
            "overflow": null,
            "_model_module_version": "1.2.0",
            "_view_count": null,
            "flex_flow": null,
            "width": null,
            "min_width": null,
            "border": null,
            "align_items": null,
            "bottom": null,
            "_model_module": "@jupyter-widgets/base",
            "top": null,
            "grid_column": null,
            "overflow_y": null,
            "overflow_x": null,
            "grid_auto_flow": null,
            "grid_area": null,
            "grid_template_columns": null,
            "flex": null,
            "_model_name": "LayoutModel",
            "justify_items": null,
            "grid_row": null,
            "max_height": null,
            "align_content": null,
            "visibility": null,
            "align_self": null,
            "height": null,
            "min_height": null,
            "padding": null,
            "grid_auto_rows": null,
            "grid_gap": null,
            "max_width": null,
            "order": null,
            "_view_module_version": "1.2.0",
            "grid_template_areas": null,
            "object_position": null,
            "object_fit": null,
            "grid_auto_columns": null,
            "margin": null,
            "display": null,
            "left": null
          }
        },
        "5cd90453fb7e4a849d7285f75aef65d6": {
          "model_module": "@jupyter-widgets/controls",
          "model_name": "DescriptionStyleModel",
          "state": {
            "_view_name": "StyleView",
            "_model_name": "DescriptionStyleModel",
            "description_width": "",
            "_view_module": "@jupyter-widgets/base",
            "_model_module_version": "1.5.0",
            "_view_count": null,
            "_view_module_version": "1.2.0",
            "_model_module": "@jupyter-widgets/controls"
          }
        },
        "e48ceddbe14746a88c792caa8355f109": {
          "model_module": "@jupyter-widgets/base",
          "model_name": "LayoutModel",
          "state": {
            "_view_name": "LayoutView",
            "grid_template_rows": null,
            "right": null,
            "justify_content": null,
            "_view_module": "@jupyter-widgets/base",
            "overflow": null,
            "_model_module_version": "1.2.0",
            "_view_count": null,
            "flex_flow": null,
            "width": null,
            "min_width": null,
            "border": null,
            "align_items": null,
            "bottom": null,
            "_model_module": "@jupyter-widgets/base",
            "top": null,
            "grid_column": null,
            "overflow_y": null,
            "overflow_x": null,
            "grid_auto_flow": null,
            "grid_area": null,
            "grid_template_columns": null,
            "flex": null,
            "_model_name": "LayoutModel",
            "justify_items": null,
            "grid_row": null,
            "max_height": null,
            "align_content": null,
            "visibility": null,
            "align_self": null,
            "height": null,
            "min_height": null,
            "padding": null,
            "grid_auto_rows": null,
            "grid_gap": null,
            "max_width": null,
            "order": null,
            "_view_module_version": "1.2.0",
            "grid_template_areas": null,
            "object_position": null,
            "object_fit": null,
            "grid_auto_columns": null,
            "margin": null,
            "display": null,
            "left": null
          }
        },
        "7c090201db36436c954ad505e33d42b9": {
          "model_module": "@jupyter-widgets/controls",
          "model_name": "HBoxModel",
          "state": {
            "_view_name": "HBoxView",
            "_dom_classes": [],
            "_model_name": "HBoxModel",
            "_view_module": "@jupyter-widgets/controls",
            "_model_module_version": "1.5.0",
            "_view_count": null,
            "_view_module_version": "1.5.0",
            "box_style": "",
            "layout": "IPY_MODEL_0fcd614b30f94a4fb4b8108f243148d1",
            "_model_module": "@jupyter-widgets/controls",
            "children": [
              "IPY_MODEL_a711ace50dbb491eafd71a34cf4bbc88",
              "IPY_MODEL_ea6e3606dbf548838ff11e361c05a9d9"
            ]
          }
        },
        "0fcd614b30f94a4fb4b8108f243148d1": {
          "model_module": "@jupyter-widgets/base",
          "model_name": "LayoutModel",
          "state": {
            "_view_name": "LayoutView",
            "grid_template_rows": null,
            "right": null,
            "justify_content": null,
            "_view_module": "@jupyter-widgets/base",
            "overflow": null,
            "_model_module_version": "1.2.0",
            "_view_count": null,
            "flex_flow": null,
            "width": null,
            "min_width": null,
            "border": null,
            "align_items": null,
            "bottom": null,
            "_model_module": "@jupyter-widgets/base",
            "top": null,
            "grid_column": null,
            "overflow_y": null,
            "overflow_x": null,
            "grid_auto_flow": null,
            "grid_area": null,
            "grid_template_columns": null,
            "flex": null,
            "_model_name": "LayoutModel",
            "justify_items": null,
            "grid_row": null,
            "max_height": null,
            "align_content": null,
            "visibility": null,
            "align_self": null,
            "height": null,
            "min_height": null,
            "padding": null,
            "grid_auto_rows": null,
            "grid_gap": null,
            "max_width": null,
            "order": null,
            "_view_module_version": "1.2.0",
            "grid_template_areas": null,
            "object_position": null,
            "object_fit": null,
            "grid_auto_columns": null,
            "margin": null,
            "display": null,
            "left": null
          }
        },
        "a711ace50dbb491eafd71a34cf4bbc88": {
          "model_module": "@jupyter-widgets/controls",
          "model_name": "IntProgressModel",
          "state": {
            "_view_name": "ProgressView",
            "style": "IPY_MODEL_6663c5cef8e34bf69873fdb9780e4fca",
            "_dom_classes": [],
            "description": "Downloading: 100%",
            "_model_name": "IntProgressModel",
            "bar_style": "success",
            "max": 1199,
            "_view_module": "@jupyter-widgets/controls",
            "_model_module_version": "1.5.0",
            "value": 1199,
            "_view_count": null,
            "_view_module_version": "1.5.0",
            "orientation": "horizontal",
            "min": 0,
            "description_tooltip": null,
            "_model_module": "@jupyter-widgets/controls",
            "layout": "IPY_MODEL_957ce979298a418ebf65ca604a7a23ac"
          }
        },
        "ea6e3606dbf548838ff11e361c05a9d9": {
          "model_module": "@jupyter-widgets/controls",
          "model_name": "HTMLModel",
          "state": {
            "_view_name": "HTMLView",
            "style": "IPY_MODEL_5e00d15ce2a34548b16b49d215158a4c",
            "_dom_classes": [],
            "description": "",
            "_model_name": "HTMLModel",
            "placeholder": "​",
            "_view_module": "@jupyter-widgets/controls",
            "_model_module_version": "1.5.0",
            "value": " 1.20k/1.20k [00:00&lt;00:00, 3.88kB/s]",
            "_view_count": null,
            "_view_module_version": "1.5.0",
            "description_tooltip": null,
            "_model_module": "@jupyter-widgets/controls",
            "layout": "IPY_MODEL_faca295b12bd4a2fa8ccb9ccc4c9623b"
          }
        },
        "6663c5cef8e34bf69873fdb9780e4fca": {
          "model_module": "@jupyter-widgets/controls",
          "model_name": "ProgressStyleModel",
          "state": {
            "_view_name": "StyleView",
            "_model_name": "ProgressStyleModel",
            "description_width": "initial",
            "_view_module": "@jupyter-widgets/base",
            "_model_module_version": "1.5.0",
            "_view_count": null,
            "_view_module_version": "1.2.0",
            "bar_color": null,
            "_model_module": "@jupyter-widgets/controls"
          }
        },
        "957ce979298a418ebf65ca604a7a23ac": {
          "model_module": "@jupyter-widgets/base",
          "model_name": "LayoutModel",
          "state": {
            "_view_name": "LayoutView",
            "grid_template_rows": null,
            "right": null,
            "justify_content": null,
            "_view_module": "@jupyter-widgets/base",
            "overflow": null,
            "_model_module_version": "1.2.0",
            "_view_count": null,
            "flex_flow": null,
            "width": null,
            "min_width": null,
            "border": null,
            "align_items": null,
            "bottom": null,
            "_model_module": "@jupyter-widgets/base",
            "top": null,
            "grid_column": null,
            "overflow_y": null,
            "overflow_x": null,
            "grid_auto_flow": null,
            "grid_area": null,
            "grid_template_columns": null,
            "flex": null,
            "_model_name": "LayoutModel",
            "justify_items": null,
            "grid_row": null,
            "max_height": null,
            "align_content": null,
            "visibility": null,
            "align_self": null,
            "height": null,
            "min_height": null,
            "padding": null,
            "grid_auto_rows": null,
            "grid_gap": null,
            "max_width": null,
            "order": null,
            "_view_module_version": "1.2.0",
            "grid_template_areas": null,
            "object_position": null,
            "object_fit": null,
            "grid_auto_columns": null,
            "margin": null,
            "display": null,
            "left": null
          }
        },
        "5e00d15ce2a34548b16b49d215158a4c": {
          "model_module": "@jupyter-widgets/controls",
          "model_name": "DescriptionStyleModel",
          "state": {
            "_view_name": "StyleView",
            "_model_name": "DescriptionStyleModel",
            "description_width": "",
            "_view_module": "@jupyter-widgets/base",
            "_model_module_version": "1.5.0",
            "_view_count": null,
            "_view_module_version": "1.2.0",
            "_model_module": "@jupyter-widgets/controls"
          }
        },
        "faca295b12bd4a2fa8ccb9ccc4c9623b": {
          "model_module": "@jupyter-widgets/base",
          "model_name": "LayoutModel",
          "state": {
            "_view_name": "LayoutView",
            "grid_template_rows": null,
            "right": null,
            "justify_content": null,
            "_view_module": "@jupyter-widgets/base",
            "overflow": null,
            "_model_module_version": "1.2.0",
            "_view_count": null,
            "flex_flow": null,
            "width": null,
            "min_width": null,
            "border": null,
            "align_items": null,
            "bottom": null,
            "_model_module": "@jupyter-widgets/base",
            "top": null,
            "grid_column": null,
            "overflow_y": null,
            "overflow_x": null,
            "grid_auto_flow": null,
            "grid_area": null,
            "grid_template_columns": null,
            "flex": null,
            "_model_name": "LayoutModel",
            "justify_items": null,
            "grid_row": null,
            "max_height": null,
            "align_content": null,
            "visibility": null,
            "align_self": null,
            "height": null,
            "min_height": null,
            "padding": null,
            "grid_auto_rows": null,
            "grid_gap": null,
            "max_width": null,
            "order": null,
            "_view_module_version": "1.2.0",
            "grid_template_areas": null,
            "object_position": null,
            "object_fit": null,
            "grid_auto_columns": null,
            "margin": null,
            "display": null,
            "left": null
          }
        },
        "edf60b1c27ca4a21bea15daca8a7deaa": {
          "model_module": "@jupyter-widgets/controls",
          "model_name": "HBoxModel",
          "state": {
            "_view_name": "HBoxView",
            "_dom_classes": [],
            "_model_name": "HBoxModel",
            "_view_module": "@jupyter-widgets/controls",
            "_model_module_version": "1.5.0",
            "_view_count": null,
            "_view_module_version": "1.5.0",
            "box_style": "",
            "layout": "IPY_MODEL_9b6f16670a1f40dbb861988eb4368b89",
            "_model_module": "@jupyter-widgets/controls",
            "children": [
              "IPY_MODEL_aaca383f7bf147ab85a2517e0c854637",
              "IPY_MODEL_342acf6155f146e0a9557c5010d36b02"
            ]
          }
        },
        "9b6f16670a1f40dbb861988eb4368b89": {
          "model_module": "@jupyter-widgets/base",
          "model_name": "LayoutModel",
          "state": {
            "_view_name": "LayoutView",
            "grid_template_rows": null,
            "right": null,
            "justify_content": null,
            "_view_module": "@jupyter-widgets/base",
            "overflow": null,
            "_model_module_version": "1.2.0",
            "_view_count": null,
            "flex_flow": null,
            "width": null,
            "min_width": null,
            "border": null,
            "align_items": null,
            "bottom": null,
            "_model_module": "@jupyter-widgets/base",
            "top": null,
            "grid_column": null,
            "overflow_y": null,
            "overflow_x": null,
            "grid_auto_flow": null,
            "grid_area": null,
            "grid_template_columns": null,
            "flex": null,
            "_model_name": "LayoutModel",
            "justify_items": null,
            "grid_row": null,
            "max_height": null,
            "align_content": null,
            "visibility": null,
            "align_self": null,
            "height": null,
            "min_height": null,
            "padding": null,
            "grid_auto_rows": null,
            "grid_gap": null,
            "max_width": null,
            "order": null,
            "_view_module_version": "1.2.0",
            "grid_template_areas": null,
            "object_position": null,
            "object_fit": null,
            "grid_auto_columns": null,
            "margin": null,
            "display": null,
            "left": null
          }
        },
        "aaca383f7bf147ab85a2517e0c854637": {
          "model_module": "@jupyter-widgets/controls",
          "model_name": "IntProgressModel",
          "state": {
            "_view_name": "ProgressView",
            "style": "IPY_MODEL_6fc0dd42b3c74ff0b95d24575045785c",
            "_dom_classes": [],
            "description": "100%",
            "_model_name": "IntProgressModel",
            "bar_style": "success",
            "max": 59311,
            "_view_module": "@jupyter-widgets/controls",
            "_model_module_version": "1.5.0",
            "value": 59311,
            "_view_count": null,
            "_view_module_version": "1.5.0",
            "orientation": "horizontal",
            "min": 0,
            "description_tooltip": null,
            "_model_module": "@jupyter-widgets/controls",
            "layout": "IPY_MODEL_5447135c74f94ab6beee802b6c586d9b"
          }
        },
        "342acf6155f146e0a9557c5010d36b02": {
          "model_module": "@jupyter-widgets/controls",
          "model_name": "HTMLModel",
          "state": {
            "_view_name": "HTMLView",
            "style": "IPY_MODEL_d96a99078301455cb1dbb691db8c6d43",
            "_dom_classes": [],
            "description": "",
            "_model_name": "HTMLModel",
            "placeholder": "​",
            "_view_module": "@jupyter-widgets/controls",
            "_model_module_version": "1.5.0",
            "value": " 59311/59311 [08:27&lt;00:00, 116.87it/s]",
            "_view_count": null,
            "_view_module_version": "1.5.0",
            "description_tooltip": null,
            "_model_module": "@jupyter-widgets/controls",
            "layout": "IPY_MODEL_c07d709307b041d4852f6bc078142f26"
          }
        },
        "6fc0dd42b3c74ff0b95d24575045785c": {
          "model_module": "@jupyter-widgets/controls",
          "model_name": "ProgressStyleModel",
          "state": {
            "_view_name": "StyleView",
            "_model_name": "ProgressStyleModel",
            "description_width": "initial",
            "_view_module": "@jupyter-widgets/base",
            "_model_module_version": "1.5.0",
            "_view_count": null,
            "_view_module_version": "1.2.0",
            "bar_color": null,
            "_model_module": "@jupyter-widgets/controls"
          }
        },
        "5447135c74f94ab6beee802b6c586d9b": {
          "model_module": "@jupyter-widgets/base",
          "model_name": "LayoutModel",
          "state": {
            "_view_name": "LayoutView",
            "grid_template_rows": null,
            "right": null,
            "justify_content": null,
            "_view_module": "@jupyter-widgets/base",
            "overflow": null,
            "_model_module_version": "1.2.0",
            "_view_count": null,
            "flex_flow": null,
            "width": null,
            "min_width": null,
            "border": null,
            "align_items": null,
            "bottom": null,
            "_model_module": "@jupyter-widgets/base",
            "top": null,
            "grid_column": null,
            "overflow_y": null,
            "overflow_x": null,
            "grid_auto_flow": null,
            "grid_area": null,
            "grid_template_columns": null,
            "flex": null,
            "_model_name": "LayoutModel",
            "justify_items": null,
            "grid_row": null,
            "max_height": null,
            "align_content": null,
            "visibility": null,
            "align_self": null,
            "height": null,
            "min_height": null,
            "padding": null,
            "grid_auto_rows": null,
            "grid_gap": null,
            "max_width": null,
            "order": null,
            "_view_module_version": "1.2.0",
            "grid_template_areas": null,
            "object_position": null,
            "object_fit": null,
            "grid_auto_columns": null,
            "margin": null,
            "display": null,
            "left": null
          }
        },
        "d96a99078301455cb1dbb691db8c6d43": {
          "model_module": "@jupyter-widgets/controls",
          "model_name": "DescriptionStyleModel",
          "state": {
            "_view_name": "StyleView",
            "_model_name": "DescriptionStyleModel",
            "description_width": "",
            "_view_module": "@jupyter-widgets/base",
            "_model_module_version": "1.5.0",
            "_view_count": null,
            "_view_module_version": "1.2.0",
            "_model_module": "@jupyter-widgets/controls"
          }
        },
        "c07d709307b041d4852f6bc078142f26": {
          "model_module": "@jupyter-widgets/base",
          "model_name": "LayoutModel",
          "state": {
            "_view_name": "LayoutView",
            "grid_template_rows": null,
            "right": null,
            "justify_content": null,
            "_view_module": "@jupyter-widgets/base",
            "overflow": null,
            "_model_module_version": "1.2.0",
            "_view_count": null,
            "flex_flow": null,
            "width": null,
            "min_width": null,
            "border": null,
            "align_items": null,
            "bottom": null,
            "_model_module": "@jupyter-widgets/base",
            "top": null,
            "grid_column": null,
            "overflow_y": null,
            "overflow_x": null,
            "grid_auto_flow": null,
            "grid_area": null,
            "grid_template_columns": null,
            "flex": null,
            "_model_name": "LayoutModel",
            "justify_items": null,
            "grid_row": null,
            "max_height": null,
            "align_content": null,
            "visibility": null,
            "align_self": null,
            "height": null,
            "min_height": null,
            "padding": null,
            "grid_auto_rows": null,
            "grid_gap": null,
            "max_width": null,
            "order": null,
            "_view_module_version": "1.2.0",
            "grid_template_areas": null,
            "object_position": null,
            "object_fit": null,
            "grid_auto_columns": null,
            "margin": null,
            "display": null,
            "left": null
          }
        },
        "f8dfe47d88a747f2845f4057f3b82a42": {
          "model_module": "@jupyter-widgets/controls",
          "model_name": "HBoxModel",
          "state": {
            "_view_name": "HBoxView",
            "_dom_classes": [],
            "_model_name": "HBoxModel",
            "_view_module": "@jupyter-widgets/controls",
            "_model_module_version": "1.5.0",
            "_view_count": null,
            "_view_module_version": "1.5.0",
            "box_style": "",
            "layout": "IPY_MODEL_0c20c5ad58b1415895bac9bbbee8cb39",
            "_model_module": "@jupyter-widgets/controls",
            "children": [
              "IPY_MODEL_e34bf9076bc5441699640c338ed9ff75",
              "IPY_MODEL_c473b8828f81446182cdea79714e1c2c"
            ]
          }
        },
        "0c20c5ad58b1415895bac9bbbee8cb39": {
          "model_module": "@jupyter-widgets/base",
          "model_name": "LayoutModel",
          "state": {
            "_view_name": "LayoutView",
            "grid_template_rows": null,
            "right": null,
            "justify_content": null,
            "_view_module": "@jupyter-widgets/base",
            "overflow": null,
            "_model_module_version": "1.2.0",
            "_view_count": null,
            "flex_flow": null,
            "width": null,
            "min_width": null,
            "border": null,
            "align_items": null,
            "bottom": null,
            "_model_module": "@jupyter-widgets/base",
            "top": null,
            "grid_column": null,
            "overflow_y": null,
            "overflow_x": null,
            "grid_auto_flow": null,
            "grid_area": null,
            "grid_template_columns": null,
            "flex": null,
            "_model_name": "LayoutModel",
            "justify_items": null,
            "grid_row": null,
            "max_height": null,
            "align_content": null,
            "visibility": null,
            "align_self": null,
            "height": null,
            "min_height": null,
            "padding": null,
            "grid_auto_rows": null,
            "grid_gap": null,
            "max_width": null,
            "order": null,
            "_view_module_version": "1.2.0",
            "grid_template_areas": null,
            "object_position": null,
            "object_fit": null,
            "grid_auto_columns": null,
            "margin": null,
            "display": null,
            "left": null
          }
        },
        "e34bf9076bc5441699640c338ed9ff75": {
          "model_module": "@jupyter-widgets/controls",
          "model_name": "IntProgressModel",
          "state": {
            "_view_name": "ProgressView",
            "style": "IPY_MODEL_6294014de6d94bb990e77e0e749e9e1c",
            "_dom_classes": [],
            "description": "100%",
            "_model_name": "IntProgressModel",
            "bar_style": "success",
            "max": 26305,
            "_view_module": "@jupyter-widgets/controls",
            "_model_module_version": "1.5.0",
            "value": 26305,
            "_view_count": null,
            "_view_module_version": "1.5.0",
            "orientation": "horizontal",
            "min": 0,
            "description_tooltip": null,
            "_model_module": "@jupyter-widgets/controls",
            "layout": "IPY_MODEL_049442b4a41a4b68a3f75e7cd89ce1e5"
          }
        },
        "c473b8828f81446182cdea79714e1c2c": {
          "model_module": "@jupyter-widgets/controls",
          "model_name": "HTMLModel",
          "state": {
            "_view_name": "HTMLView",
            "style": "IPY_MODEL_37140da41093490db457409c44a978cb",
            "_dom_classes": [],
            "description": "",
            "_model_name": "HTMLModel",
            "placeholder": "​",
            "_view_module": "@jupyter-widgets/controls",
            "_model_module_version": "1.5.0",
            "value": " 26305/26305 [1:23:33&lt;00:00,  5.25it/s]",
            "_view_count": null,
            "_view_module_version": "1.5.0",
            "description_tooltip": null,
            "_model_module": "@jupyter-widgets/controls",
            "layout": "IPY_MODEL_091f20ff00f4470aa45e3c343d1623c0"
          }
        },
        "6294014de6d94bb990e77e0e749e9e1c": {
          "model_module": "@jupyter-widgets/controls",
          "model_name": "ProgressStyleModel",
          "state": {
            "_view_name": "StyleView",
            "_model_name": "ProgressStyleModel",
            "description_width": "initial",
            "_view_module": "@jupyter-widgets/base",
            "_model_module_version": "1.5.0",
            "_view_count": null,
            "_view_module_version": "1.2.0",
            "bar_color": null,
            "_model_module": "@jupyter-widgets/controls"
          }
        },
        "049442b4a41a4b68a3f75e7cd89ce1e5": {
          "model_module": "@jupyter-widgets/base",
          "model_name": "LayoutModel",
          "state": {
            "_view_name": "LayoutView",
            "grid_template_rows": null,
            "right": null,
            "justify_content": null,
            "_view_module": "@jupyter-widgets/base",
            "overflow": null,
            "_model_module_version": "1.2.0",
            "_view_count": null,
            "flex_flow": null,
            "width": null,
            "min_width": null,
            "border": null,
            "align_items": null,
            "bottom": null,
            "_model_module": "@jupyter-widgets/base",
            "top": null,
            "grid_column": null,
            "overflow_y": null,
            "overflow_x": null,
            "grid_auto_flow": null,
            "grid_area": null,
            "grid_template_columns": null,
            "flex": null,
            "_model_name": "LayoutModel",
            "justify_items": null,
            "grid_row": null,
            "max_height": null,
            "align_content": null,
            "visibility": null,
            "align_self": null,
            "height": null,
            "min_height": null,
            "padding": null,
            "grid_auto_rows": null,
            "grid_gap": null,
            "max_width": null,
            "order": null,
            "_view_module_version": "1.2.0",
            "grid_template_areas": null,
            "object_position": null,
            "object_fit": null,
            "grid_auto_columns": null,
            "margin": null,
            "display": null,
            "left": null
          }
        },
        "37140da41093490db457409c44a978cb": {
          "model_module": "@jupyter-widgets/controls",
          "model_name": "DescriptionStyleModel",
          "state": {
            "_view_name": "StyleView",
            "_model_name": "DescriptionStyleModel",
            "description_width": "",
            "_view_module": "@jupyter-widgets/base",
            "_model_module_version": "1.5.0",
            "_view_count": null,
            "_view_module_version": "1.2.0",
            "_model_module": "@jupyter-widgets/controls"
          }
        },
        "091f20ff00f4470aa45e3c343d1623c0": {
          "model_module": "@jupyter-widgets/base",
          "model_name": "LayoutModel",
          "state": {
            "_view_name": "LayoutView",
            "grid_template_rows": null,
            "right": null,
            "justify_content": null,
            "_view_module": "@jupyter-widgets/base",
            "overflow": null,
            "_model_module_version": "1.2.0",
            "_view_count": null,
            "flex_flow": null,
            "width": null,
            "min_width": null,
            "border": null,
            "align_items": null,
            "bottom": null,
            "_model_module": "@jupyter-widgets/base",
            "top": null,
            "grid_column": null,
            "overflow_y": null,
            "overflow_x": null,
            "grid_auto_flow": null,
            "grid_area": null,
            "grid_template_columns": null,
            "flex": null,
            "_model_name": "LayoutModel",
            "justify_items": null,
            "grid_row": null,
            "max_height": null,
            "align_content": null,
            "visibility": null,
            "align_self": null,
            "height": null,
            "min_height": null,
            "padding": null,
            "grid_auto_rows": null,
            "grid_gap": null,
            "max_width": null,
            "order": null,
            "_view_module_version": "1.2.0",
            "grid_template_areas": null,
            "object_position": null,
            "object_fit": null,
            "grid_auto_columns": null,
            "margin": null,
            "display": null,
            "left": null
          }
        },
        "20a3f54787854e81a3f4bbd16f775d37": {
          "model_module": "@jupyter-widgets/controls",
          "model_name": "HBoxModel",
          "state": {
            "_view_name": "HBoxView",
            "_dom_classes": [],
            "_model_name": "HBoxModel",
            "_view_module": "@jupyter-widgets/controls",
            "_model_module_version": "1.5.0",
            "_view_count": null,
            "_view_module_version": "1.5.0",
            "box_style": "",
            "layout": "IPY_MODEL_b052dbda44f949a6bed35118e756aae5",
            "_model_module": "@jupyter-widgets/controls",
            "children": [
              "IPY_MODEL_f45ef55b017c4ccebd41a2e4163c60f3",
              "IPY_MODEL_43a2f9d958be4c3181220cc068642f49"
            ]
          }
        },
        "b052dbda44f949a6bed35118e756aae5": {
          "model_module": "@jupyter-widgets/base",
          "model_name": "LayoutModel",
          "state": {
            "_view_name": "LayoutView",
            "grid_template_rows": null,
            "right": null,
            "justify_content": null,
            "_view_module": "@jupyter-widgets/base",
            "overflow": null,
            "_model_module_version": "1.2.0",
            "_view_count": null,
            "flex_flow": null,
            "width": null,
            "min_width": null,
            "border": null,
            "align_items": null,
            "bottom": null,
            "_model_module": "@jupyter-widgets/base",
            "top": null,
            "grid_column": null,
            "overflow_y": null,
            "overflow_x": null,
            "grid_auto_flow": null,
            "grid_area": null,
            "grid_template_columns": null,
            "flex": null,
            "_model_name": "LayoutModel",
            "justify_items": null,
            "grid_row": null,
            "max_height": null,
            "align_content": null,
            "visibility": null,
            "align_self": null,
            "height": null,
            "min_height": null,
            "padding": null,
            "grid_auto_rows": null,
            "grid_gap": null,
            "max_width": null,
            "order": null,
            "_view_module_version": "1.2.0",
            "grid_template_areas": null,
            "object_position": null,
            "object_fit": null,
            "grid_auto_columns": null,
            "margin": null,
            "display": null,
            "left": null
          }
        },
        "f45ef55b017c4ccebd41a2e4163c60f3": {
          "model_module": "@jupyter-widgets/controls",
          "model_name": "IntProgressModel",
          "state": {
            "_view_name": "ProgressView",
            "style": "IPY_MODEL_8fae91e2328e4791aeef77b582bfc0b6",
            "_dom_classes": [],
            "description": "100%",
            "_model_name": "IntProgressModel",
            "bar_style": "success",
            "max": 26305,
            "_view_module": "@jupyter-widgets/controls",
            "_model_module_version": "1.5.0",
            "value": 26305,
            "_view_count": null,
            "_view_module_version": "1.5.0",
            "orientation": "horizontal",
            "min": 0,
            "description_tooltip": null,
            "_model_module": "@jupyter-widgets/controls",
            "layout": "IPY_MODEL_83cab5dae74340a68103ca6143fffc56"
          }
        },
        "43a2f9d958be4c3181220cc068642f49": {
          "model_module": "@jupyter-widgets/controls",
          "model_name": "HTMLModel",
          "state": {
            "_view_name": "HTMLView",
            "style": "IPY_MODEL_eae4b2118f9542de888317d1b1358c25",
            "_dom_classes": [],
            "description": "",
            "_model_name": "HTMLModel",
            "placeholder": "​",
            "_view_module": "@jupyter-widgets/controls",
            "_model_module_version": "1.5.0",
            "value": " 26305/26305 [41:48&lt;00:00, 10.49it/s]",
            "_view_count": null,
            "_view_module_version": "1.5.0",
            "description_tooltip": null,
            "_model_module": "@jupyter-widgets/controls",
            "layout": "IPY_MODEL_b3ffcc6b0d8b431b81a877c2c3aba8e1"
          }
        },
        "8fae91e2328e4791aeef77b582bfc0b6": {
          "model_module": "@jupyter-widgets/controls",
          "model_name": "ProgressStyleModel",
          "state": {
            "_view_name": "StyleView",
            "_model_name": "ProgressStyleModel",
            "description_width": "initial",
            "_view_module": "@jupyter-widgets/base",
            "_model_module_version": "1.5.0",
            "_view_count": null,
            "_view_module_version": "1.2.0",
            "bar_color": null,
            "_model_module": "@jupyter-widgets/controls"
          }
        },
        "83cab5dae74340a68103ca6143fffc56": {
          "model_module": "@jupyter-widgets/base",
          "model_name": "LayoutModel",
          "state": {
            "_view_name": "LayoutView",
            "grid_template_rows": null,
            "right": null,
            "justify_content": null,
            "_view_module": "@jupyter-widgets/base",
            "overflow": null,
            "_model_module_version": "1.2.0",
            "_view_count": null,
            "flex_flow": null,
            "width": null,
            "min_width": null,
            "border": null,
            "align_items": null,
            "bottom": null,
            "_model_module": "@jupyter-widgets/base",
            "top": null,
            "grid_column": null,
            "overflow_y": null,
            "overflow_x": null,
            "grid_auto_flow": null,
            "grid_area": null,
            "grid_template_columns": null,
            "flex": null,
            "_model_name": "LayoutModel",
            "justify_items": null,
            "grid_row": null,
            "max_height": null,
            "align_content": null,
            "visibility": null,
            "align_self": null,
            "height": null,
            "min_height": null,
            "padding": null,
            "grid_auto_rows": null,
            "grid_gap": null,
            "max_width": null,
            "order": null,
            "_view_module_version": "1.2.0",
            "grid_template_areas": null,
            "object_position": null,
            "object_fit": null,
            "grid_auto_columns": null,
            "margin": null,
            "display": null,
            "left": null
          }
        },
        "eae4b2118f9542de888317d1b1358c25": {
          "model_module": "@jupyter-widgets/controls",
          "model_name": "DescriptionStyleModel",
          "state": {
            "_view_name": "StyleView",
            "_model_name": "DescriptionStyleModel",
            "description_width": "",
            "_view_module": "@jupyter-widgets/base",
            "_model_module_version": "1.5.0",
            "_view_count": null,
            "_view_module_version": "1.2.0",
            "_model_module": "@jupyter-widgets/controls"
          }
        },
        "b3ffcc6b0d8b431b81a877c2c3aba8e1": {
          "model_module": "@jupyter-widgets/base",
          "model_name": "LayoutModel",
          "state": {
            "_view_name": "LayoutView",
            "grid_template_rows": null,
            "right": null,
            "justify_content": null,
            "_view_module": "@jupyter-widgets/base",
            "overflow": null,
            "_model_module_version": "1.2.0",
            "_view_count": null,
            "flex_flow": null,
            "width": null,
            "min_width": null,
            "border": null,
            "align_items": null,
            "bottom": null,
            "_model_module": "@jupyter-widgets/base",
            "top": null,
            "grid_column": null,
            "overflow_y": null,
            "overflow_x": null,
            "grid_auto_flow": null,
            "grid_area": null,
            "grid_template_columns": null,
            "flex": null,
            "_model_name": "LayoutModel",
            "justify_items": null,
            "grid_row": null,
            "max_height": null,
            "align_content": null,
            "visibility": null,
            "align_self": null,
            "height": null,
            "min_height": null,
            "padding": null,
            "grid_auto_rows": null,
            "grid_gap": null,
            "max_width": null,
            "order": null,
            "_view_module_version": "1.2.0",
            "grid_template_areas": null,
            "object_position": null,
            "object_fit": null,
            "grid_auto_columns": null,
            "margin": null,
            "display": null,
            "left": null
          }
        },
        "feaf6fb9b30b4b24a4e70ad4b0b0d4c2": {
          "model_module": "@jupyter-widgets/controls",
          "model_name": "HBoxModel",
          "state": {
            "_view_name": "HBoxView",
            "_dom_classes": [],
            "_model_name": "HBoxModel",
            "_view_module": "@jupyter-widgets/controls",
            "_model_module_version": "1.5.0",
            "_view_count": null,
            "_view_module_version": "1.5.0",
            "box_style": "",
            "layout": "IPY_MODEL_855718674fba44d098424342aa8a79a5",
            "_model_module": "@jupyter-widgets/controls",
            "children": [
              "IPY_MODEL_056838850c724a0eb543f94b38dfed21",
              "IPY_MODEL_b57b4d173f3f44c4a76a642781832eab"
            ]
          }
        },
        "855718674fba44d098424342aa8a79a5": {
          "model_module": "@jupyter-widgets/base",
          "model_name": "LayoutModel",
          "state": {
            "_view_name": "LayoutView",
            "grid_template_rows": null,
            "right": null,
            "justify_content": null,
            "_view_module": "@jupyter-widgets/base",
            "overflow": null,
            "_model_module_version": "1.2.0",
            "_view_count": null,
            "flex_flow": null,
            "width": null,
            "min_width": null,
            "border": null,
            "align_items": null,
            "bottom": null,
            "_model_module": "@jupyter-widgets/base",
            "top": null,
            "grid_column": null,
            "overflow_y": null,
            "overflow_x": null,
            "grid_auto_flow": null,
            "grid_area": null,
            "grid_template_columns": null,
            "flex": null,
            "_model_name": "LayoutModel",
            "justify_items": null,
            "grid_row": null,
            "max_height": null,
            "align_content": null,
            "visibility": null,
            "align_self": null,
            "height": null,
            "min_height": null,
            "padding": null,
            "grid_auto_rows": null,
            "grid_gap": null,
            "max_width": null,
            "order": null,
            "_view_module_version": "1.2.0",
            "grid_template_areas": null,
            "object_position": null,
            "object_fit": null,
            "grid_auto_columns": null,
            "margin": null,
            "display": null,
            "left": null
          }
        },
        "056838850c724a0eb543f94b38dfed21": {
          "model_module": "@jupyter-widgets/controls",
          "model_name": "IntProgressModel",
          "state": {
            "_view_name": "ProgressView",
            "style": "IPY_MODEL_0e84bd7a7a9d4416af514f20a84a2e3c",
            "_dom_classes": [],
            "description": "100%",
            "_model_name": "IntProgressModel",
            "bar_style": "success",
            "max": 26305,
            "_view_module": "@jupyter-widgets/controls",
            "_model_module_version": "1.5.0",
            "value": 26305,
            "_view_count": null,
            "_view_module_version": "1.5.0",
            "orientation": "horizontal",
            "min": 0,
            "description_tooltip": null,
            "_model_module": "@jupyter-widgets/controls",
            "layout": "IPY_MODEL_d4bb44783e0148a79ab3e3013b5d55bd"
          }
        },
        "b57b4d173f3f44c4a76a642781832eab": {
          "model_module": "@jupyter-widgets/controls",
          "model_name": "HTMLModel",
          "state": {
            "_view_name": "HTMLView",
            "style": "IPY_MODEL_642dda806da04c4b86ea3e4e1729a295",
            "_dom_classes": [],
            "description": "",
            "_model_name": "HTMLModel",
            "placeholder": "​",
            "_view_module": "@jupyter-widgets/controls",
            "_model_module_version": "1.5.0",
            "value": " 26305/26305 [2:06:19&lt;00:00,  3.47it/s]",
            "_view_count": null,
            "_view_module_version": "1.5.0",
            "description_tooltip": null,
            "_model_module": "@jupyter-widgets/controls",
            "layout": "IPY_MODEL_42195d1097004c418550402cf7fd384d"
          }
        },
        "0e84bd7a7a9d4416af514f20a84a2e3c": {
          "model_module": "@jupyter-widgets/controls",
          "model_name": "ProgressStyleModel",
          "state": {
            "_view_name": "StyleView",
            "_model_name": "ProgressStyleModel",
            "description_width": "initial",
            "_view_module": "@jupyter-widgets/base",
            "_model_module_version": "1.5.0",
            "_view_count": null,
            "_view_module_version": "1.2.0",
            "bar_color": null,
            "_model_module": "@jupyter-widgets/controls"
          }
        },
        "d4bb44783e0148a79ab3e3013b5d55bd": {
          "model_module": "@jupyter-widgets/base",
          "model_name": "LayoutModel",
          "state": {
            "_view_name": "LayoutView",
            "grid_template_rows": null,
            "right": null,
            "justify_content": null,
            "_view_module": "@jupyter-widgets/base",
            "overflow": null,
            "_model_module_version": "1.2.0",
            "_view_count": null,
            "flex_flow": null,
            "width": null,
            "min_width": null,
            "border": null,
            "align_items": null,
            "bottom": null,
            "_model_module": "@jupyter-widgets/base",
            "top": null,
            "grid_column": null,
            "overflow_y": null,
            "overflow_x": null,
            "grid_auto_flow": null,
            "grid_area": null,
            "grid_template_columns": null,
            "flex": null,
            "_model_name": "LayoutModel",
            "justify_items": null,
            "grid_row": null,
            "max_height": null,
            "align_content": null,
            "visibility": null,
            "align_self": null,
            "height": null,
            "min_height": null,
            "padding": null,
            "grid_auto_rows": null,
            "grid_gap": null,
            "max_width": null,
            "order": null,
            "_view_module_version": "1.2.0",
            "grid_template_areas": null,
            "object_position": null,
            "object_fit": null,
            "grid_auto_columns": null,
            "margin": null,
            "display": null,
            "left": null
          }
        },
        "642dda806da04c4b86ea3e4e1729a295": {
          "model_module": "@jupyter-widgets/controls",
          "model_name": "DescriptionStyleModel",
          "state": {
            "_view_name": "StyleView",
            "_model_name": "DescriptionStyleModel",
            "description_width": "",
            "_view_module": "@jupyter-widgets/base",
            "_model_module_version": "1.5.0",
            "_view_count": null,
            "_view_module_version": "1.2.0",
            "_model_module": "@jupyter-widgets/controls"
          }
        },
        "42195d1097004c418550402cf7fd384d": {
          "model_module": "@jupyter-widgets/base",
          "model_name": "LayoutModel",
          "state": {
            "_view_name": "LayoutView",
            "grid_template_rows": null,
            "right": null,
            "justify_content": null,
            "_view_module": "@jupyter-widgets/base",
            "overflow": null,
            "_model_module_version": "1.2.0",
            "_view_count": null,
            "flex_flow": null,
            "width": null,
            "min_width": null,
            "border": null,
            "align_items": null,
            "bottom": null,
            "_model_module": "@jupyter-widgets/base",
            "top": null,
            "grid_column": null,
            "overflow_y": null,
            "overflow_x": null,
            "grid_auto_flow": null,
            "grid_area": null,
            "grid_template_columns": null,
            "flex": null,
            "_model_name": "LayoutModel",
            "justify_items": null,
            "grid_row": null,
            "max_height": null,
            "align_content": null,
            "visibility": null,
            "align_self": null,
            "height": null,
            "min_height": null,
            "padding": null,
            "grid_auto_rows": null,
            "grid_gap": null,
            "max_width": null,
            "order": null,
            "_view_module_version": "1.2.0",
            "grid_template_areas": null,
            "object_position": null,
            "object_fit": null,
            "grid_auto_columns": null,
            "margin": null,
            "display": null,
            "left": null
          }
        },
        "ac37e475c18e43cab33ee4384a7ab7c0": {
          "model_module": "@jupyter-widgets/controls",
          "model_name": "HBoxModel",
          "state": {
            "_view_name": "HBoxView",
            "_dom_classes": [],
            "_model_name": "HBoxModel",
            "_view_module": "@jupyter-widgets/controls",
            "_model_module_version": "1.5.0",
            "_view_count": null,
            "_view_module_version": "1.5.0",
            "box_style": "",
            "layout": "IPY_MODEL_2a8e9ee45f3e46ed9b585198382925bb",
            "_model_module": "@jupyter-widgets/controls",
            "children": [
              "IPY_MODEL_c29c9605d0184011b8d3638ac1a340e3",
              "IPY_MODEL_0d4794539f8843b0a18a13b3626d632a"
            ]
          }
        },
        "2a8e9ee45f3e46ed9b585198382925bb": {
          "model_module": "@jupyter-widgets/base",
          "model_name": "LayoutModel",
          "state": {
            "_view_name": "LayoutView",
            "grid_template_rows": null,
            "right": null,
            "justify_content": null,
            "_view_module": "@jupyter-widgets/base",
            "overflow": null,
            "_model_module_version": "1.2.0",
            "_view_count": null,
            "flex_flow": null,
            "width": null,
            "min_width": null,
            "border": null,
            "align_items": null,
            "bottom": null,
            "_model_module": "@jupyter-widgets/base",
            "top": null,
            "grid_column": null,
            "overflow_y": null,
            "overflow_x": null,
            "grid_auto_flow": null,
            "grid_area": null,
            "grid_template_columns": null,
            "flex": null,
            "_model_name": "LayoutModel",
            "justify_items": null,
            "grid_row": null,
            "max_height": null,
            "align_content": null,
            "visibility": null,
            "align_self": null,
            "height": null,
            "min_height": null,
            "padding": null,
            "grid_auto_rows": null,
            "grid_gap": null,
            "max_width": null,
            "order": null,
            "_view_module_version": "1.2.0",
            "grid_template_areas": null,
            "object_position": null,
            "object_fit": null,
            "grid_auto_columns": null,
            "margin": null,
            "display": null,
            "left": null
          }
        },
        "c29c9605d0184011b8d3638ac1a340e3": {
          "model_module": "@jupyter-widgets/controls",
          "model_name": "IntProgressModel",
          "state": {
            "_view_name": "ProgressView",
            "style": "IPY_MODEL_6cb6382a1d5043d0a354c4d51701417e",
            "_dom_classes": [],
            "description": "100%",
            "_model_name": "IntProgressModel",
            "bar_style": "success",
            "max": 26305,
            "_view_module": "@jupyter-widgets/controls",
            "_model_module_version": "1.5.0",
            "value": 26305,
            "_view_count": null,
            "_view_module_version": "1.5.0",
            "orientation": "horizontal",
            "min": 0,
            "description_tooltip": null,
            "_model_module": "@jupyter-widgets/controls",
            "layout": "IPY_MODEL_7aa1e1afc5184442a5f7db988a40197c"
          }
        },
        "0d4794539f8843b0a18a13b3626d632a": {
          "model_module": "@jupyter-widgets/controls",
          "model_name": "HTMLModel",
          "state": {
            "_view_name": "HTMLView",
            "style": "IPY_MODEL_107478d5b7dc434985ee81dc7208f78d",
            "_dom_classes": [],
            "description": "",
            "_model_name": "HTMLModel",
            "placeholder": "​",
            "_view_module": "@jupyter-widgets/controls",
            "_model_module_version": "1.5.0",
            "value": " 26305/26305 [1:24:18&lt;00:00,  5.20it/s]",
            "_view_count": null,
            "_view_module_version": "1.5.0",
            "description_tooltip": null,
            "_model_module": "@jupyter-widgets/controls",
            "layout": "IPY_MODEL_49ab01c319cf431bb92c992da5c4ab8e"
          }
        },
        "6cb6382a1d5043d0a354c4d51701417e": {
          "model_module": "@jupyter-widgets/controls",
          "model_name": "ProgressStyleModel",
          "state": {
            "_view_name": "StyleView",
            "_model_name": "ProgressStyleModel",
            "description_width": "initial",
            "_view_module": "@jupyter-widgets/base",
            "_model_module_version": "1.5.0",
            "_view_count": null,
            "_view_module_version": "1.2.0",
            "bar_color": null,
            "_model_module": "@jupyter-widgets/controls"
          }
        },
        "7aa1e1afc5184442a5f7db988a40197c": {
          "model_module": "@jupyter-widgets/base",
          "model_name": "LayoutModel",
          "state": {
            "_view_name": "LayoutView",
            "grid_template_rows": null,
            "right": null,
            "justify_content": null,
            "_view_module": "@jupyter-widgets/base",
            "overflow": null,
            "_model_module_version": "1.2.0",
            "_view_count": null,
            "flex_flow": null,
            "width": null,
            "min_width": null,
            "border": null,
            "align_items": null,
            "bottom": null,
            "_model_module": "@jupyter-widgets/base",
            "top": null,
            "grid_column": null,
            "overflow_y": null,
            "overflow_x": null,
            "grid_auto_flow": null,
            "grid_area": null,
            "grid_template_columns": null,
            "flex": null,
            "_model_name": "LayoutModel",
            "justify_items": null,
            "grid_row": null,
            "max_height": null,
            "align_content": null,
            "visibility": null,
            "align_self": null,
            "height": null,
            "min_height": null,
            "padding": null,
            "grid_auto_rows": null,
            "grid_gap": null,
            "max_width": null,
            "order": null,
            "_view_module_version": "1.2.0",
            "grid_template_areas": null,
            "object_position": null,
            "object_fit": null,
            "grid_auto_columns": null,
            "margin": null,
            "display": null,
            "left": null
          }
        },
        "107478d5b7dc434985ee81dc7208f78d": {
          "model_module": "@jupyter-widgets/controls",
          "model_name": "DescriptionStyleModel",
          "state": {
            "_view_name": "StyleView",
            "_model_name": "DescriptionStyleModel",
            "description_width": "",
            "_view_module": "@jupyter-widgets/base",
            "_model_module_version": "1.5.0",
            "_view_count": null,
            "_view_module_version": "1.2.0",
            "_model_module": "@jupyter-widgets/controls"
          }
        },
        "49ab01c319cf431bb92c992da5c4ab8e": {
          "model_module": "@jupyter-widgets/base",
          "model_name": "LayoutModel",
          "state": {
            "_view_name": "LayoutView",
            "grid_template_rows": null,
            "right": null,
            "justify_content": null,
            "_view_module": "@jupyter-widgets/base",
            "overflow": null,
            "_model_module_version": "1.2.0",
            "_view_count": null,
            "flex_flow": null,
            "width": null,
            "min_width": null,
            "border": null,
            "align_items": null,
            "bottom": null,
            "_model_module": "@jupyter-widgets/base",
            "top": null,
            "grid_column": null,
            "overflow_y": null,
            "overflow_x": null,
            "grid_auto_flow": null,
            "grid_area": null,
            "grid_template_columns": null,
            "flex": null,
            "_model_name": "LayoutModel",
            "justify_items": null,
            "grid_row": null,
            "max_height": null,
            "align_content": null,
            "visibility": null,
            "align_self": null,
            "height": null,
            "min_height": null,
            "padding": null,
            "grid_auto_rows": null,
            "grid_gap": null,
            "max_width": null,
            "order": null,
            "_view_module_version": "1.2.0",
            "grid_template_areas": null,
            "object_position": null,
            "object_fit": null,
            "grid_auto_columns": null,
            "margin": null,
            "display": null,
            "left": null
          }
        },
        "06f00ee7f24c473eaf6e199166b2451a": {
          "model_module": "@jupyter-widgets/controls",
          "model_name": "HBoxModel",
          "state": {
            "_view_name": "HBoxView",
            "_dom_classes": [],
            "_model_name": "HBoxModel",
            "_view_module": "@jupyter-widgets/controls",
            "_model_module_version": "1.5.0",
            "_view_count": null,
            "_view_module_version": "1.5.0",
            "box_style": "",
            "layout": "IPY_MODEL_70ea27533ac24ab9bc72131288a07175",
            "_model_module": "@jupyter-widgets/controls",
            "children": [
              "IPY_MODEL_328ace0b311d478f82a4774221d3b954",
              "IPY_MODEL_854e8df58f6c401daea33a747b01da58"
            ]
          }
        },
        "70ea27533ac24ab9bc72131288a07175": {
          "model_module": "@jupyter-widgets/base",
          "model_name": "LayoutModel",
          "state": {
            "_view_name": "LayoutView",
            "grid_template_rows": null,
            "right": null,
            "justify_content": null,
            "_view_module": "@jupyter-widgets/base",
            "overflow": null,
            "_model_module_version": "1.2.0",
            "_view_count": null,
            "flex_flow": null,
            "width": null,
            "min_width": null,
            "border": null,
            "align_items": null,
            "bottom": null,
            "_model_module": "@jupyter-widgets/base",
            "top": null,
            "grid_column": null,
            "overflow_y": null,
            "overflow_x": null,
            "grid_auto_flow": null,
            "grid_area": null,
            "grid_template_columns": null,
            "flex": null,
            "_model_name": "LayoutModel",
            "justify_items": null,
            "grid_row": null,
            "max_height": null,
            "align_content": null,
            "visibility": null,
            "align_self": null,
            "height": null,
            "min_height": null,
            "padding": null,
            "grid_auto_rows": null,
            "grid_gap": null,
            "max_width": null,
            "order": null,
            "_view_module_version": "1.2.0",
            "grid_template_areas": null,
            "object_position": null,
            "object_fit": null,
            "grid_auto_columns": null,
            "margin": null,
            "display": null,
            "left": null
          }
        },
        "328ace0b311d478f82a4774221d3b954": {
          "model_module": "@jupyter-widgets/controls",
          "model_name": "IntProgressModel",
          "state": {
            "_view_name": "ProgressView",
            "style": "IPY_MODEL_45a9f9bb84e64802a4b864a1cc577398",
            "_dom_classes": [],
            "description": "100%",
            "_model_name": "IntProgressModel",
            "bar_style": "success",
            "max": 26305,
            "_view_module": "@jupyter-widgets/controls",
            "_model_module_version": "1.5.0",
            "value": 26305,
            "_view_count": null,
            "_view_module_version": "1.5.0",
            "orientation": "horizontal",
            "min": 0,
            "description_tooltip": null,
            "_model_module": "@jupyter-widgets/controls",
            "layout": "IPY_MODEL_bda868293345456b83bd96fa1d2004cc"
          }
        },
        "854e8df58f6c401daea33a747b01da58": {
          "model_module": "@jupyter-widgets/controls",
          "model_name": "HTMLModel",
          "state": {
            "_view_name": "HTMLView",
            "style": "IPY_MODEL_0a6201bb21234ae9959564b1e82d9b59",
            "_dom_classes": [],
            "description": "",
            "_model_name": "HTMLModel",
            "placeholder": "​",
            "_view_module": "@jupyter-widgets/controls",
            "_model_module_version": "1.5.0",
            "value": " 26305/26305 [42:18&lt;00:00, 10.36it/s]",
            "_view_count": null,
            "_view_module_version": "1.5.0",
            "description_tooltip": null,
            "_model_module": "@jupyter-widgets/controls",
            "layout": "IPY_MODEL_d79a7f74cd514bc7b0df2919b2840558"
          }
        },
        "45a9f9bb84e64802a4b864a1cc577398": {
          "model_module": "@jupyter-widgets/controls",
          "model_name": "ProgressStyleModel",
          "state": {
            "_view_name": "StyleView",
            "_model_name": "ProgressStyleModel",
            "description_width": "initial",
            "_view_module": "@jupyter-widgets/base",
            "_model_module_version": "1.5.0",
            "_view_count": null,
            "_view_module_version": "1.2.0",
            "bar_color": null,
            "_model_module": "@jupyter-widgets/controls"
          }
        },
        "bda868293345456b83bd96fa1d2004cc": {
          "model_module": "@jupyter-widgets/base",
          "model_name": "LayoutModel",
          "state": {
            "_view_name": "LayoutView",
            "grid_template_rows": null,
            "right": null,
            "justify_content": null,
            "_view_module": "@jupyter-widgets/base",
            "overflow": null,
            "_model_module_version": "1.2.0",
            "_view_count": null,
            "flex_flow": null,
            "width": null,
            "min_width": null,
            "border": null,
            "align_items": null,
            "bottom": null,
            "_model_module": "@jupyter-widgets/base",
            "top": null,
            "grid_column": null,
            "overflow_y": null,
            "overflow_x": null,
            "grid_auto_flow": null,
            "grid_area": null,
            "grid_template_columns": null,
            "flex": null,
            "_model_name": "LayoutModel",
            "justify_items": null,
            "grid_row": null,
            "max_height": null,
            "align_content": null,
            "visibility": null,
            "align_self": null,
            "height": null,
            "min_height": null,
            "padding": null,
            "grid_auto_rows": null,
            "grid_gap": null,
            "max_width": null,
            "order": null,
            "_view_module_version": "1.2.0",
            "grid_template_areas": null,
            "object_position": null,
            "object_fit": null,
            "grid_auto_columns": null,
            "margin": null,
            "display": null,
            "left": null
          }
        },
        "0a6201bb21234ae9959564b1e82d9b59": {
          "model_module": "@jupyter-widgets/controls",
          "model_name": "DescriptionStyleModel",
          "state": {
            "_view_name": "StyleView",
            "_model_name": "DescriptionStyleModel",
            "description_width": "",
            "_view_module": "@jupyter-widgets/base",
            "_model_module_version": "1.5.0",
            "_view_count": null,
            "_view_module_version": "1.2.0",
            "_model_module": "@jupyter-widgets/controls"
          }
        },
        "d79a7f74cd514bc7b0df2919b2840558": {
          "model_module": "@jupyter-widgets/base",
          "model_name": "LayoutModel",
          "state": {
            "_view_name": "LayoutView",
            "grid_template_rows": null,
            "right": null,
            "justify_content": null,
            "_view_module": "@jupyter-widgets/base",
            "overflow": null,
            "_model_module_version": "1.2.0",
            "_view_count": null,
            "flex_flow": null,
            "width": null,
            "min_width": null,
            "border": null,
            "align_items": null,
            "bottom": null,
            "_model_module": "@jupyter-widgets/base",
            "top": null,
            "grid_column": null,
            "overflow_y": null,
            "overflow_x": null,
            "grid_auto_flow": null,
            "grid_area": null,
            "grid_template_columns": null,
            "flex": null,
            "_model_name": "LayoutModel",
            "justify_items": null,
            "grid_row": null,
            "max_height": null,
            "align_content": null,
            "visibility": null,
            "align_self": null,
            "height": null,
            "min_height": null,
            "padding": null,
            "grid_auto_rows": null,
            "grid_gap": null,
            "max_width": null,
            "order": null,
            "_view_module_version": "1.2.0",
            "grid_template_areas": null,
            "object_position": null,
            "object_fit": null,
            "grid_auto_columns": null,
            "margin": null,
            "display": null,
            "left": null
          }
        },
        "c5fa4c67eddb4411b0e51e5ecee4fa1d": {
          "model_module": "@jupyter-widgets/controls",
          "model_name": "HBoxModel",
          "state": {
            "_view_name": "HBoxView",
            "_dom_classes": [],
            "_model_name": "HBoxModel",
            "_view_module": "@jupyter-widgets/controls",
            "_model_module_version": "1.5.0",
            "_view_count": null,
            "_view_module_version": "1.5.0",
            "box_style": "",
            "layout": "IPY_MODEL_2f0e53a98ce64171b61122da38e549a0",
            "_model_module": "@jupyter-widgets/controls",
            "children": [
              "IPY_MODEL_0ed0a0468a354d98b8f6b092918d9014",
              "IPY_MODEL_4fb3aaf57ae0422bbdb3bcf014c0a69e"
            ]
          }
        },
        "2f0e53a98ce64171b61122da38e549a0": {
          "model_module": "@jupyter-widgets/base",
          "model_name": "LayoutModel",
          "state": {
            "_view_name": "LayoutView",
            "grid_template_rows": null,
            "right": null,
            "justify_content": null,
            "_view_module": "@jupyter-widgets/base",
            "overflow": null,
            "_model_module_version": "1.2.0",
            "_view_count": null,
            "flex_flow": null,
            "width": null,
            "min_width": null,
            "border": null,
            "align_items": null,
            "bottom": null,
            "_model_module": "@jupyter-widgets/base",
            "top": null,
            "grid_column": null,
            "overflow_y": null,
            "overflow_x": null,
            "grid_auto_flow": null,
            "grid_area": null,
            "grid_template_columns": null,
            "flex": null,
            "_model_name": "LayoutModel",
            "justify_items": null,
            "grid_row": null,
            "max_height": null,
            "align_content": null,
            "visibility": null,
            "align_self": null,
            "height": null,
            "min_height": null,
            "padding": null,
            "grid_auto_rows": null,
            "grid_gap": null,
            "max_width": null,
            "order": null,
            "_view_module_version": "1.2.0",
            "grid_template_areas": null,
            "object_position": null,
            "object_fit": null,
            "grid_auto_columns": null,
            "margin": null,
            "display": null,
            "left": null
          }
        },
        "0ed0a0468a354d98b8f6b092918d9014": {
          "model_module": "@jupyter-widgets/controls",
          "model_name": "IntProgressModel",
          "state": {
            "_view_name": "ProgressView",
            "style": "IPY_MODEL_772cae9e79d6451fa84fe9dea2ef0b4b",
            "_dom_classes": [],
            "description": "100%",
            "_model_name": "IntProgressModel",
            "bar_style": "success",
            "max": 26305,
            "_view_module": "@jupyter-widgets/controls",
            "_model_module_version": "1.5.0",
            "value": 26305,
            "_view_count": null,
            "_view_module_version": "1.5.0",
            "orientation": "horizontal",
            "min": 0,
            "description_tooltip": null,
            "_model_module": "@jupyter-widgets/controls",
            "layout": "IPY_MODEL_ffd438ff8168425cb35bd63e70241def"
          }
        },
        "4fb3aaf57ae0422bbdb3bcf014c0a69e": {
          "model_module": "@jupyter-widgets/controls",
          "model_name": "HTMLModel",
          "state": {
            "_view_name": "HTMLView",
            "style": "IPY_MODEL_f418d7b49d964d4997cd6721848bd818",
            "_dom_classes": [],
            "description": "",
            "_model_name": "HTMLModel",
            "placeholder": "​",
            "_view_module": "@jupyter-widgets/controls",
            "_model_module_version": "1.5.0",
            "value": " 26305/26305 [42:09&lt;00:00, 10.40it/s]",
            "_view_count": null,
            "_view_module_version": "1.5.0",
            "description_tooltip": null,
            "_model_module": "@jupyter-widgets/controls",
            "layout": "IPY_MODEL_0c8b00d0bccf46c09f8243a1978f13e9"
          }
        },
        "772cae9e79d6451fa84fe9dea2ef0b4b": {
          "model_module": "@jupyter-widgets/controls",
          "model_name": "ProgressStyleModel",
          "state": {
            "_view_name": "StyleView",
            "_model_name": "ProgressStyleModel",
            "description_width": "initial",
            "_view_module": "@jupyter-widgets/base",
            "_model_module_version": "1.5.0",
            "_view_count": null,
            "_view_module_version": "1.2.0",
            "bar_color": null,
            "_model_module": "@jupyter-widgets/controls"
          }
        },
        "ffd438ff8168425cb35bd63e70241def": {
          "model_module": "@jupyter-widgets/base",
          "model_name": "LayoutModel",
          "state": {
            "_view_name": "LayoutView",
            "grid_template_rows": null,
            "right": null,
            "justify_content": null,
            "_view_module": "@jupyter-widgets/base",
            "overflow": null,
            "_model_module_version": "1.2.0",
            "_view_count": null,
            "flex_flow": null,
            "width": null,
            "min_width": null,
            "border": null,
            "align_items": null,
            "bottom": null,
            "_model_module": "@jupyter-widgets/base",
            "top": null,
            "grid_column": null,
            "overflow_y": null,
            "overflow_x": null,
            "grid_auto_flow": null,
            "grid_area": null,
            "grid_template_columns": null,
            "flex": null,
            "_model_name": "LayoutModel",
            "justify_items": null,
            "grid_row": null,
            "max_height": null,
            "align_content": null,
            "visibility": null,
            "align_self": null,
            "height": null,
            "min_height": null,
            "padding": null,
            "grid_auto_rows": null,
            "grid_gap": null,
            "max_width": null,
            "order": null,
            "_view_module_version": "1.2.0",
            "grid_template_areas": null,
            "object_position": null,
            "object_fit": null,
            "grid_auto_columns": null,
            "margin": null,
            "display": null,
            "left": null
          }
        },
        "f418d7b49d964d4997cd6721848bd818": {
          "model_module": "@jupyter-widgets/controls",
          "model_name": "DescriptionStyleModel",
          "state": {
            "_view_name": "StyleView",
            "_model_name": "DescriptionStyleModel",
            "description_width": "",
            "_view_module": "@jupyter-widgets/base",
            "_model_module_version": "1.5.0",
            "_view_count": null,
            "_view_module_version": "1.2.0",
            "_model_module": "@jupyter-widgets/controls"
          }
        },
        "0c8b00d0bccf46c09f8243a1978f13e9": {
          "model_module": "@jupyter-widgets/base",
          "model_name": "LayoutModel",
          "state": {
            "_view_name": "LayoutView",
            "grid_template_rows": null,
            "right": null,
            "justify_content": null,
            "_view_module": "@jupyter-widgets/base",
            "overflow": null,
            "_model_module_version": "1.2.0",
            "_view_count": null,
            "flex_flow": null,
            "width": null,
            "min_width": null,
            "border": null,
            "align_items": null,
            "bottom": null,
            "_model_module": "@jupyter-widgets/base",
            "top": null,
            "grid_column": null,
            "overflow_y": null,
            "overflow_x": null,
            "grid_auto_flow": null,
            "grid_area": null,
            "grid_template_columns": null,
            "flex": null,
            "_model_name": "LayoutModel",
            "justify_items": null,
            "grid_row": null,
            "max_height": null,
            "align_content": null,
            "visibility": null,
            "align_self": null,
            "height": null,
            "min_height": null,
            "padding": null,
            "grid_auto_rows": null,
            "grid_gap": null,
            "max_width": null,
            "order": null,
            "_view_module_version": "1.2.0",
            "grid_template_areas": null,
            "object_position": null,
            "object_fit": null,
            "grid_auto_columns": null,
            "margin": null,
            "display": null,
            "left": null
          }
        },
        "f3e5e03e59a748dbb75b3c0b4f037470": {
          "model_module": "@jupyter-widgets/controls",
          "model_name": "HBoxModel",
          "state": {
            "_view_name": "HBoxView",
            "_dom_classes": [],
            "_model_name": "HBoxModel",
            "_view_module": "@jupyter-widgets/controls",
            "_model_module_version": "1.5.0",
            "_view_count": null,
            "_view_module_version": "1.5.0",
            "box_style": "",
            "layout": "IPY_MODEL_0c2511f062584168a07d375788bd3058",
            "_model_module": "@jupyter-widgets/controls",
            "children": [
              "IPY_MODEL_d11ab81b98a84a198d5e0f6704575994",
              "IPY_MODEL_98e8212c657c43059b0e8d04b83c61dc"
            ]
          }
        },
        "0c2511f062584168a07d375788bd3058": {
          "model_module": "@jupyter-widgets/base",
          "model_name": "LayoutModel",
          "state": {
            "_view_name": "LayoutView",
            "grid_template_rows": null,
            "right": null,
            "justify_content": null,
            "_view_module": "@jupyter-widgets/base",
            "overflow": null,
            "_model_module_version": "1.2.0",
            "_view_count": null,
            "flex_flow": null,
            "width": null,
            "min_width": null,
            "border": null,
            "align_items": null,
            "bottom": null,
            "_model_module": "@jupyter-widgets/base",
            "top": null,
            "grid_column": null,
            "overflow_y": null,
            "overflow_x": null,
            "grid_auto_flow": null,
            "grid_area": null,
            "grid_template_columns": null,
            "flex": null,
            "_model_name": "LayoutModel",
            "justify_items": null,
            "grid_row": null,
            "max_height": null,
            "align_content": null,
            "visibility": null,
            "align_self": null,
            "height": null,
            "min_height": null,
            "padding": null,
            "grid_auto_rows": null,
            "grid_gap": null,
            "max_width": null,
            "order": null,
            "_view_module_version": "1.2.0",
            "grid_template_areas": null,
            "object_position": null,
            "object_fit": null,
            "grid_auto_columns": null,
            "margin": null,
            "display": null,
            "left": null
          }
        },
        "d11ab81b98a84a198d5e0f6704575994": {
          "model_module": "@jupyter-widgets/controls",
          "model_name": "IntProgressModel",
          "state": {
            "_view_name": "ProgressView",
            "style": "IPY_MODEL_b60e84d2646a45aa832395e2f9c6796a",
            "_dom_classes": [],
            "description": "100%",
            "_model_name": "IntProgressModel",
            "bar_style": "success",
            "max": 26305,
            "_view_module": "@jupyter-widgets/controls",
            "_model_module_version": "1.5.0",
            "value": 26305,
            "_view_count": null,
            "_view_module_version": "1.5.0",
            "orientation": "horizontal",
            "min": 0,
            "description_tooltip": null,
            "_model_module": "@jupyter-widgets/controls",
            "layout": "IPY_MODEL_5b7e1714c0f14bf593185a40ed0e06e1"
          }
        },
        "98e8212c657c43059b0e8d04b83c61dc": {
          "model_module": "@jupyter-widgets/controls",
          "model_name": "HTMLModel",
          "state": {
            "_view_name": "HTMLView",
            "style": "IPY_MODEL_078545b387324221ad57f743910d832b",
            "_dom_classes": [],
            "description": "",
            "_model_name": "HTMLModel",
            "placeholder": "​",
            "_view_module": "@jupyter-widgets/controls",
            "_model_module_version": "1.5.0",
            "value": " 26305/26305 [2:04:54&lt;00:00,  3.51it/s]",
            "_view_count": null,
            "_view_module_version": "1.5.0",
            "description_tooltip": null,
            "_model_module": "@jupyter-widgets/controls",
            "layout": "IPY_MODEL_b90c690c050b4f5188af2c9f85f08a7c"
          }
        },
        "b60e84d2646a45aa832395e2f9c6796a": {
          "model_module": "@jupyter-widgets/controls",
          "model_name": "ProgressStyleModel",
          "state": {
            "_view_name": "StyleView",
            "_model_name": "ProgressStyleModel",
            "description_width": "initial",
            "_view_module": "@jupyter-widgets/base",
            "_model_module_version": "1.5.0",
            "_view_count": null,
            "_view_module_version": "1.2.0",
            "bar_color": null,
            "_model_module": "@jupyter-widgets/controls"
          }
        },
        "5b7e1714c0f14bf593185a40ed0e06e1": {
          "model_module": "@jupyter-widgets/base",
          "model_name": "LayoutModel",
          "state": {
            "_view_name": "LayoutView",
            "grid_template_rows": null,
            "right": null,
            "justify_content": null,
            "_view_module": "@jupyter-widgets/base",
            "overflow": null,
            "_model_module_version": "1.2.0",
            "_view_count": null,
            "flex_flow": null,
            "width": null,
            "min_width": null,
            "border": null,
            "align_items": null,
            "bottom": null,
            "_model_module": "@jupyter-widgets/base",
            "top": null,
            "grid_column": null,
            "overflow_y": null,
            "overflow_x": null,
            "grid_auto_flow": null,
            "grid_area": null,
            "grid_template_columns": null,
            "flex": null,
            "_model_name": "LayoutModel",
            "justify_items": null,
            "grid_row": null,
            "max_height": null,
            "align_content": null,
            "visibility": null,
            "align_self": null,
            "height": null,
            "min_height": null,
            "padding": null,
            "grid_auto_rows": null,
            "grid_gap": null,
            "max_width": null,
            "order": null,
            "_view_module_version": "1.2.0",
            "grid_template_areas": null,
            "object_position": null,
            "object_fit": null,
            "grid_auto_columns": null,
            "margin": null,
            "display": null,
            "left": null
          }
        },
        "078545b387324221ad57f743910d832b": {
          "model_module": "@jupyter-widgets/controls",
          "model_name": "DescriptionStyleModel",
          "state": {
            "_view_name": "StyleView",
            "_model_name": "DescriptionStyleModel",
            "description_width": "",
            "_view_module": "@jupyter-widgets/base",
            "_model_module_version": "1.5.0",
            "_view_count": null,
            "_view_module_version": "1.2.0",
            "_model_module": "@jupyter-widgets/controls"
          }
        },
        "b90c690c050b4f5188af2c9f85f08a7c": {
          "model_module": "@jupyter-widgets/base",
          "model_name": "LayoutModel",
          "state": {
            "_view_name": "LayoutView",
            "grid_template_rows": null,
            "right": null,
            "justify_content": null,
            "_view_module": "@jupyter-widgets/base",
            "overflow": null,
            "_model_module_version": "1.2.0",
            "_view_count": null,
            "flex_flow": null,
            "width": null,
            "min_width": null,
            "border": null,
            "align_items": null,
            "bottom": null,
            "_model_module": "@jupyter-widgets/base",
            "top": null,
            "grid_column": null,
            "overflow_y": null,
            "overflow_x": null,
            "grid_auto_flow": null,
            "grid_area": null,
            "grid_template_columns": null,
            "flex": null,
            "_model_name": "LayoutModel",
            "justify_items": null,
            "grid_row": null,
            "max_height": null,
            "align_content": null,
            "visibility": null,
            "align_self": null,
            "height": null,
            "min_height": null,
            "padding": null,
            "grid_auto_rows": null,
            "grid_gap": null,
            "max_width": null,
            "order": null,
            "_view_module_version": "1.2.0",
            "grid_template_areas": null,
            "object_position": null,
            "object_fit": null,
            "grid_auto_columns": null,
            "margin": null,
            "display": null,
            "left": null
          }
        },
        "b6f50947a0074dbc831361e9efe495c0": {
          "model_module": "@jupyter-widgets/controls",
          "model_name": "HBoxModel",
          "state": {
            "_view_name": "HBoxView",
            "_dom_classes": [],
            "_model_name": "HBoxModel",
            "_view_module": "@jupyter-widgets/controls",
            "_model_module_version": "1.5.0",
            "_view_count": null,
            "_view_module_version": "1.5.0",
            "box_style": "",
            "layout": "IPY_MODEL_1b0c5d26893b460695fcd81c8187fba3",
            "_model_module": "@jupyter-widgets/controls",
            "children": [
              "IPY_MODEL_af9523a10c8d4184a289b159c844cc04",
              "IPY_MODEL_49514be35e4d4c318f124e851539499d"
            ]
          }
        },
        "1b0c5d26893b460695fcd81c8187fba3": {
          "model_module": "@jupyter-widgets/base",
          "model_name": "LayoutModel",
          "state": {
            "_view_name": "LayoutView",
            "grid_template_rows": null,
            "right": null,
            "justify_content": null,
            "_view_module": "@jupyter-widgets/base",
            "overflow": null,
            "_model_module_version": "1.2.0",
            "_view_count": null,
            "flex_flow": null,
            "width": null,
            "min_width": null,
            "border": null,
            "align_items": null,
            "bottom": null,
            "_model_module": "@jupyter-widgets/base",
            "top": null,
            "grid_column": null,
            "overflow_y": null,
            "overflow_x": null,
            "grid_auto_flow": null,
            "grid_area": null,
            "grid_template_columns": null,
            "flex": null,
            "_model_name": "LayoutModel",
            "justify_items": null,
            "grid_row": null,
            "max_height": null,
            "align_content": null,
            "visibility": null,
            "align_self": null,
            "height": null,
            "min_height": null,
            "padding": null,
            "grid_auto_rows": null,
            "grid_gap": null,
            "max_width": null,
            "order": null,
            "_view_module_version": "1.2.0",
            "grid_template_areas": null,
            "object_position": null,
            "object_fit": null,
            "grid_auto_columns": null,
            "margin": null,
            "display": null,
            "left": null
          }
        },
        "af9523a10c8d4184a289b159c844cc04": {
          "model_module": "@jupyter-widgets/controls",
          "model_name": "IntProgressModel",
          "state": {
            "_view_name": "ProgressView",
            "style": "IPY_MODEL_3deb4f8469b14b2b92d9e720f84687c5",
            "_dom_classes": [],
            "description": "100%",
            "_model_name": "IntProgressModel",
            "bar_style": "success",
            "max": 26305,
            "_view_module": "@jupyter-widgets/controls",
            "_model_module_version": "1.5.0",
            "value": 26305,
            "_view_count": null,
            "_view_module_version": "1.5.0",
            "orientation": "horizontal",
            "min": 0,
            "description_tooltip": null,
            "_model_module": "@jupyter-widgets/controls",
            "layout": "IPY_MODEL_51d2e00e4a344dc58f00ea2b07569b59"
          }
        },
        "49514be35e4d4c318f124e851539499d": {
          "model_module": "@jupyter-widgets/controls",
          "model_name": "HTMLModel",
          "state": {
            "_view_name": "HTMLView",
            "style": "IPY_MODEL_6391c0aadb3c4fb89557eb7a73b90f0a",
            "_dom_classes": [],
            "description": "",
            "_model_name": "HTMLModel",
            "placeholder": "​",
            "_view_module": "@jupyter-widgets/controls",
            "_model_module_version": "1.5.0",
            "value": " 26305/26305 [1:22:55&lt;00:00,  5.29it/s]",
            "_view_count": null,
            "_view_module_version": "1.5.0",
            "description_tooltip": null,
            "_model_module": "@jupyter-widgets/controls",
            "layout": "IPY_MODEL_99b24b94316a49f7a2af9b3b32a3a928"
          }
        },
        "3deb4f8469b14b2b92d9e720f84687c5": {
          "model_module": "@jupyter-widgets/controls",
          "model_name": "ProgressStyleModel",
          "state": {
            "_view_name": "StyleView",
            "_model_name": "ProgressStyleModel",
            "description_width": "initial",
            "_view_module": "@jupyter-widgets/base",
            "_model_module_version": "1.5.0",
            "_view_count": null,
            "_view_module_version": "1.2.0",
            "bar_color": null,
            "_model_module": "@jupyter-widgets/controls"
          }
        },
        "51d2e00e4a344dc58f00ea2b07569b59": {
          "model_module": "@jupyter-widgets/base",
          "model_name": "LayoutModel",
          "state": {
            "_view_name": "LayoutView",
            "grid_template_rows": null,
            "right": null,
            "justify_content": null,
            "_view_module": "@jupyter-widgets/base",
            "overflow": null,
            "_model_module_version": "1.2.0",
            "_view_count": null,
            "flex_flow": null,
            "width": null,
            "min_width": null,
            "border": null,
            "align_items": null,
            "bottom": null,
            "_model_module": "@jupyter-widgets/base",
            "top": null,
            "grid_column": null,
            "overflow_y": null,
            "overflow_x": null,
            "grid_auto_flow": null,
            "grid_area": null,
            "grid_template_columns": null,
            "flex": null,
            "_model_name": "LayoutModel",
            "justify_items": null,
            "grid_row": null,
            "max_height": null,
            "align_content": null,
            "visibility": null,
            "align_self": null,
            "height": null,
            "min_height": null,
            "padding": null,
            "grid_auto_rows": null,
            "grid_gap": null,
            "max_width": null,
            "order": null,
            "_view_module_version": "1.2.0",
            "grid_template_areas": null,
            "object_position": null,
            "object_fit": null,
            "grid_auto_columns": null,
            "margin": null,
            "display": null,
            "left": null
          }
        },
        "6391c0aadb3c4fb89557eb7a73b90f0a": {
          "model_module": "@jupyter-widgets/controls",
          "model_name": "DescriptionStyleModel",
          "state": {
            "_view_name": "StyleView",
            "_model_name": "DescriptionStyleModel",
            "description_width": "",
            "_view_module": "@jupyter-widgets/base",
            "_model_module_version": "1.5.0",
            "_view_count": null,
            "_view_module_version": "1.2.0",
            "_model_module": "@jupyter-widgets/controls"
          }
        },
        "99b24b94316a49f7a2af9b3b32a3a928": {
          "model_module": "@jupyter-widgets/base",
          "model_name": "LayoutModel",
          "state": {
            "_view_name": "LayoutView",
            "grid_template_rows": null,
            "right": null,
            "justify_content": null,
            "_view_module": "@jupyter-widgets/base",
            "overflow": null,
            "_model_module_version": "1.2.0",
            "_view_count": null,
            "flex_flow": null,
            "width": null,
            "min_width": null,
            "border": null,
            "align_items": null,
            "bottom": null,
            "_model_module": "@jupyter-widgets/base",
            "top": null,
            "grid_column": null,
            "overflow_y": null,
            "overflow_x": null,
            "grid_auto_flow": null,
            "grid_area": null,
            "grid_template_columns": null,
            "flex": null,
            "_model_name": "LayoutModel",
            "justify_items": null,
            "grid_row": null,
            "max_height": null,
            "align_content": null,
            "visibility": null,
            "align_self": null,
            "height": null,
            "min_height": null,
            "padding": null,
            "grid_auto_rows": null,
            "grid_gap": null,
            "max_width": null,
            "order": null,
            "_view_module_version": "1.2.0",
            "grid_template_areas": null,
            "object_position": null,
            "object_fit": null,
            "grid_auto_columns": null,
            "margin": null,
            "display": null,
            "left": null
          }
        },
        "2854ed4ab84e448693fbffbdb1a3a7a0": {
          "model_module": "@jupyter-widgets/controls",
          "model_name": "HBoxModel",
          "state": {
            "_view_name": "HBoxView",
            "_dom_classes": [],
            "_model_name": "HBoxModel",
            "_view_module": "@jupyter-widgets/controls",
            "_model_module_version": "1.5.0",
            "_view_count": null,
            "_view_module_version": "1.5.0",
            "box_style": "",
            "layout": "IPY_MODEL_6f13e12b8c0b4ddb9b4597036989f375",
            "_model_module": "@jupyter-widgets/controls",
            "children": [
              "IPY_MODEL_8c336fbb870d4378bdb7fa2e81a2f9d6",
              "IPY_MODEL_c1aeb093f455451d962691bf01723122"
            ]
          }
        },
        "6f13e12b8c0b4ddb9b4597036989f375": {
          "model_module": "@jupyter-widgets/base",
          "model_name": "LayoutModel",
          "state": {
            "_view_name": "LayoutView",
            "grid_template_rows": null,
            "right": null,
            "justify_content": null,
            "_view_module": "@jupyter-widgets/base",
            "overflow": null,
            "_model_module_version": "1.2.0",
            "_view_count": null,
            "flex_flow": null,
            "width": null,
            "min_width": null,
            "border": null,
            "align_items": null,
            "bottom": null,
            "_model_module": "@jupyter-widgets/base",
            "top": null,
            "grid_column": null,
            "overflow_y": null,
            "overflow_x": null,
            "grid_auto_flow": null,
            "grid_area": null,
            "grid_template_columns": null,
            "flex": null,
            "_model_name": "LayoutModel",
            "justify_items": null,
            "grid_row": null,
            "max_height": null,
            "align_content": null,
            "visibility": null,
            "align_self": null,
            "height": null,
            "min_height": null,
            "padding": null,
            "grid_auto_rows": null,
            "grid_gap": null,
            "max_width": null,
            "order": null,
            "_view_module_version": "1.2.0",
            "grid_template_areas": null,
            "object_position": null,
            "object_fit": null,
            "grid_auto_columns": null,
            "margin": null,
            "display": null,
            "left": null
          }
        },
        "8c336fbb870d4378bdb7fa2e81a2f9d6": {
          "model_module": "@jupyter-widgets/controls",
          "model_name": "IntProgressModel",
          "state": {
            "_view_name": "ProgressView",
            "style": "IPY_MODEL_22da9183845a4d56b8d463bb06b6015c",
            "_dom_classes": [],
            "description": "100%",
            "_model_name": "IntProgressModel",
            "bar_style": "success",
            "max": 26305,
            "_view_module": "@jupyter-widgets/controls",
            "_model_module_version": "1.5.0",
            "value": 26305,
            "_view_count": null,
            "_view_module_version": "1.5.0",
            "orientation": "horizontal",
            "min": 0,
            "description_tooltip": null,
            "_model_module": "@jupyter-widgets/controls",
            "layout": "IPY_MODEL_495b87f8858f4ca8be1f022b880b75f8"
          }
        },
        "c1aeb093f455451d962691bf01723122": {
          "model_module": "@jupyter-widgets/controls",
          "model_name": "HTMLModel",
          "state": {
            "_view_name": "HTMLView",
            "style": "IPY_MODEL_b044aa4c701d4d14a85bcd04e5271710",
            "_dom_classes": [],
            "description": "",
            "_model_name": "HTMLModel",
            "placeholder": "​",
            "_view_module": "@jupyter-widgets/controls",
            "_model_module_version": "1.5.0",
            "value": " 26305/26305 [41:41&lt;00:00, 10.51it/s]",
            "_view_count": null,
            "_view_module_version": "1.5.0",
            "description_tooltip": null,
            "_model_module": "@jupyter-widgets/controls",
            "layout": "IPY_MODEL_a76dff1a387a4814bd327b1b9fe7a7e2"
          }
        },
        "22da9183845a4d56b8d463bb06b6015c": {
          "model_module": "@jupyter-widgets/controls",
          "model_name": "ProgressStyleModel",
          "state": {
            "_view_name": "StyleView",
            "_model_name": "ProgressStyleModel",
            "description_width": "initial",
            "_view_module": "@jupyter-widgets/base",
            "_model_module_version": "1.5.0",
            "_view_count": null,
            "_view_module_version": "1.2.0",
            "bar_color": null,
            "_model_module": "@jupyter-widgets/controls"
          }
        },
        "495b87f8858f4ca8be1f022b880b75f8": {
          "model_module": "@jupyter-widgets/base",
          "model_name": "LayoutModel",
          "state": {
            "_view_name": "LayoutView",
            "grid_template_rows": null,
            "right": null,
            "justify_content": null,
            "_view_module": "@jupyter-widgets/base",
            "overflow": null,
            "_model_module_version": "1.2.0",
            "_view_count": null,
            "flex_flow": null,
            "width": null,
            "min_width": null,
            "border": null,
            "align_items": null,
            "bottom": null,
            "_model_module": "@jupyter-widgets/base",
            "top": null,
            "grid_column": null,
            "overflow_y": null,
            "overflow_x": null,
            "grid_auto_flow": null,
            "grid_area": null,
            "grid_template_columns": null,
            "flex": null,
            "_model_name": "LayoutModel",
            "justify_items": null,
            "grid_row": null,
            "max_height": null,
            "align_content": null,
            "visibility": null,
            "align_self": null,
            "height": null,
            "min_height": null,
            "padding": null,
            "grid_auto_rows": null,
            "grid_gap": null,
            "max_width": null,
            "order": null,
            "_view_module_version": "1.2.0",
            "grid_template_areas": null,
            "object_position": null,
            "object_fit": null,
            "grid_auto_columns": null,
            "margin": null,
            "display": null,
            "left": null
          }
        },
        "b044aa4c701d4d14a85bcd04e5271710": {
          "model_module": "@jupyter-widgets/controls",
          "model_name": "DescriptionStyleModel",
          "state": {
            "_view_name": "StyleView",
            "_model_name": "DescriptionStyleModel",
            "description_width": "",
            "_view_module": "@jupyter-widgets/base",
            "_model_module_version": "1.5.0",
            "_view_count": null,
            "_view_module_version": "1.2.0",
            "_model_module": "@jupyter-widgets/controls"
          }
        },
        "a76dff1a387a4814bd327b1b9fe7a7e2": {
          "model_module": "@jupyter-widgets/base",
          "model_name": "LayoutModel",
          "state": {
            "_view_name": "LayoutView",
            "grid_template_rows": null,
            "right": null,
            "justify_content": null,
            "_view_module": "@jupyter-widgets/base",
            "overflow": null,
            "_model_module_version": "1.2.0",
            "_view_count": null,
            "flex_flow": null,
            "width": null,
            "min_width": null,
            "border": null,
            "align_items": null,
            "bottom": null,
            "_model_module": "@jupyter-widgets/base",
            "top": null,
            "grid_column": null,
            "overflow_y": null,
            "overflow_x": null,
            "grid_auto_flow": null,
            "grid_area": null,
            "grid_template_columns": null,
            "flex": null,
            "_model_name": "LayoutModel",
            "justify_items": null,
            "grid_row": null,
            "max_height": null,
            "align_content": null,
            "visibility": null,
            "align_self": null,
            "height": null,
            "min_height": null,
            "padding": null,
            "grid_auto_rows": null,
            "grid_gap": null,
            "max_width": null,
            "order": null,
            "_view_module_version": "1.2.0",
            "grid_template_areas": null,
            "object_position": null,
            "object_fit": null,
            "grid_auto_columns": null,
            "margin": null,
            "display": null,
            "left": null
          }
        },
        "7f80b705b7084e1a8b09ec4c0397e211": {
          "model_module": "@jupyter-widgets/controls",
          "model_name": "HBoxModel",
          "state": {
            "_view_name": "HBoxView",
            "_dom_classes": [],
            "_model_name": "HBoxModel",
            "_view_module": "@jupyter-widgets/controls",
            "_model_module_version": "1.5.0",
            "_view_count": null,
            "_view_module_version": "1.5.0",
            "box_style": "",
            "layout": "IPY_MODEL_a0b60c11993445ac8d0f3d9d48c1abb7",
            "_model_module": "@jupyter-widgets/controls",
            "children": [
              "IPY_MODEL_71a394c52d2542a19dc1905f4f284ab2",
              "IPY_MODEL_1a0bdbadf9f24ff9a72ec436441af087"
            ]
          }
        },
        "a0b60c11993445ac8d0f3d9d48c1abb7": {
          "model_module": "@jupyter-widgets/base",
          "model_name": "LayoutModel",
          "state": {
            "_view_name": "LayoutView",
            "grid_template_rows": null,
            "right": null,
            "justify_content": null,
            "_view_module": "@jupyter-widgets/base",
            "overflow": null,
            "_model_module_version": "1.2.0",
            "_view_count": null,
            "flex_flow": null,
            "width": null,
            "min_width": null,
            "border": null,
            "align_items": null,
            "bottom": null,
            "_model_module": "@jupyter-widgets/base",
            "top": null,
            "grid_column": null,
            "overflow_y": null,
            "overflow_x": null,
            "grid_auto_flow": null,
            "grid_area": null,
            "grid_template_columns": null,
            "flex": null,
            "_model_name": "LayoutModel",
            "justify_items": null,
            "grid_row": null,
            "max_height": null,
            "align_content": null,
            "visibility": null,
            "align_self": null,
            "height": null,
            "min_height": null,
            "padding": null,
            "grid_auto_rows": null,
            "grid_gap": null,
            "max_width": null,
            "order": null,
            "_view_module_version": "1.2.0",
            "grid_template_areas": null,
            "object_position": null,
            "object_fit": null,
            "grid_auto_columns": null,
            "margin": null,
            "display": null,
            "left": null
          }
        },
        "71a394c52d2542a19dc1905f4f284ab2": {
          "model_module": "@jupyter-widgets/controls",
          "model_name": "IntProgressModel",
          "state": {
            "_view_name": "ProgressView",
            "style": "IPY_MODEL_d0055028ba574a479789a7e351c5cac3",
            "_dom_classes": [],
            "description": "100%",
            "_model_name": "IntProgressModel",
            "bar_style": "success",
            "max": 26305,
            "_view_module": "@jupyter-widgets/controls",
            "_model_module_version": "1.5.0",
            "value": 26305,
            "_view_count": null,
            "_view_module_version": "1.5.0",
            "orientation": "horizontal",
            "min": 0,
            "description_tooltip": null,
            "_model_module": "@jupyter-widgets/controls",
            "layout": "IPY_MODEL_aceea53b0f5645c8a1af2234b6e98de8"
          }
        },
        "1a0bdbadf9f24ff9a72ec436441af087": {
          "model_module": "@jupyter-widgets/controls",
          "model_name": "HTMLModel",
          "state": {
            "_view_name": "HTMLView",
            "style": "IPY_MODEL_af203880e10a4ea5b309ceb6db7d3447",
            "_dom_classes": [],
            "description": "",
            "_model_name": "HTMLModel",
            "placeholder": "​",
            "_view_module": "@jupyter-widgets/controls",
            "_model_module_version": "1.5.0",
            "value": " 26305/26305 [41:28&lt;00:00, 10.57it/s]",
            "_view_count": null,
            "_view_module_version": "1.5.0",
            "description_tooltip": null,
            "_model_module": "@jupyter-widgets/controls",
            "layout": "IPY_MODEL_a806a333e64c4da6926b54986cd53a1c"
          }
        },
        "d0055028ba574a479789a7e351c5cac3": {
          "model_module": "@jupyter-widgets/controls",
          "model_name": "ProgressStyleModel",
          "state": {
            "_view_name": "StyleView",
            "_model_name": "ProgressStyleModel",
            "description_width": "initial",
            "_view_module": "@jupyter-widgets/base",
            "_model_module_version": "1.5.0",
            "_view_count": null,
            "_view_module_version": "1.2.0",
            "bar_color": null,
            "_model_module": "@jupyter-widgets/controls"
          }
        },
        "aceea53b0f5645c8a1af2234b6e98de8": {
          "model_module": "@jupyter-widgets/base",
          "model_name": "LayoutModel",
          "state": {
            "_view_name": "LayoutView",
            "grid_template_rows": null,
            "right": null,
            "justify_content": null,
            "_view_module": "@jupyter-widgets/base",
            "overflow": null,
            "_model_module_version": "1.2.0",
            "_view_count": null,
            "flex_flow": null,
            "width": null,
            "min_width": null,
            "border": null,
            "align_items": null,
            "bottom": null,
            "_model_module": "@jupyter-widgets/base",
            "top": null,
            "grid_column": null,
            "overflow_y": null,
            "overflow_x": null,
            "grid_auto_flow": null,
            "grid_area": null,
            "grid_template_columns": null,
            "flex": null,
            "_model_name": "LayoutModel",
            "justify_items": null,
            "grid_row": null,
            "max_height": null,
            "align_content": null,
            "visibility": null,
            "align_self": null,
            "height": null,
            "min_height": null,
            "padding": null,
            "grid_auto_rows": null,
            "grid_gap": null,
            "max_width": null,
            "order": null,
            "_view_module_version": "1.2.0",
            "grid_template_areas": null,
            "object_position": null,
            "object_fit": null,
            "grid_auto_columns": null,
            "margin": null,
            "display": null,
            "left": null
          }
        },
        "af203880e10a4ea5b309ceb6db7d3447": {
          "model_module": "@jupyter-widgets/controls",
          "model_name": "DescriptionStyleModel",
          "state": {
            "_view_name": "StyleView",
            "_model_name": "DescriptionStyleModel",
            "description_width": "",
            "_view_module": "@jupyter-widgets/base",
            "_model_module_version": "1.5.0",
            "_view_count": null,
            "_view_module_version": "1.2.0",
            "_model_module": "@jupyter-widgets/controls"
          }
        },
        "a806a333e64c4da6926b54986cd53a1c": {
          "model_module": "@jupyter-widgets/base",
          "model_name": "LayoutModel",
          "state": {
            "_view_name": "LayoutView",
            "grid_template_rows": null,
            "right": null,
            "justify_content": null,
            "_view_module": "@jupyter-widgets/base",
            "overflow": null,
            "_model_module_version": "1.2.0",
            "_view_count": null,
            "flex_flow": null,
            "width": null,
            "min_width": null,
            "border": null,
            "align_items": null,
            "bottom": null,
            "_model_module": "@jupyter-widgets/base",
            "top": null,
            "grid_column": null,
            "overflow_y": null,
            "overflow_x": null,
            "grid_auto_flow": null,
            "grid_area": null,
            "grid_template_columns": null,
            "flex": null,
            "_model_name": "LayoutModel",
            "justify_items": null,
            "grid_row": null,
            "max_height": null,
            "align_content": null,
            "visibility": null,
            "align_self": null,
            "height": null,
            "min_height": null,
            "padding": null,
            "grid_auto_rows": null,
            "grid_gap": null,
            "max_width": null,
            "order": null,
            "_view_module_version": "1.2.0",
            "grid_template_areas": null,
            "object_position": null,
            "object_fit": null,
            "grid_auto_columns": null,
            "margin": null,
            "display": null,
            "left": null
          }
        }
      }
    }
  },
  "cells": [
    {
      "cell_type": "markdown",
      "metadata": {
        "id": "view-in-github",
        "colab_type": "text"
      },
      "source": [
        "<a href=\"https://colab.research.google.com/github/mrkarezina/research-heatmap/blob/master/doc2query_t5_cord19.ipynb\" target=\"_parent\"><img src=\"https://colab.research.google.com/assets/colab-badge.svg\" alt=\"Open In Colab\"/></a>"
      ]
    },
    {
      "cell_type": "markdown",
      "metadata": {
        "id": "xK2ZO_Uvd8uR",
        "colab_type": "text"
      },
      "source": [
        "# CORD-19 doc2query-T5 Experiments\n",
        "\n",
        "This notebook aims to the explore using the [doc2query-T5 model](https://github.com/castorini/docTTTTTquery#data-and-trained-models) to retrieve documents relevant to the research questions for each topic in the COVID-19 [Open Research Dataset](https://pages.semanticscholar.org/coronavirus-research)."
      ]
    },
    {
      "cell_type": "code",
      "metadata": {
        "id": "yUGQpcFoDlEq",
        "colab_type": "code",
        "colab": {}
      },
      "source": [
        "from IPython.core.display import display, HTML"
      ],
      "execution_count": 0,
      "outputs": []
    },
    {
      "cell_type": "code",
      "metadata": {
        "id": "MyG7AffcIZvQ",
        "colab_type": "code",
        "colab": {}
      },
      "source": [
        "from google.colab import drive\n",
        "drive.mount('/content/drive')"
      ],
      "execution_count": 0,
      "outputs": []
    },
    {
      "cell_type": "markdown",
      "metadata": {
        "id": "yv9HwF-glg9k",
        "colab_type": "text"
      },
      "source": [
        "## Data Loading"
      ]
    },
    {
      "cell_type": "markdown",
      "metadata": {
        "id": "xCCTK15PY8Lg",
        "colab_type": "text"
      },
      "source": [
        "First we will install dependencies and download the T5 model checkpoint. "
      ]
    },
    {
      "cell_type": "code",
      "metadata": {
        "id": "gLB2Aa8bMreV",
        "colab_type": "code",
        "colab": {}
      },
      "source": [
        "!pip install transformers\n",
        "\n",
        "# docTTTTTquery T5-base checkpoint\n",
        "!curl -o t5-base.zip \"https://storage.googleapis.com/doctttttquery_git/t5-base.zip\"\n",
        "!unzip t5-base.zip -d \"t5-model-tf\"\n",
        "!gsutil cp gs://t5-data/pretrained_models/base/operative_config.gin t5-model-tf/\n",
        "!rm t5-base.zip"
      ],
      "execution_count": 0,
      "outputs": []
    },
    {
      "cell_type": "markdown",
      "metadata": {
        "id": "Fo_y1RPXTJgJ",
        "colab_type": "text"
      },
      "source": [
        "Let's load the checkpoint of our doc2query-T5 model. We'll use the config and tokenizer from the Hugging Face T5-base model."
      ]
    },
    {
      "cell_type": "code",
      "metadata": {
        "id": "TN0kqE9XILNh",
        "colab_type": "code",
        "outputId": "341e62fa-b5e9-432b-e64c-945ee0080af7",
        "colab": {
          "base_uri": "https://localhost:8080/",
          "height": 115,
          "referenced_widgets": [
            "a5df7fd636074fedad3e71837bfd990d",
            "53ebd35837fc4afe9a63405e13b6b6c0",
            "202a9043706f4cbdbec4d74c2939191d",
            "efaecf53e29a439b9c8b1bc51b0576ba",
            "8893c4e8a0534bf488d157de6f052579",
            "97baa1f811174b37af300960af8b22a3",
            "5cd90453fb7e4a849d7285f75aef65d6",
            "e48ceddbe14746a88c792caa8355f109",
            "7c090201db36436c954ad505e33d42b9",
            "0fcd614b30f94a4fb4b8108f243148d1",
            "a711ace50dbb491eafd71a34cf4bbc88",
            "ea6e3606dbf548838ff11e361c05a9d9",
            "6663c5cef8e34bf69873fdb9780e4fca",
            "957ce979298a418ebf65ca604a7a23ac",
            "5e00d15ce2a34548b16b49d215158a4c",
            "faca295b12bd4a2fa8ccb9ccc4c9623b"
          ]
        }
      },
      "source": [
        "import torch\n",
        "from transformers import T5Tokenizer, T5Config, T5ForConditionalGeneration\n",
        "\n",
        "tokenizer = T5Tokenizer.from_pretrained('t5-base')\n",
        "config = T5Config.from_pretrained('t5-base')\n",
        "model = T5ForConditionalGeneration.from_pretrained('t5-model-tf/model.ckpt-1004000.index', from_tf=True, config=config)"
      ],
      "execution_count": 0,
      "outputs": [
        {
          "output_type": "display_data",
          "data": {
            "application/vnd.jupyter.widget-view+json": {
              "model_id": "a5df7fd636074fedad3e71837bfd990d",
              "version_minor": 0,
              "version_major": 2
            },
            "text/plain": [
              "HBox(children=(IntProgress(value=0, description='Downloading', max=791656, style=ProgressStyle(description_wid…"
            ]
          },
          "metadata": {
            "tags": []
          }
        },
        {
          "output_type": "stream",
          "text": [
            "\n"
          ],
          "name": "stdout"
        },
        {
          "output_type": "display_data",
          "data": {
            "application/vnd.jupyter.widget-view+json": {
              "model_id": "7c090201db36436c954ad505e33d42b9",
              "version_minor": 0,
              "version_major": 2
            },
            "text/plain": [
              "HBox(children=(IntProgress(value=0, description='Downloading', max=1199, style=ProgressStyle(description_width…"
            ]
          },
          "metadata": {
            "tags": []
          }
        },
        {
          "output_type": "stream",
          "text": [
            "\n"
          ],
          "name": "stdout"
        }
      ]
    },
    {
      "cell_type": "markdown",
      "metadata": {
        "id": "yRMJOAPrcOM5",
        "colab_type": "text"
      },
      "source": [
        "We can check the memory of the runtime you were allocated. Hopefully you got assigned a Tesla P100-PCIE-16GB. If you got an 8GB RAM you might run into \"CUDA out of memory error\" when running some cells."
      ]
    },
    {
      "cell_type": "code",
      "metadata": {
        "id": "rgZsTZ7GX5H5",
        "colab_type": "code",
        "outputId": "fbb8b896-7db6-4c81-ab4b-2c7cff586121",
        "colab": {
          "base_uri": "https://localhost:8080/",
          "height": 306
        }
      },
      "source": [
        "# Check for GPU\n",
        "if torch.cuda.is_available():     \n",
        "    device = torch.device(\"cuda\")\n",
        "    print('Using: ', torch.cuda.get_device_name(0))\n",
        "else:\n",
        "    print( 'No GPU available.')\n",
        "    device = torch.device(\"cpu\")\n",
        "\n",
        "model = model.to(device)\n",
        "!nvidia-smi"
      ],
      "execution_count": 0,
      "outputs": [
        {
          "output_type": "stream",
          "text": [
            "Using:  Tesla K80\n",
            "Sun Apr 26 14:11:16 2020       \n",
            "+-----------------------------------------------------------------------------+\n",
            "| NVIDIA-SMI 440.64.00    Driver Version: 418.67       CUDA Version: 10.1     |\n",
            "|-------------------------------+----------------------+----------------------+\n",
            "| GPU  Name        Persistence-M| Bus-Id        Disp.A | Volatile Uncorr. ECC |\n",
            "| Fan  Temp  Perf  Pwr:Usage/Cap|         Memory-Usage | GPU-Util  Compute M. |\n",
            "|===============================+======================+======================|\n",
            "|   0  Tesla K80           Off  | 00000000:00:04.0 Off |                    0 |\n",
            "| N/A   38C    P0    57W / 149W |   1317MiB / 11441MiB |      0%      Default |\n",
            "+-------------------------------+----------------------+----------------------+\n",
            "                                                                               \n",
            "+-----------------------------------------------------------------------------+\n",
            "| Processes:                                                       GPU Memory |\n",
            "|  GPU       PID   Type   Process name                             Usage      |\n",
            "|=============================================================================|\n",
            "+-----------------------------------------------------------------------------+\n"
          ],
          "name": "stdout"
        }
      ]
    },
    {
      "cell_type": "markdown",
      "metadata": {
        "id": "jjzdcBevl6N-",
        "colab_type": "text"
      },
      "source": [
        "### Loading CORD-19"
      ]
    },
    {
      "cell_type": "markdown",
      "metadata": {
        "id": "7uOZnzeHrjD7",
        "colab_type": "text"
      },
      "source": [
        "We will also need to download the CORD-19 dataset."
      ]
    },
    {
      "cell_type": "code",
      "metadata": {
        "id": "R_AABV2zxx_h",
        "colab_type": "code",
        "colab": {}
      },
      "source": [
        "%%capture\n",
        "%%shell\n",
        "DATE=2020-04-10\n",
        "DATA_DIR=./covid-\"${DATE}\"\n",
        "mkdir \"${DATA_DIR}\"\n",
        "\n",
        "wget https://ai2-semanticscholar-cord-19.s3-us-west-2.amazonaws.com/\"${DATE}\"/comm_use_subset.tar.gz -P \"${DATA_DIR}\"\n",
        "wget https://ai2-semanticscholar-cord-19.s3-us-west-2.amazonaws.com/\"${DATE}\"/noncomm_use_subset.tar.gz -P \"${DATA_DIR}\"\n",
        "wget https://ai2-semanticscholar-cord-19.s3-us-west-2.amazonaws.com/\"${DATE}\"/custom_license.tar.gz -P \"${DATA_DIR}\"\n",
        "wget https://ai2-semanticscholar-cord-19.s3-us-west-2.amazonaws.com/\"${DATE}\"/biorxiv_medrxiv.tar.gz -P \"${DATA_DIR}\"\n",
        "wget https://ai2-semanticscholar-cord-19.s3-us-west-2.amazonaws.com/\"${DATE}\"/metadata.csv -P \"${DATA_DIR}\"\n",
        "\n",
        "ls \"${DATA_DIR}\"/*.tar.gz | xargs -I {} tar -zxvf {} -C \"${DATA_DIR}\""
      ],
      "execution_count": 0,
      "outputs": []
    },
    {
      "cell_type": "markdown",
      "metadata": {
        "id": "MsCgJxf8Hpf3",
        "colab_type": "text"
      },
      "source": [
        "We'll need to load the JSON documents into dataframe. The following preprocessing script is adapted from https://www.kaggle.com/maksimeren/covid-19-literature-clustering"
      ]
    },
    {
      "cell_type": "code",
      "metadata": {
        "id": "Hsf99XROH0c3",
        "colab_type": "code",
        "colab": {}
      },
      "source": [
        "import numpy as np\n",
        "import pandas as pd\n",
        "import glob\n",
        "import json"
      ],
      "execution_count": 0,
      "outputs": []
    },
    {
      "cell_type": "markdown",
      "metadata": {
        "id": "ExsDQVXPKxEQ",
        "colab_type": "text"
      },
      "source": [
        "Load all json documents."
      ]
    },
    {
      "cell_type": "code",
      "metadata": {
        "id": "vtIx5g4DIGqA",
        "colab_type": "code",
        "outputId": "2d302d96-1f6f-469f-fe65-485dee9019df",
        "colab": {
          "base_uri": "https://localhost:8080/",
          "height": 35
        }
      },
      "source": [
        "root_path='./covid-2020-04-10'\n",
        "all_json = glob.glob(f'{root_path}/**/*.json', recursive=True)\n",
        "len(all_json)"
      ],
      "execution_count": 0,
      "outputs": [
        {
          "output_type": "execute_result",
          "data": {
            "text/plain": [
              "59311"
            ]
          },
          "metadata": {
            "tags": []
          },
          "execution_count": 7
        }
      ]
    },
    {
      "cell_type": "markdown",
      "metadata": {
        "id": "GKvTj_TgKsNc",
        "colab_type": "text"
      },
      "source": [
        "Load meta-data."
      ]
    },
    {
      "cell_type": "code",
      "metadata": {
        "id": "HWN6yry8Kn7p",
        "colab_type": "code",
        "outputId": "a2eba9fa-83eb-4947-a9aa-3980160a6af0",
        "colab": {
          "base_uri": "https://localhost:8080/",
          "height": 666
        }
      },
      "source": [
        "metadata_path = f'{root_path}/metadata.csv'\n",
        "meta_df = pd.read_csv(metadata_path, dtype={\n",
        "    'pubmed_id': str,\n",
        "    'Microsoft Academic Paper ID': str, \n",
        "    'doi': str\n",
        "})\n",
        "meta_df.head()"
      ],
      "execution_count": 0,
      "outputs": [
        {
          "output_type": "execute_result",
          "data": {
            "text/html": [
              "<div>\n",
              "<style scoped>\n",
              "    .dataframe tbody tr th:only-of-type {\n",
              "        vertical-align: middle;\n",
              "    }\n",
              "\n",
              "    .dataframe tbody tr th {\n",
              "        vertical-align: top;\n",
              "    }\n",
              "\n",
              "    .dataframe thead th {\n",
              "        text-align: right;\n",
              "    }\n",
              "</style>\n",
              "<table border=\"1\" class=\"dataframe\">\n",
              "  <thead>\n",
              "    <tr style=\"text-align: right;\">\n",
              "      <th></th>\n",
              "      <th>cord_uid</th>\n",
              "      <th>sha</th>\n",
              "      <th>source_x</th>\n",
              "      <th>title</th>\n",
              "      <th>doi</th>\n",
              "      <th>pmcid</th>\n",
              "      <th>pubmed_id</th>\n",
              "      <th>license</th>\n",
              "      <th>abstract</th>\n",
              "      <th>publish_time</th>\n",
              "      <th>authors</th>\n",
              "      <th>journal</th>\n",
              "      <th>Microsoft Academic Paper ID</th>\n",
              "      <th>WHO #Covidence</th>\n",
              "      <th>has_pdf_parse</th>\n",
              "      <th>has_pmc_xml_parse</th>\n",
              "      <th>full_text_file</th>\n",
              "      <th>url</th>\n",
              "    </tr>\n",
              "  </thead>\n",
              "  <tbody>\n",
              "    <tr>\n",
              "      <th>0</th>\n",
              "      <td>xqhn0vbp</td>\n",
              "      <td>1e1286db212100993d03cc22374b624f7caee956</td>\n",
              "      <td>PMC</td>\n",
              "      <td>Airborne rhinovirus detection and effect of ul...</td>\n",
              "      <td>10.1186/1471-2458-3-5</td>\n",
              "      <td>PMC140314</td>\n",
              "      <td>12525263</td>\n",
              "      <td>no-cc</td>\n",
              "      <td>BACKGROUND: Rhinovirus, the most common cause ...</td>\n",
              "      <td>2003-01-13</td>\n",
              "      <td>Myatt, Theodore A; Johnston, Sebastian L; Rudn...</td>\n",
              "      <td>BMC Public Health</td>\n",
              "      <td>NaN</td>\n",
              "      <td>NaN</td>\n",
              "      <td>True</td>\n",
              "      <td>True</td>\n",
              "      <td>custom_license</td>\n",
              "      <td>https://www.ncbi.nlm.nih.gov/pmc/articles/PMC1...</td>\n",
              "    </tr>\n",
              "    <tr>\n",
              "      <th>1</th>\n",
              "      <td>gi6uaa83</td>\n",
              "      <td>8ae137c8da1607b3a8e4c946c07ca8bda67f88ac</td>\n",
              "      <td>PMC</td>\n",
              "      <td>Discovering human history from stomach bacteria</td>\n",
              "      <td>10.1186/gb-2003-4-5-213</td>\n",
              "      <td>PMC156578</td>\n",
              "      <td>12734001</td>\n",
              "      <td>no-cc</td>\n",
              "      <td>Recent analyses of human pathogens have reveal...</td>\n",
              "      <td>2003-04-28</td>\n",
              "      <td>Disotell, Todd R</td>\n",
              "      <td>Genome Biol</td>\n",
              "      <td>NaN</td>\n",
              "      <td>NaN</td>\n",
              "      <td>True</td>\n",
              "      <td>True</td>\n",
              "      <td>custom_license</td>\n",
              "      <td>https://www.ncbi.nlm.nih.gov/pmc/articles/PMC1...</td>\n",
              "    </tr>\n",
              "    <tr>\n",
              "      <th>2</th>\n",
              "      <td>le0ogx1s</td>\n",
              "      <td>NaN</td>\n",
              "      <td>PMC</td>\n",
              "      <td>A new recruit for the army of the men of death</td>\n",
              "      <td>10.1186/gb-2003-4-7-113</td>\n",
              "      <td>PMC193621</td>\n",
              "      <td>12844350</td>\n",
              "      <td>no-cc</td>\n",
              "      <td>The army of the men of death, in John Bunyan's...</td>\n",
              "      <td>2003-06-27</td>\n",
              "      <td>Petsko, Gregory A</td>\n",
              "      <td>Genome Biol</td>\n",
              "      <td>NaN</td>\n",
              "      <td>NaN</td>\n",
              "      <td>False</td>\n",
              "      <td>True</td>\n",
              "      <td>custom_license</td>\n",
              "      <td>https://www.ncbi.nlm.nih.gov/pmc/articles/PMC1...</td>\n",
              "    </tr>\n",
              "    <tr>\n",
              "      <th>3</th>\n",
              "      <td>fy4w7xz8</td>\n",
              "      <td>0104f6ceccf92ae8567a0102f89cbb976969a774</td>\n",
              "      <td>PMC</td>\n",
              "      <td>Association of HLA class I with severe acute r...</td>\n",
              "      <td>10.1186/1471-2350-4-9</td>\n",
              "      <td>PMC212558</td>\n",
              "      <td>12969506</td>\n",
              "      <td>no-cc</td>\n",
              "      <td>BACKGROUND: The human leukocyte antigen (HLA) ...</td>\n",
              "      <td>2003-09-12</td>\n",
              "      <td>Lin, Marie; Tseng, Hsiang-Kuang; Trejaut, Jean...</td>\n",
              "      <td>BMC Med Genet</td>\n",
              "      <td>NaN</td>\n",
              "      <td>NaN</td>\n",
              "      <td>True</td>\n",
              "      <td>True</td>\n",
              "      <td>custom_license</td>\n",
              "      <td>https://www.ncbi.nlm.nih.gov/pmc/articles/PMC2...</td>\n",
              "    </tr>\n",
              "    <tr>\n",
              "      <th>4</th>\n",
              "      <td>0qaoam29</td>\n",
              "      <td>5b68a553a7cbbea13472721cd1ad617d42b40c26</td>\n",
              "      <td>PMC</td>\n",
              "      <td>A double epidemic model for the SARS propagation</td>\n",
              "      <td>10.1186/1471-2334-3-19</td>\n",
              "      <td>PMC222908</td>\n",
              "      <td>12964944</td>\n",
              "      <td>no-cc</td>\n",
              "      <td>BACKGROUND: An epidemic of a Severe Acute Resp...</td>\n",
              "      <td>2003-09-10</td>\n",
              "      <td>Ng, Tuen Wai; Turinici, Gabriel; Danchin, Antoine</td>\n",
              "      <td>BMC Infect Dis</td>\n",
              "      <td>NaN</td>\n",
              "      <td>NaN</td>\n",
              "      <td>True</td>\n",
              "      <td>True</td>\n",
              "      <td>custom_license</td>\n",
              "      <td>https://www.ncbi.nlm.nih.gov/pmc/articles/PMC2...</td>\n",
              "    </tr>\n",
              "  </tbody>\n",
              "</table>\n",
              "</div>"
            ],
            "text/plain": [
              "   cord_uid  ...                                                url\n",
              "0  xqhn0vbp  ...  https://www.ncbi.nlm.nih.gov/pmc/articles/PMC1...\n",
              "1  gi6uaa83  ...  https://www.ncbi.nlm.nih.gov/pmc/articles/PMC1...\n",
              "2  le0ogx1s  ...  https://www.ncbi.nlm.nih.gov/pmc/articles/PMC1...\n",
              "3  fy4w7xz8  ...  https://www.ncbi.nlm.nih.gov/pmc/articles/PMC2...\n",
              "4  0qaoam29  ...  https://www.ncbi.nlm.nih.gov/pmc/articles/PMC2...\n",
              "\n",
              "[5 rows x 18 columns]"
            ]
          },
          "metadata": {
            "tags": []
          },
          "execution_count": 8
        }
      ]
    },
    {
      "cell_type": "code",
      "metadata": {
        "id": "n_Rk4h9CI2Ue",
        "colab_type": "code",
        "outputId": "b25ab193-31ff-44b5-a192-0fb28c57a6dd",
        "colab": {
          "base_uri": "https://localhost:8080/",
          "height": 55
        }
      },
      "source": [
        "class FileReader:\n",
        "    def __init__(self, file_path):\n",
        "        with open(file_path) as file:\n",
        "            content = json.load(file)\n",
        "            self.paper_id = content['paper_id']\n",
        "            self.abstract = []\n",
        "            self.body_text = []\n",
        "            # Dataset changed, missing abstracts don't have a key\n",
        "            try:\n",
        "              for entry in content['abstract']:\n",
        "                  self.abstract.append(entry['text'])\n",
        "            except KeyError as e:\n",
        "                  self.abstract.append(\"\")\n",
        "            # Body text\n",
        "            for entry in content['body_text']:\n",
        "                self.body_text.append(entry['text'])\n",
        "            self.abstract = '\\n'.join(self.abstract)\n",
        "            self.body_text = '\\n'.join(self.body_text)\n",
        "    def __repr__(self):\n",
        "        return f'{self.paper_id}: {self.abstract[:200]}... {self.body_text[:200]}...'\n",
        "\n",
        "def get_breaks(content, length):\n",
        "    data = \"\"\n",
        "    words = content.split(' ')\n",
        "    total_chars = 0\n",
        "\n",
        "    # add break every length characters\n",
        "    for i in range(len(words)):\n",
        "        total_chars += len(words[i])\n",
        "        if total_chars > length:\n",
        "            data = data + \"<br>\" + words[i]\n",
        "            total_chars = 0\n",
        "        else:\n",
        "            data = data + \" \" + words[i]\n",
        "    return data\n",
        "\n",
        "first_row = FileReader(all_json[0])\n",
        "print(first_row)"
      ],
      "execution_count": 0,
      "outputs": [
        {
          "output_type": "stream",
          "text": [
            "bdaa40d95b82093f60a1c5ac8b798d67cef3a52b: Here we propose a vaccination strategy for SARS-CoV-2 based on identification of both highly conserved regions of the virus and newly acquired adaptations that are presented by MHC class I and II acro... The current SARS-CoV-2 pandemic has precipitated an urgent need to rapidly develop and deploy a safe and effective vaccine. Optimally designed vaccines maximize immunogenicity towards regions of prote...\n"
          ],
          "name": "stdout"
        }
      ]
    },
    {
      "cell_type": "markdown",
      "metadata": {
        "id": "GTaSO__1KVXJ",
        "colab_type": "text"
      },
      "source": [
        "Load all of the documents including full body text into dataframe."
      ]
    },
    {
      "cell_type": "code",
      "metadata": {
        "id": "TIuB-SskJ2R-",
        "colab_type": "code",
        "outputId": "a40be5b4-f3b3-48c0-fefc-6c346777410d",
        "colab": {
          "base_uri": "https://localhost:8080/",
          "height": 424,
          "referenced_widgets": [
            "edf60b1c27ca4a21bea15daca8a7deaa",
            "9b6f16670a1f40dbb861988eb4368b89",
            "aaca383f7bf147ab85a2517e0c854637",
            "342acf6155f146e0a9557c5010d36b02",
            "6fc0dd42b3c74ff0b95d24575045785c",
            "5447135c74f94ab6beee802b6c586d9b",
            "d96a99078301455cb1dbb691db8c6d43",
            "c07d709307b041d4852f6bc078142f26"
          ]
        }
      },
      "source": [
        "from tqdm.notebook import tqdm\n",
        "\n",
        "dict_ = {'paper_id': [], 'doi':[], 'abstract': [], 'body_text': [], 'authors': [], 'title': [], 'journal': [], 'abstract_summary': []}\n",
        "for entry in tqdm(all_json):\n",
        "    \n",
        "    try:\n",
        "        content = FileReader(entry)\n",
        "    except Exception as e:\n",
        "        continue  # invalid paper format, skip\n",
        "    \n",
        "    # get metadata information\n",
        "    meta_data = meta_df.loc[meta_df['sha'] == content.paper_id]\n",
        "    # no metadata, skip this paper\n",
        "    if len(meta_data) == 0:\n",
        "        continue\n",
        "    \n",
        "    dict_['abstract'].append(content.abstract)\n",
        "    dict_['paper_id'].append(content.paper_id)\n",
        "    dict_['body_text'].append(content.body_text)\n",
        "    \n",
        "    # also create a column for the summary of abstract to be used in a plot\n",
        "    if len(content.abstract) == 0: \n",
        "        # no abstract provided\n",
        "        dict_['abstract_summary'].append(\"Not provided.\")\n",
        "    elif len(content.abstract.split(' ')) > 100:\n",
        "        # abstract provided is too long for plot, take first 300 words append with ...\n",
        "        info = content.abstract.split(' ')[:100]\n",
        "        summary = get_breaks(' '.join(info), 40)\n",
        "        dict_['abstract_summary'].append(summary + \"...\")\n",
        "    else:\n",
        "        # abstract is short enough\n",
        "        summary = get_breaks(content.abstract, 40)\n",
        "        dict_['abstract_summary'].append(summary)\n",
        "        \n",
        "    # get metadata information\n",
        "    meta_data = meta_df.loc[meta_df['sha'] == content.paper_id]\n",
        "    \n",
        "    try:\n",
        "        # if more than one author\n",
        "        authors = meta_data['authors'].values[0].split(';')\n",
        "        if len(authors) > 2:\n",
        "            # more than 2 authors, may be problem when plotting, so take first 2 append with ...\n",
        "            dict_['authors'].append(get_breaks('. '.join(authors), 40))\n",
        "        else:\n",
        "                # authors will fit in plot\n",
        "                dict_['authors'].append(\". \".join(authors))\n",
        "    except Exception as e:\n",
        "        # if only one author - or Null valie\n",
        "        dict_['authors'].append(meta_data['authors'].values[0])\n",
        "    \n",
        "    # add the title information, add breaks when needed\n",
        "    try:\n",
        "        title = get_breaks(meta_data['title'].values[0], 40)\n",
        "        dict_['title'].append(title)\n",
        "    # if title was not provided\n",
        "    except Exception as e:\n",
        "        dict_['title'].append(meta_data['title'].values[0])\n",
        "    \n",
        "    # add the journal information\n",
        "    dict_['journal'].append(meta_data['journal'].values[0])\n",
        "    \n",
        "    # add doi\n",
        "    dict_['doi'].append(meta_data['doi'].values[0])\n",
        "    \n",
        "df_covid = pd.DataFrame(dict_, columns=['paper_id', 'doi', 'abstract', 'body_text', 'authors', 'title', 'journal', 'abstract_summary'])\n",
        "df_covid.head()"
      ],
      "execution_count": 0,
      "outputs": [
        {
          "output_type": "display_data",
          "data": {
            "application/vnd.jupyter.widget-view+json": {
              "model_id": "edf60b1c27ca4a21bea15daca8a7deaa",
              "version_minor": 0,
              "version_major": 2
            },
            "text/plain": [
              "HBox(children=(IntProgress(value=0, max=59311), HTML(value='')))"
            ]
          },
          "metadata": {
            "tags": []
          }
        },
        {
          "output_type": "stream",
          "text": [
            "\n"
          ],
          "name": "stdout"
        },
        {
          "output_type": "execute_result",
          "data": {
            "text/html": [
              "<div>\n",
              "<style scoped>\n",
              "    .dataframe tbody tr th:only-of-type {\n",
              "        vertical-align: middle;\n",
              "    }\n",
              "\n",
              "    .dataframe tbody tr th {\n",
              "        vertical-align: top;\n",
              "    }\n",
              "\n",
              "    .dataframe thead th {\n",
              "        text-align: right;\n",
              "    }\n",
              "</style>\n",
              "<table border=\"1\" class=\"dataframe\">\n",
              "  <thead>\n",
              "    <tr style=\"text-align: right;\">\n",
              "      <th></th>\n",
              "      <th>paper_id</th>\n",
              "      <th>doi</th>\n",
              "      <th>abstract</th>\n",
              "      <th>body_text</th>\n",
              "      <th>authors</th>\n",
              "      <th>title</th>\n",
              "      <th>journal</th>\n",
              "      <th>abstract_summary</th>\n",
              "    </tr>\n",
              "  </thead>\n",
              "  <tbody>\n",
              "    <tr>\n",
              "      <th>0</th>\n",
              "      <td>bdaa40d95b82093f60a1c5ac8b798d67cef3a52b</td>\n",
              "      <td>10.1101/2020.03.31.018978</td>\n",
              "      <td>Here we propose a vaccination strategy for SAR...</td>\n",
              "      <td>The current SARS-CoV-2 pandemic has precipitat...</td>\n",
              "      <td>Mark Yarmarkovich.  John M. Warrington.  Alvi...</td>\n",
              "      <td>A SARS-CoV-2 Vaccination Strategy Focused on&lt;...</td>\n",
              "      <td>NaN</td>\n",
              "      <td>Here we propose a vaccination strategy for&lt;br...</td>\n",
              "    </tr>\n",
              "    <tr>\n",
              "      <th>1</th>\n",
              "      <td>00340eea543336d54adda18236424de6a5e91c9d</td>\n",
              "      <td>10.1101/2020.03.16.20034470</td>\n",
              "      <td>During the past three months, a new coronaviru...</td>\n",
              "      <td>In December 2019, a novel coronavirus, SARS-Co...</td>\n",
              "      <td>Carla Mavian.  Simone Marini.  Costanza Manes...</td>\n",
              "      <td>Regaining perspective on SARS-CoV-2&lt;br&gt;molecu...</td>\n",
              "      <td>NaN</td>\n",
              "      <td>During the past three months, a new coronavir...</td>\n",
              "    </tr>\n",
              "    <tr>\n",
              "      <th>2</th>\n",
              "      <td>2ea102f58147dab02e4dea90eb90dbc67149f678</td>\n",
              "      <td>10.1101/2020.02.29.971101</td>\n",
              "      <td>The 2019 novel coronavirus (2019-nCoV or SARS-...</td>\n",
              "      <td>A new coronavirus, named the Novel Coronavirus...</td>\n",
              "      <td>Aiping Wu.  Peihua Niu.  Lulan Wang.  Hangyu ...</td>\n",
              "      <td>Mutations, Recombination and Insertion in the...</td>\n",
              "      <td>NaN</td>\n",
              "      <td>The 2019 novel coronavirus (2019-nCoV or&lt;br&gt;S...</td>\n",
              "    </tr>\n",
              "    <tr>\n",
              "      <th>3</th>\n",
              "      <td>132837acbb324a3845909b6482b90045b25519ca</td>\n",
              "      <td>10.1101/2020.03.24.20042168</td>\n",
              "      <td>On January 23, 2020, China imposed a quarantin...</td>\n",
              "      <td>On December 31, 2019, China reported to the co...</td>\n",
              "      <td>Gustavo Cruz-Pacheco.  Fernando J&lt;br&gt;Bustaman...</td>\n",
              "      <td>Dispersion of a new coronavirus SARS-CoV-2 by...</td>\n",
              "      <td>NaN</td>\n",
              "      <td>On January 23, 2020, China imposed a quaranti...</td>\n",
              "    </tr>\n",
              "    <tr>\n",
              "      <th>4</th>\n",
              "      <td>073d74442e2655d79b0b3f764a627ec667ad422c</td>\n",
              "      <td>10.1101/2020.03.08.20032946</td>\n",
              "      <td>The newly emergent human virus SARS-CoV-2 is r...</td>\n",
              "      <td>Environmental transmission: transmission via c...</td>\n",
              "      <td>Luca Ferretti.  Chris Wymant.  Michelle&lt;br&gt;Ke...</td>\n",
              "      <td>Quantifying dynamics of SARS-CoV-2&lt;br&gt;transmi...</td>\n",
              "      <td>NaN</td>\n",
              "      <td>The newly emergent human virus SARS-CoV-2 is&lt;...</td>\n",
              "    </tr>\n",
              "  </tbody>\n",
              "</table>\n",
              "</div>"
            ],
            "text/plain": [
              "                                   paper_id  ...                                   abstract_summary\n",
              "0  bdaa40d95b82093f60a1c5ac8b798d67cef3a52b  ...   Here we propose a vaccination strategy for<br...\n",
              "1  00340eea543336d54adda18236424de6a5e91c9d  ...   During the past three months, a new coronavir...\n",
              "2  2ea102f58147dab02e4dea90eb90dbc67149f678  ...   The 2019 novel coronavirus (2019-nCoV or<br>S...\n",
              "3  132837acbb324a3845909b6482b90045b25519ca  ...   On January 23, 2020, China imposed a quaranti...\n",
              "4  073d74442e2655d79b0b3f764a627ec667ad422c  ...   The newly emergent human virus SARS-CoV-2 is<...\n",
              "\n",
              "[5 rows x 8 columns]"
            ]
          },
          "metadata": {
            "tags": []
          },
          "execution_count": 10
        }
      ]
    },
    {
      "cell_type": "code",
      "metadata": {
        "id": "T1bM9QSnjdmV",
        "colab_type": "code",
        "outputId": "9a6c249d-e8d6-42dd-b564-f03ef7523c5f",
        "colab": {
          "base_uri": "https://localhost:8080/",
          "height": 35
        }
      },
      "source": [
        "# Drop empty abstracts\n",
        "df_covid['abstract'].replace('', np.nan, inplace=True)\n",
        "df_covid = df_covid[df_covid['abstract'].notna()]\n",
        "\n",
        "df_covid.shape"
      ],
      "execution_count": 0,
      "outputs": [
        {
          "output_type": "execute_result",
          "data": {
            "text/plain": [
              "(26305, 8)"
            ]
          },
          "metadata": {
            "tags": []
          },
          "execution_count": 11
        }
      ]
    },
    {
      "cell_type": "markdown",
      "metadata": {
        "id": "IWFywO-UpCcF",
        "colab_type": "text"
      },
      "source": [
        "## Scoring CORD-19 Questions"
      ]
    },
    {
      "cell_type": "markdown",
      "metadata": {
        "id": "0kR1ZKjCLvM5",
        "colab_type": "text"
      },
      "source": [
        "In the following section we will experiment with querying different types of questions against CORD-19 documents to see if the loss scores meaningfully reflect the relevance of the question to the document."
      ]
    },
    {
      "cell_type": "code",
      "metadata": {
        "id": "DubBmr0qVYL5",
        "colab_type": "code",
        "colab": {}
      },
      "source": [
        "batch_size = 5\n",
        "# Prevent token indices sequence length is longer than the specified maximum\n",
        "max_sequence_len = 512\n",
        "\n",
        "def encode(doc):\n",
        "  return tokenizer.encode_plus(doc, max_length=max_sequence_len, return_tensors=\"pt\")[\"input_ids\"]\n",
        "\n",
        "def eval(document, questions, target_ques=None):\n",
        "  display(HTML(f\"<b>Doc Sample:</b> {document[:500]}\"))\n",
        "\n",
        "  scores = []\n",
        "  with torch.no_grad():\n",
        "    for q in questions:\n",
        "      input_ids = encode(f\"{document} </s>\")\n",
        "      question_ids = encode(f\"{q} </s>\")\n",
        "      outputs = model(input_ids.to(device),\n",
        "                      lm_labels=question_ids.to(device))\n",
        "      scores.append([outputs[0], q])\n",
        "\n",
        "  scores = sorted(scores, key=lambda x: x[0])\n",
        "  for s in scores:\n",
        "    if s[1] == target_ques:\n",
        "      display(HTML(f\"<p><b>Loss: {s[0]} Target question: {target_ques}</b></p>\"))\n",
        "    else:\n",
        "      display(HTML(f\"<p>Loss: {s[0]}  Question: {s[1]}</p>\"))"
      ],
      "execution_count": 0,
      "outputs": []
    },
    {
      "cell_type": "markdown",
      "metadata": {
        "id": "Wx4la9D2glsY",
        "colab_type": "text"
      },
      "source": [
        "To get an idea of whether the loss scores make sense we can check if relevant questions rank higher up than random ones. The loss here is the cross-entropy loss.\n",
        "\n",
        "Consider the input document denoted as \"input\" and the \"target\" labels which are the tokens in the question denoted as $(w_1, w_2, ...)$. We define the loss as:\n",
        "\n",
        "$loss = - log P(w_1 | input) - log P(w_2 | w_1, input)-log P(w_3 | w_1, w_2, input) ... P(w_i|w_{i-1}, ..., input)$\n",
        "\n",
        "where $P(w_i|w_{i-1}, ..., input)$ is the probability assigned by the model (decoder) for the word $w_i$  when fed the \"input\" document and the previously generated words $w_{i-1}, w_{i-2}, ... , w_1$. Thus, the loss reflects the probability of the model producing all the words in the question given the document as input."
      ]
    },
    {
      "cell_type": "code",
      "metadata": {
        "id": "t5S_ylFgbNkZ",
        "colab_type": "code",
        "outputId": "9adc2509-9b13-49d9-ecc3-940bd72fd4cb",
        "colab": {
          "base_uri": "https://localhost:8080/",
          "height": 598
        }
      },
      "source": [
        "# Sample queries from MS-MARCO + random questions\n",
        "questions = [\"what was the goal of the manhattan project\",\n",
        "             \"who was briefed by president on the manhattan project\", \n",
        "             \"what was the manhattan project\", \n",
        "             \"who led the development of the atomic bomb\",\n",
        "\n",
        "             # Random questions\n",
        "             \"Efforts to support sustained education, access, and capacity building in the area of ethics\",\n",
        "             \"does she like apples\",\n",
        "             \"what organs are in the pancreas\",\n",
        "             \"what is my favorite color\", \n",
        "             \"how many days until christmas\"]\n",
        "document = 'The Manhattan Project was the name for a project conducted during World War II, to develop the first atomic bomb. It refers specifically to the period of the project from 194 â¦ 2-1946 under the control of the U.S. Army Corps of Engineers, under the administration of General Leslie R. Groves.'\n",
        "eval(document, questions)\n",
        "\n",
        "print(\"\\n\")\n",
        "\n",
        "document = 'Manhattan Project. The Manhattan Project was a research and development undertaking during World War II that produced the first nuclear weapons. It was led by the United States with the support of the United Kingdom and Canada. From 1942 to 1946, the project was under the direction of Major General Leslie Groves of the U.S. Army Corps of Engineers. Nuclear physicist Robert Oppenheimer was the director of the Los Alamos Laboratory that designed the actual bombs. The Army component of the project was designated the'\n",
        "eval(document, questions)"
      ],
      "execution_count": 0,
      "outputs": [
        {
          "output_type": "display_data",
          "data": {
            "text/html": [
              "<b>Doc Sample:</b> The Manhattan Project was the name for a project conducted during World War II, to develop the first atomic bomb. It refers specifically to the period of the project from 194 â¦ 2-1946 under the control of the U.S. Army Corps of Engineers, under the administration of General Leslie R. Groves."
            ],
            "text/plain": [
              "<IPython.core.display.HTML object>"
            ]
          },
          "metadata": {
            "tags": []
          }
        },
        {
          "output_type": "display_data",
          "data": {
            "text/html": [
              "<p>Loss: 0.2148108184337616  Question: what was the manhattan project</p>"
            ],
            "text/plain": [
              "<IPython.core.display.HTML object>"
            ]
          },
          "metadata": {
            "tags": []
          }
        },
        {
          "output_type": "display_data",
          "data": {
            "text/html": [
              "<p>Loss: 0.7591424584388733  Question: what was the goal of the manhattan project</p>"
            ],
            "text/plain": [
              "<IPython.core.display.HTML object>"
            ]
          },
          "metadata": {
            "tags": []
          }
        },
        {
          "output_type": "display_data",
          "data": {
            "text/html": [
              "<p>Loss: 1.203813910484314  Question: who led the development of the atomic bomb</p>"
            ],
            "text/plain": [
              "<IPython.core.display.HTML object>"
            ]
          },
          "metadata": {
            "tags": []
          }
        },
        {
          "output_type": "display_data",
          "data": {
            "text/html": [
              "<p>Loss: 1.50172758102417  Question: who was briefed by president on the manhattan project</p>"
            ],
            "text/plain": [
              "<IPython.core.display.HTML object>"
            ]
          },
          "metadata": {
            "tags": []
          }
        },
        {
          "output_type": "display_data",
          "data": {
            "text/html": [
              "<p>Loss: 3.8086793422698975  Question: what organs are in the pancreas</p>"
            ],
            "text/plain": [
              "<IPython.core.display.HTML object>"
            ]
          },
          "metadata": {
            "tags": []
          }
        },
        {
          "output_type": "display_data",
          "data": {
            "text/html": [
              "<p>Loss: 4.6418280601501465  Question: Efforts to support sustained education, access, and capacity building in the area of ethics</p>"
            ],
            "text/plain": [
              "<IPython.core.display.HTML object>"
            ]
          },
          "metadata": {
            "tags": []
          }
        },
        {
          "output_type": "display_data",
          "data": {
            "text/html": [
              "<p>Loss: 5.021832466125488  Question: what is my favorite color</p>"
            ],
            "text/plain": [
              "<IPython.core.display.HTML object>"
            ]
          },
          "metadata": {
            "tags": []
          }
        },
        {
          "output_type": "display_data",
          "data": {
            "text/html": [
              "<p>Loss: 5.606480121612549  Question: how many days until christmas</p>"
            ],
            "text/plain": [
              "<IPython.core.display.HTML object>"
            ]
          },
          "metadata": {
            "tags": []
          }
        },
        {
          "output_type": "display_data",
          "data": {
            "text/html": [
              "<p>Loss: 7.886663913726807  Question: does she like apples</p>"
            ],
            "text/plain": [
              "<IPython.core.display.HTML object>"
            ]
          },
          "metadata": {
            "tags": []
          }
        },
        {
          "output_type": "stream",
          "text": [
            "\n",
            "\n"
          ],
          "name": "stdout"
        },
        {
          "output_type": "display_data",
          "data": {
            "text/html": [
              "<b>Doc Sample:</b> Manhattan Project. The Manhattan Project was a research and development undertaking during World War II that produced the first nuclear weapons. It was led by the United States with the support of the United Kingdom and Canada. From 1942 to 1946, the project was under the direction of Major General Leslie Groves of the U.S. Army Corps of Engineers. Nuclear physicist Robert Oppenheimer was the director of the Los Alamos Laboratory that designed the actual bombs. The Army component of the project "
            ],
            "text/plain": [
              "<IPython.core.display.HTML object>"
            ]
          },
          "metadata": {
            "tags": []
          }
        },
        {
          "output_type": "display_data",
          "data": {
            "text/html": [
              "<p>Loss: 0.27262771129608154  Question: what was the manhattan project</p>"
            ],
            "text/plain": [
              "<IPython.core.display.HTML object>"
            ]
          },
          "metadata": {
            "tags": []
          }
        },
        {
          "output_type": "display_data",
          "data": {
            "text/html": [
              "<p>Loss: 0.7963788509368896  Question: what was the goal of the manhattan project</p>"
            ],
            "text/plain": [
              "<IPython.core.display.HTML object>"
            ]
          },
          "metadata": {
            "tags": []
          }
        },
        {
          "output_type": "display_data",
          "data": {
            "text/html": [
              "<p>Loss: 1.5088268518447876  Question: who led the development of the atomic bomb</p>"
            ],
            "text/plain": [
              "<IPython.core.display.HTML object>"
            ]
          },
          "metadata": {
            "tags": []
          }
        },
        {
          "output_type": "display_data",
          "data": {
            "text/html": [
              "<p>Loss: 1.5613746643066406  Question: who was briefed by president on the manhattan project</p>"
            ],
            "text/plain": [
              "<IPython.core.display.HTML object>"
            ]
          },
          "metadata": {
            "tags": []
          }
        },
        {
          "output_type": "display_data",
          "data": {
            "text/html": [
              "<p>Loss: 3.4984641075134277  Question: what organs are in the pancreas</p>"
            ],
            "text/plain": [
              "<IPython.core.display.HTML object>"
            ]
          },
          "metadata": {
            "tags": []
          }
        },
        {
          "output_type": "display_data",
          "data": {
            "text/html": [
              "<p>Loss: 4.729489803314209  Question: Efforts to support sustained education, access, and capacity building in the area of ethics</p>"
            ],
            "text/plain": [
              "<IPython.core.display.HTML object>"
            ]
          },
          "metadata": {
            "tags": []
          }
        },
        {
          "output_type": "display_data",
          "data": {
            "text/html": [
              "<p>Loss: 5.181695938110352  Question: what is my favorite color</p>"
            ],
            "text/plain": [
              "<IPython.core.display.HTML object>"
            ]
          },
          "metadata": {
            "tags": []
          }
        },
        {
          "output_type": "display_data",
          "data": {
            "text/html": [
              "<p>Loss: 5.70741081237793  Question: how many days until christmas</p>"
            ],
            "text/plain": [
              "<IPython.core.display.HTML object>"
            ]
          },
          "metadata": {
            "tags": []
          }
        },
        {
          "output_type": "display_data",
          "data": {
            "text/html": [
              "<p>Loss: 7.977328300476074  Question: does she like apples</p>"
            ],
            "text/plain": [
              "<IPython.core.display.HTML object>"
            ]
          },
          "metadata": {
            "tags": []
          }
        }
      ]
    },
    {
      "cell_type": "markdown",
      "metadata": {
        "id": "1-qB7EXybNOo",
        "colab_type": "text"
      },
      "source": [
        "It looks like relavant queries are ranking higher. Now we can check if queries related to specific documents in the CORD-19 dataset are ranking higher than the other unrelated queries. The top document associated with each query is retreived from [Covidex](https://covidex.ai/).\n",
        "\n",
        "There are also groups of queries that are created by breaking down the long form query into more specific \"what, how, who\" questions that the doc2query-T5 model was trained on."
      ]
    },
    {
      "cell_type": "code",
      "metadata": {
        "id": "hKxMVtkXlqJy",
        "colab_type": "code",
        "outputId": "a979f80c-3eef-4916-e08a-379453ae6ae6",
        "colab": {
          "base_uri": "https://localhost:8080/",
          "height": 1000
        }
      },
      "source": [
        "questions = [\n",
        "           # Queries specific to documents\n",
        "           \"Tools and studies to monitor phenotypic change and potential adaptation of the virus\",\n",
        " \n",
        "           \"Research on the economic impact of this or any pandemic. This would include identifying policy and programmatic alternatives that lessen/mitigate risks to critical government services\",\n",
        "           \"What is the economic impact of a pandemic\",\n",
        "           \"What is the financial impact of a pandemic\",\n",
        "           \"How can the economic impact of pandemic be reduced\",\n",
        " \n",
        "           \"Real-time tracking of whole genomes and a mechanism for coordinating the rapid dissemination of that information to inform the development of diagnostics and therapeutics and to track variations of the virus over time\",\n",
        "           \"How to track the variations of the virus over time\",\n",
        "           \"How can monitoring of whole genomes help the development of diagnostics and therapeutics\",\n",
        " \n",
        "           \"Methods evaluating potential complication of Antibody-Dependent Enhancement (ADE) in vaccine recipients.\",\n",
        " \n",
        "           \"Public health mitigation measures that could be effective for control\",\n",
        " \n",
        "           \"Best telemedicine practices, barriers and facilitators, and specific actions to remove/expand them within and across state boundaries\",\n",
        "           \"What are the best practices for telemedicine\",\n",
        "           \"What are the barriers for telemedicine\",\n",
        " \n",
        " \n",
        "           # Several unrealted queries from MS-MARCO\n",
        "           \"what was the goal of the manhattan project\",\n",
        "           \"why do we use cookies at chipotle\",\n",
        "           \"who plays the team in quidditch\",\n",
        "            ]\n",
        "\n",
        "# Pairs of target query and doc\n",
        "for document in [(\"Tools and studies to monitor phenotypic change and potential adaptation of the virus\", \"Moving away from genome scan methods used for human GWAS (ultimately inappropriate for the short highly polymorphic genomes of RNA viruses), our work shows the power and potential of multi-class machine learning algorithms in inferring the functional genetic changes associated with phenotypic change (e.g. crossing a species barrier). We show that even distantly related viruses within a viral family share highly conserved genetic signatures of host specificity; reinforce how fitness landscapes of host adaptation are shaped by host phylogeny; and highlight the evolutionary trajectories of RNA viruses in rapid expansion and under great evolutionary pressure. We do so by (for each dataset) unveiling a set of phenotype characteristic mutations which are shown to be functionally relevant, thus providing new insights into phenotypic relationships between RNA viruses. These methods also provide a solid statistical framework with which the degree of host adaptation can be inferred, thus serving as a valuable tool for studying host transition events with particular relevance for emerging infectious diseases. These methods can then serve as rigorous tools of emergence potential assessment, specifically in scenarios where rapid host classification of newly emerging viruses can be more important than identifying putative functional sites.\"),\n",
        "                (\"Research on the economic impact of this or any pandemic. This would include identifying policy and programmatic alternatives that lessen/mitigate risks to critical government services\", \"Mitigation of a severe influenza pandemic can be achieved using a range of interventions to reduce transmission. Interventions can reduce the impact of an outbreak and buy time until vaccines are developed, but they may have high social and economic costs. The non-linear effect on the epidemic dynamics means that suitable strategies crucially depend on the precise aim of the intervention. National pandemic influenza plans rarely contain clear statements of policy objectives or prioritization of potentially conflicting aims, such as minimizing mortality (depending on the severity of a pandemic) or peak prevalence or limiting the socio-economic burden of contact-reducing interventions. We use epidemiological models of influenza A to investigate how contact-reducing interventions and availability of antiviral drugs or pre-pandemic vaccines contribute to achieving particular policy objectives. Our analyses show that the ideal strategy depends on the aim of an intervention and that the achievement of one policy objective may preclude success with others, e.g., constraining peak demand for public health resources may lengthen the duration of the epidemic and hence its economic and social impact. Constraining total case numbers can be achieved by a range of strategies, whereas strategies which additionally constrain peak demand for services require a more sophisticated intervention. If, for example, there are multiple objectives which must be achieved prior to the availability of a pandemic vaccine (i.e., a time-limited intervention), our analysis shows that interventions should be implemented several weeks into the epidemic, not at the very start.\"),\n",
        "             (\"Real-time tracking of whole genomes and a mechanism for coordinating the rapid dissemination of that information to inform the development of diagnostics and therapeutics and to track variations of the virus over time\", \"In recent decades, many infectious diseases have significantly increased in incidence and/or geographic range, in some cases impacting heavily on human, animal or plant populations. Some of these ‘emerging infectious diseases’ are associated with pathogens that have appeared in populations for the first time as a result of cross-species transmission (e.g. human immunodeficiency virus—acquired immunodeficiency syndrome (HIV-AIDS), severe acute respiratory syndrome (SARS)), while others were previously known but are rapidly increasing in incidence or geographic range as a result of underlying epidemiological changes (e.g. multi-drug resistant Staphylococcus aureus (MRSA) infection, dengue, West Nile encephalitis, foot and mouth disease, cassava mosaic disease). The latter include prominent diseases as tuberculosis, malaria and yellow fever that were once on the decline but are now ‘re-emerging diseases’.\"),\n",
        "             (\"Methods evaluating potential complication of Antibody-Dependent Enhancement (ADE) in vaccine recipients.\", \"Immune enhancement (antibody-dependent enhancement, ADE) has been clearly shown to occur in experimental laboratory infections of cats previously infected by natural or experimental infection, and of cats previously vaccinated with Primucell FIP vaccine, experimental MLV vaccines, experimental inactivated vaccines, and experimental recombinant vaccines containing the S gene (McArdle et al., 1992, 1995; Ngichabe, 1992; Scott et al., 1992, 1995a,b; Weiss and Scott, 1981). Antibodies to the S protein produced by the host result in enhanced infection of macrophages via Fc receptors, and the infected macrophages then transport the virus throughout the body. In the enhanced infection there is a decrease in incubation time—as short as 1–2 days—after exposure to virulent FIPV. The relative amount of virus and antibodies is important in order for ADE to occur. Higher concentrations of antibody neutralize the virus, but as the concentration of antibody decreases a concentration occurs where enhanced infection results. Other related coronaviruses can cause enhanced FCoV infection in the cat, including CCV.\"),\n",
        "                           (\"Public health mitigation measures that could be effective for control\", \"The novel coronavirus disease 2019 (COVID-19) outbreak on the Diamond Princess ship has caused over 634 cases as of February 20, 2020. We model the transmission process on the ship with a stochastic model and estimate the basic reproduction number at 2.2 (95%CI: 2.1−2.4). We estimate a large dispersion parameter than other coronaviruses, which implies that the virus is difficult to go extinction. The epidemic doubling time is at 4.6 days (95%CI: 3.0−9.3), and thus timely actions were crucial. The lesson learnt on the ship is generally applicable in other settings.\"),\n",
        "              (\"Best telemedicine practices, barriers and faciitators, and specific actions to remove/expand them within and across state boundaries\", \"Even before the arrival of COVID-19, telemedicine was increasingly being adopted to bring specialty-palliative care into the homes of seriously ill patients and their families. Patients who receive palliative care by telemedicine are typically very satisfied with the convenience and timesaving of video care. Telemedicine also saves valuable drive-time for home-visiting palliative care clinicians and increases capacity at brick-and-mortar clinics.1 With the emergence of COVID-19, telemedicine has been catapulted into the role of a critically essential service for patients to help mitigate the spread of COVID19 and preserve valuable personal protective equipment. For example, the University of California, SanFrancisco (UCSF) has mandated telemedicine be used to care for palliative care and nonpalliative care patients in ambulatory settings, whenever possible. Similarly, many hospice agencies are currently offering most, if not all, social work and chaplaincy support by telemedicine. For hospitals, strict limitations on visitors have meant that some inpatient palliative care consult programs are performing family meetings and consults virtually. To support these changes, many telemedicine\")\n",
        "             ]:\n",
        "  eval(document[1], questions, target_ques=document[0])\n",
        "  print(\"\")\n"
      ],
      "execution_count": 0,
      "outputs": [
        {
          "output_type": "display_data",
          "data": {
            "text/html": [
              "<b>Doc Sample:</b> Moving away from genome scan methods used for human GWAS (ultimately inappropriate for the short highly polymorphic genomes of RNA viruses), our work shows the power and potential of multi-class machine learning algorithms in inferring the functional genetic changes associated with phenotypic change (e.g. crossing a species barrier). We show that even distantly related viruses within a viral family share highly conserved genetic signatures of host specificity; reinforce how fitness landscapes of"
            ],
            "text/plain": [
              "<IPython.core.display.HTML object>"
            ]
          },
          "metadata": {
            "tags": []
          }
        },
        {
          "output_type": "display_data",
          "data": {
            "text/html": [
              "<p>Loss: 2.9179203510284424  Question: what was the goal of the manhattan project</p>"
            ],
            "text/plain": [
              "<IPython.core.display.HTML object>"
            ]
          },
          "metadata": {
            "tags": []
          }
        },
        {
          "output_type": "display_data",
          "data": {
            "text/html": [
              "<p>Loss: 3.2689285278320312  Question: What is the economic impact of a pandemic</p>"
            ],
            "text/plain": [
              "<IPython.core.display.HTML object>"
            ]
          },
          "metadata": {
            "tags": []
          }
        },
        {
          "output_type": "display_data",
          "data": {
            "text/html": [
              "<p>Loss: 3.4069550037384033  Question: What is the financial impact of a pandemic</p>"
            ],
            "text/plain": [
              "<IPython.core.display.HTML object>"
            ]
          },
          "metadata": {
            "tags": []
          }
        },
        {
          "output_type": "display_data",
          "data": {
            "text/html": [
              "<p><b>Loss: 3.8752992153167725 Target question: Tools and studies to monitor phenotypic change and potential adaptation of the virus</b></p>"
            ],
            "text/plain": [
              "<IPython.core.display.HTML object>"
            ]
          },
          "metadata": {
            "tags": []
          }
        },
        {
          "output_type": "display_data",
          "data": {
            "text/html": [
              "<p>Loss: 3.9173247814178467  Question: why do we use cookies at chipotle</p>"
            ],
            "text/plain": [
              "<IPython.core.display.HTML object>"
            ]
          },
          "metadata": {
            "tags": []
          }
        },
        {
          "output_type": "display_data",
          "data": {
            "text/html": [
              "<p>Loss: 3.9919486045837402  Question: What are the best practices for telemedicine</p>"
            ],
            "text/plain": [
              "<IPython.core.display.HTML object>"
            ]
          },
          "metadata": {
            "tags": []
          }
        },
        {
          "output_type": "display_data",
          "data": {
            "text/html": [
              "<p>Loss: 4.051795959472656  Question: Real-time tracking of whole genomes and a mechanism for coordinating the rapid dissemination of that information to inform the development of diagnostics and therapeutics and to track variations of the virus over time</p>"
            ],
            "text/plain": [
              "<IPython.core.display.HTML object>"
            ]
          },
          "metadata": {
            "tags": []
          }
        },
        {
          "output_type": "display_data",
          "data": {
            "text/html": [
              "<p>Loss: 4.062874794006348  Question: How can monitoring of whole genomes help the development of diagnostics and therapeutics</p>"
            ],
            "text/plain": [
              "<IPython.core.display.HTML object>"
            ]
          },
          "metadata": {
            "tags": []
          }
        },
        {
          "output_type": "display_data",
          "data": {
            "text/html": [
              "<p>Loss: 4.117034912109375  Question: How to track the variations of the virus over time</p>"
            ],
            "text/plain": [
              "<IPython.core.display.HTML object>"
            ]
          },
          "metadata": {
            "tags": []
          }
        },
        {
          "output_type": "display_data",
          "data": {
            "text/html": [
              "<p>Loss: 4.2943949699401855  Question: How can the economic impact of pandemic be reduced</p>"
            ],
            "text/plain": [
              "<IPython.core.display.HTML object>"
            ]
          },
          "metadata": {
            "tags": []
          }
        },
        {
          "output_type": "display_data",
          "data": {
            "text/html": [
              "<p>Loss: 4.35548210144043  Question: What are the barriers for telemedicine</p>"
            ],
            "text/plain": [
              "<IPython.core.display.HTML object>"
            ]
          },
          "metadata": {
            "tags": []
          }
        },
        {
          "output_type": "display_data",
          "data": {
            "text/html": [
              "<p>Loss: 4.539618015289307  Question: Methods evaluating potential complication of Antibody-Dependent Enhancement (ADE) in vaccine recipients.</p>"
            ],
            "text/plain": [
              "<IPython.core.display.HTML object>"
            ]
          },
          "metadata": {
            "tags": []
          }
        },
        {
          "output_type": "display_data",
          "data": {
            "text/html": [
              "<p>Loss: 4.783915996551514  Question: who plays the team in quidditch</p>"
            ],
            "text/plain": [
              "<IPython.core.display.HTML object>"
            ]
          },
          "metadata": {
            "tags": []
          }
        },
        {
          "output_type": "display_data",
          "data": {
            "text/html": [
              "<p>Loss: 5.20955228805542  Question: Research on the economic impact of this or any pandemic. This would include identifying policy and programmatic alternatives that lessen/mitigate risks to critical government services</p>"
            ],
            "text/plain": [
              "<IPython.core.display.HTML object>"
            ]
          },
          "metadata": {
            "tags": []
          }
        },
        {
          "output_type": "display_data",
          "data": {
            "text/html": [
              "<p>Loss: 5.725732326507568  Question: Best telemedicine practices, barriers and facilitators, and specific actions to remove/expand them within and across state boundaries</p>"
            ],
            "text/plain": [
              "<IPython.core.display.HTML object>"
            ]
          },
          "metadata": {
            "tags": []
          }
        },
        {
          "output_type": "display_data",
          "data": {
            "text/html": [
              "<p>Loss: 6.110519886016846  Question: Public health mitigation measures that could be effective for control</p>"
            ],
            "text/plain": [
              "<IPython.core.display.HTML object>"
            ]
          },
          "metadata": {
            "tags": []
          }
        },
        {
          "output_type": "stream",
          "text": [
            "\n"
          ],
          "name": "stdout"
        },
        {
          "output_type": "display_data",
          "data": {
            "text/html": [
              "<b>Doc Sample:</b> Mitigation of a severe influenza pandemic can be achieved using a range of interventions to reduce transmission. Interventions can reduce the impact of an outbreak and buy time until vaccines are developed, but they may have high social and economic costs. The non-linear effect on the epidemic dynamics means that suitable strategies crucially depend on the precise aim of the intervention. National pandemic influenza plans rarely contain clear statements of policy objectives or prioritization of "
            ],
            "text/plain": [
              "<IPython.core.display.HTML object>"
            ]
          },
          "metadata": {
            "tags": []
          }
        },
        {
          "output_type": "display_data",
          "data": {
            "text/html": [
              "<p>Loss: 1.5332914590835571  Question: What is the economic impact of a pandemic</p>"
            ],
            "text/plain": [
              "<IPython.core.display.HTML object>"
            ]
          },
          "metadata": {
            "tags": []
          }
        },
        {
          "output_type": "display_data",
          "data": {
            "text/html": [
              "<p>Loss: 1.9163899421691895  Question: What is the financial impact of a pandemic</p>"
            ],
            "text/plain": [
              "<IPython.core.display.HTML object>"
            ]
          },
          "metadata": {
            "tags": []
          }
        },
        {
          "output_type": "display_data",
          "data": {
            "text/html": [
              "<p>Loss: 2.461047410964966  Question: How can the economic impact of pandemic be reduced</p>"
            ],
            "text/plain": [
              "<IPython.core.display.HTML object>"
            ]
          },
          "metadata": {
            "tags": []
          }
        },
        {
          "output_type": "display_data",
          "data": {
            "text/html": [
              "<p>Loss: 3.108743906021118  Question: what was the goal of the manhattan project</p>"
            ],
            "text/plain": [
              "<IPython.core.display.HTML object>"
            ]
          },
          "metadata": {
            "tags": []
          }
        },
        {
          "output_type": "display_data",
          "data": {
            "text/html": [
              "<p>Loss: 3.7562479972839355  Question: What are the best practices for telemedicine</p>"
            ],
            "text/plain": [
              "<IPython.core.display.HTML object>"
            ]
          },
          "metadata": {
            "tags": []
          }
        },
        {
          "output_type": "display_data",
          "data": {
            "text/html": [
              "<p>Loss: 4.047560214996338  Question: why do we use cookies at chipotle</p>"
            ],
            "text/plain": [
              "<IPython.core.display.HTML object>"
            ]
          },
          "metadata": {
            "tags": []
          }
        },
        {
          "output_type": "display_data",
          "data": {
            "text/html": [
              "<p>Loss: 4.13358736038208  Question: What are the barriers for telemedicine</p>"
            ],
            "text/plain": [
              "<IPython.core.display.HTML object>"
            ]
          },
          "metadata": {
            "tags": []
          }
        },
        {
          "output_type": "display_data",
          "data": {
            "text/html": [
              "<p>Loss: 4.1550164222717285  Question: Real-time tracking of whole genomes and a mechanism for coordinating the rapid dissemination of that information to inform the development of diagnostics and therapeutics and to track variations of the virus over time</p>"
            ],
            "text/plain": [
              "<IPython.core.display.HTML object>"
            ]
          },
          "metadata": {
            "tags": []
          }
        },
        {
          "output_type": "display_data",
          "data": {
            "text/html": [
              "<p><b>Loss: 4.315782070159912 Target question: Research on the economic impact of this or any pandemic. This would include identifying policy and programmatic alternatives that lessen/mitigate risks to critical government services</b></p>"
            ],
            "text/plain": [
              "<IPython.core.display.HTML object>"
            ]
          },
          "metadata": {
            "tags": []
          }
        },
        {
          "output_type": "display_data",
          "data": {
            "text/html": [
              "<p>Loss: 4.372007846832275  Question: How can monitoring of whole genomes help the development of diagnostics and therapeutics</p>"
            ],
            "text/plain": [
              "<IPython.core.display.HTML object>"
            ]
          },
          "metadata": {
            "tags": []
          }
        },
        {
          "output_type": "display_data",
          "data": {
            "text/html": [
              "<p>Loss: 4.3886637687683105  Question: How to track the variations of the virus over time</p>"
            ],
            "text/plain": [
              "<IPython.core.display.HTML object>"
            ]
          },
          "metadata": {
            "tags": []
          }
        },
        {
          "output_type": "display_data",
          "data": {
            "text/html": [
              "<p>Loss: 4.444366931915283  Question: who plays the team in quidditch</p>"
            ],
            "text/plain": [
              "<IPython.core.display.HTML object>"
            ]
          },
          "metadata": {
            "tags": []
          }
        },
        {
          "output_type": "display_data",
          "data": {
            "text/html": [
              "<p>Loss: 4.7387895584106445  Question: Methods evaluating potential complication of Antibody-Dependent Enhancement (ADE) in vaccine recipients.</p>"
            ],
            "text/plain": [
              "<IPython.core.display.HTML object>"
            ]
          },
          "metadata": {
            "tags": []
          }
        },
        {
          "output_type": "display_data",
          "data": {
            "text/html": [
              "<p>Loss: 4.9492950439453125  Question: Public health mitigation measures that could be effective for control</p>"
            ],
            "text/plain": [
              "<IPython.core.display.HTML object>"
            ]
          },
          "metadata": {
            "tags": []
          }
        },
        {
          "output_type": "display_data",
          "data": {
            "text/html": [
              "<p>Loss: 4.980515003204346  Question: Tools and studies to monitor phenotypic change and potential adaptation of the virus</p>"
            ],
            "text/plain": [
              "<IPython.core.display.HTML object>"
            ]
          },
          "metadata": {
            "tags": []
          }
        },
        {
          "output_type": "display_data",
          "data": {
            "text/html": [
              "<p>Loss: 5.362402439117432  Question: Best telemedicine practices, barriers and facilitators, and specific actions to remove/expand them within and across state boundaries</p>"
            ],
            "text/plain": [
              "<IPython.core.display.HTML object>"
            ]
          },
          "metadata": {
            "tags": []
          }
        },
        {
          "output_type": "stream",
          "text": [
            "\n"
          ],
          "name": "stdout"
        },
        {
          "output_type": "display_data",
          "data": {
            "text/html": [
              "<b>Doc Sample:</b> In recent decades, many infectious diseases have significantly increased in incidence and/or geographic range, in some cases impacting heavily on human, animal or plant populations. Some of these ‘emerging infectious diseases’ are associated with pathogens that have appeared in populations for the first time as a result of cross-species transmission (e.g. human immunodeficiency virus—acquired immunodeficiency syndrome (HIV-AIDS), severe acute respiratory syndrome (SARS)), while others were previ"
            ],
            "text/plain": [
              "<IPython.core.display.HTML object>"
            ]
          },
          "metadata": {
            "tags": []
          }
        },
        {
          "output_type": "display_data",
          "data": {
            "text/html": [
              "<p>Loss: 2.7365081310272217  Question: What is the economic impact of a pandemic</p>"
            ],
            "text/plain": [
              "<IPython.core.display.HTML object>"
            ]
          },
          "metadata": {
            "tags": []
          }
        },
        {
          "output_type": "display_data",
          "data": {
            "text/html": [
              "<p>Loss: 3.0786569118499756  Question: What is the financial impact of a pandemic</p>"
            ],
            "text/plain": [
              "<IPython.core.display.HTML object>"
            ]
          },
          "metadata": {
            "tags": []
          }
        },
        {
          "output_type": "display_data",
          "data": {
            "text/html": [
              "<p>Loss: 3.710395097732544  Question: what was the goal of the manhattan project</p>"
            ],
            "text/plain": [
              "<IPython.core.display.HTML object>"
            ]
          },
          "metadata": {
            "tags": []
          }
        },
        {
          "output_type": "display_data",
          "data": {
            "text/html": [
              "<p>Loss: 3.9159979820251465  Question: What are the best practices for telemedicine</p>"
            ],
            "text/plain": [
              "<IPython.core.display.HTML object>"
            ]
          },
          "metadata": {
            "tags": []
          }
        },
        {
          "output_type": "display_data",
          "data": {
            "text/html": [
              "<p><b>Loss: 4.11218786239624 Target question: Real-time tracking of whole genomes and a mechanism for coordinating the rapid dissemination of that information to inform the development of diagnostics and therapeutics and to track variations of the virus over time</b></p>"
            ],
            "text/plain": [
              "<IPython.core.display.HTML object>"
            ]
          },
          "metadata": {
            "tags": []
          }
        },
        {
          "output_type": "display_data",
          "data": {
            "text/html": [
              "<p>Loss: 4.1309332847595215  Question: What are the barriers for telemedicine</p>"
            ],
            "text/plain": [
              "<IPython.core.display.HTML object>"
            ]
          },
          "metadata": {
            "tags": []
          }
        },
        {
          "output_type": "display_data",
          "data": {
            "text/html": [
              "<p>Loss: 4.175899982452393  Question: How can the economic impact of pandemic be reduced</p>"
            ],
            "text/plain": [
              "<IPython.core.display.HTML object>"
            ]
          },
          "metadata": {
            "tags": []
          }
        },
        {
          "output_type": "display_data",
          "data": {
            "text/html": [
              "<p>Loss: 4.343621253967285  Question: Methods evaluating potential complication of Antibody-Dependent Enhancement (ADE) in vaccine recipients.</p>"
            ],
            "text/plain": [
              "<IPython.core.display.HTML object>"
            ]
          },
          "metadata": {
            "tags": []
          }
        },
        {
          "output_type": "display_data",
          "data": {
            "text/html": [
              "<p>Loss: 4.54374885559082  Question: How to track the variations of the virus over time</p>"
            ],
            "text/plain": [
              "<IPython.core.display.HTML object>"
            ]
          },
          "metadata": {
            "tags": []
          }
        },
        {
          "output_type": "display_data",
          "data": {
            "text/html": [
              "<p>Loss: 4.560579299926758  Question: How can monitoring of whole genomes help the development of diagnostics and therapeutics</p>"
            ],
            "text/plain": [
              "<IPython.core.display.HTML object>"
            ]
          },
          "metadata": {
            "tags": []
          }
        },
        {
          "output_type": "display_data",
          "data": {
            "text/html": [
              "<p>Loss: 4.568964004516602  Question: why do we use cookies at chipotle</p>"
            ],
            "text/plain": [
              "<IPython.core.display.HTML object>"
            ]
          },
          "metadata": {
            "tags": []
          }
        },
        {
          "output_type": "display_data",
          "data": {
            "text/html": [
              "<p>Loss: 4.622748374938965  Question: who plays the team in quidditch</p>"
            ],
            "text/plain": [
              "<IPython.core.display.HTML object>"
            ]
          },
          "metadata": {
            "tags": []
          }
        },
        {
          "output_type": "display_data",
          "data": {
            "text/html": [
              "<p>Loss: 4.966506004333496  Question: Research on the economic impact of this or any pandemic. This would include identifying policy and programmatic alternatives that lessen/mitigate risks to critical government services</p>"
            ],
            "text/plain": [
              "<IPython.core.display.HTML object>"
            ]
          },
          "metadata": {
            "tags": []
          }
        },
        {
          "output_type": "display_data",
          "data": {
            "text/html": [
              "<p>Loss: 5.0730695724487305  Question: Tools and studies to monitor phenotypic change and potential adaptation of the virus</p>"
            ],
            "text/plain": [
              "<IPython.core.display.HTML object>"
            ]
          },
          "metadata": {
            "tags": []
          }
        },
        {
          "output_type": "display_data",
          "data": {
            "text/html": [
              "<p>Loss: 5.229198932647705  Question: Public health mitigation measures that could be effective for control</p>"
            ],
            "text/plain": [
              "<IPython.core.display.HTML object>"
            ]
          },
          "metadata": {
            "tags": []
          }
        },
        {
          "output_type": "display_data",
          "data": {
            "text/html": [
              "<p>Loss: 5.257186412811279  Question: Best telemedicine practices, barriers and facilitators, and specific actions to remove/expand them within and across state boundaries</p>"
            ],
            "text/plain": [
              "<IPython.core.display.HTML object>"
            ]
          },
          "metadata": {
            "tags": []
          }
        },
        {
          "output_type": "stream",
          "text": [
            "\n"
          ],
          "name": "stdout"
        },
        {
          "output_type": "display_data",
          "data": {
            "text/html": [
              "<b>Doc Sample:</b> Immune enhancement (antibody-dependent enhancement, ADE) has been clearly shown to occur in experimental laboratory infections of cats previously infected by natural or experimental infection, and of cats previously vaccinated with Primucell FIP vaccine, experimental MLV vaccines, experimental inactivated vaccines, and experimental recombinant vaccines containing the S gene (McArdle et al., 1992, 1995; Ngichabe, 1992; Scott et al., 1992, 1995a,b; Weiss and Scott, 1981). Antibodies to the S prote"
            ],
            "text/plain": [
              "<IPython.core.display.HTML object>"
            ]
          },
          "metadata": {
            "tags": []
          }
        },
        {
          "output_type": "display_data",
          "data": {
            "text/html": [
              "<p><b>Loss: 3.1798605918884277 Target question: Methods evaluating potential complication of Antibody-Dependent Enhancement (ADE) in vaccine recipients.</b></p>"
            ],
            "text/plain": [
              "<IPython.core.display.HTML object>"
            ]
          },
          "metadata": {
            "tags": []
          }
        },
        {
          "output_type": "display_data",
          "data": {
            "text/html": [
              "<p>Loss: 3.399684190750122  Question: What is the economic impact of a pandemic</p>"
            ],
            "text/plain": [
              "<IPython.core.display.HTML object>"
            ]
          },
          "metadata": {
            "tags": []
          }
        },
        {
          "output_type": "display_data",
          "data": {
            "text/html": [
              "<p>Loss: 3.507044792175293  Question: What is the financial impact of a pandemic</p>"
            ],
            "text/plain": [
              "<IPython.core.display.HTML object>"
            ]
          },
          "metadata": {
            "tags": []
          }
        },
        {
          "output_type": "display_data",
          "data": {
            "text/html": [
              "<p>Loss: 3.5079219341278076  Question: what was the goal of the manhattan project</p>"
            ],
            "text/plain": [
              "<IPython.core.display.HTML object>"
            ]
          },
          "metadata": {
            "tags": []
          }
        },
        {
          "output_type": "display_data",
          "data": {
            "text/html": [
              "<p>Loss: 4.099008083343506  Question: What are the best practices for telemedicine</p>"
            ],
            "text/plain": [
              "<IPython.core.display.HTML object>"
            ]
          },
          "metadata": {
            "tags": []
          }
        },
        {
          "output_type": "display_data",
          "data": {
            "text/html": [
              "<p>Loss: 4.130622386932373  Question: How to track the variations of the virus over time</p>"
            ],
            "text/plain": [
              "<IPython.core.display.HTML object>"
            ]
          },
          "metadata": {
            "tags": []
          }
        },
        {
          "output_type": "display_data",
          "data": {
            "text/html": [
              "<p>Loss: 4.263559818267822  Question: Real-time tracking of whole genomes and a mechanism for coordinating the rapid dissemination of that information to inform the development of diagnostics and therapeutics and to track variations of the virus over time</p>"
            ],
            "text/plain": [
              "<IPython.core.display.HTML object>"
            ]
          },
          "metadata": {
            "tags": []
          }
        },
        {
          "output_type": "display_data",
          "data": {
            "text/html": [
              "<p>Loss: 4.393039703369141  Question: What are the barriers for telemedicine</p>"
            ],
            "text/plain": [
              "<IPython.core.display.HTML object>"
            ]
          },
          "metadata": {
            "tags": []
          }
        },
        {
          "output_type": "display_data",
          "data": {
            "text/html": [
              "<p>Loss: 4.464134693145752  Question: How can monitoring of whole genomes help the development of diagnostics and therapeutics</p>"
            ],
            "text/plain": [
              "<IPython.core.display.HTML object>"
            ]
          },
          "metadata": {
            "tags": []
          }
        },
        {
          "output_type": "display_data",
          "data": {
            "text/html": [
              "<p>Loss: 4.50441312789917  Question: How can the economic impact of pandemic be reduced</p>"
            ],
            "text/plain": [
              "<IPython.core.display.HTML object>"
            ]
          },
          "metadata": {
            "tags": []
          }
        },
        {
          "output_type": "display_data",
          "data": {
            "text/html": [
              "<p>Loss: 4.8664021492004395  Question: why do we use cookies at chipotle</p>"
            ],
            "text/plain": [
              "<IPython.core.display.HTML object>"
            ]
          },
          "metadata": {
            "tags": []
          }
        },
        {
          "output_type": "display_data",
          "data": {
            "text/html": [
              "<p>Loss: 4.8811235427856445  Question: who plays the team in quidditch</p>"
            ],
            "text/plain": [
              "<IPython.core.display.HTML object>"
            ]
          },
          "metadata": {
            "tags": []
          }
        },
        {
          "output_type": "display_data",
          "data": {
            "text/html": [
              "<p>Loss: 5.129240036010742  Question: Tools and studies to monitor phenotypic change and potential adaptation of the virus</p>"
            ],
            "text/plain": [
              "<IPython.core.display.HTML object>"
            ]
          },
          "metadata": {
            "tags": []
          }
        },
        {
          "output_type": "display_data",
          "data": {
            "text/html": [
              "<p>Loss: 5.2291579246521  Question: Research on the economic impact of this or any pandemic. This would include identifying policy and programmatic alternatives that lessen/mitigate risks to critical government services</p>"
            ],
            "text/plain": [
              "<IPython.core.display.HTML object>"
            ]
          },
          "metadata": {
            "tags": []
          }
        },
        {
          "output_type": "display_data",
          "data": {
            "text/html": [
              "<p>Loss: 5.862115383148193  Question: Best telemedicine practices, barriers and facilitators, and specific actions to remove/expand them within and across state boundaries</p>"
            ],
            "text/plain": [
              "<IPython.core.display.HTML object>"
            ]
          },
          "metadata": {
            "tags": []
          }
        },
        {
          "output_type": "display_data",
          "data": {
            "text/html": [
              "<p>Loss: 5.9735002517700195  Question: Public health mitigation measures that could be effective for control</p>"
            ],
            "text/plain": [
              "<IPython.core.display.HTML object>"
            ]
          },
          "metadata": {
            "tags": []
          }
        },
        {
          "output_type": "stream",
          "text": [
            "\n"
          ],
          "name": "stdout"
        },
        {
          "output_type": "display_data",
          "data": {
            "text/html": [
              "<b>Doc Sample:</b> The novel coronavirus disease 2019 (COVID-19) outbreak on the Diamond Princess ship has caused over 634 cases as of February 20, 2020. We model the transmission process on the ship with a stochastic model and estimate the basic reproduction number at 2.2 (95%CI: 2.1−2.4). We estimate a large dispersion parameter than other coronaviruses, which implies that the virus is difficult to go extinction. The epidemic doubling time is at 4.6 days (95%CI: 3.0−9.3), and thus timely actions were crucial. Th"
            ],
            "text/plain": [
              "<IPython.core.display.HTML object>"
            ]
          },
          "metadata": {
            "tags": []
          }
        },
        {
          "output_type": "display_data",
          "data": {
            "text/html": [
              "<p>Loss: 3.091567277908325  Question: What is the economic impact of a pandemic</p>"
            ],
            "text/plain": [
              "<IPython.core.display.HTML object>"
            ]
          },
          "metadata": {
            "tags": []
          }
        },
        {
          "output_type": "display_data",
          "data": {
            "text/html": [
              "<p>Loss: 3.246424436569214  Question: What is the financial impact of a pandemic</p>"
            ],
            "text/plain": [
              "<IPython.core.display.HTML object>"
            ]
          },
          "metadata": {
            "tags": []
          }
        },
        {
          "output_type": "display_data",
          "data": {
            "text/html": [
              "<p>Loss: 3.6247310638427734  Question: what was the goal of the manhattan project</p>"
            ],
            "text/plain": [
              "<IPython.core.display.HTML object>"
            ]
          },
          "metadata": {
            "tags": []
          }
        },
        {
          "output_type": "display_data",
          "data": {
            "text/html": [
              "<p>Loss: 4.0137152671813965  Question: How to track the variations of the virus over time</p>"
            ],
            "text/plain": [
              "<IPython.core.display.HTML object>"
            ]
          },
          "metadata": {
            "tags": []
          }
        },
        {
          "output_type": "display_data",
          "data": {
            "text/html": [
              "<p>Loss: 4.080295085906982  Question: Real-time tracking of whole genomes and a mechanism for coordinating the rapid dissemination of that information to inform the development of diagnostics and therapeutics and to track variations of the virus over time</p>"
            ],
            "text/plain": [
              "<IPython.core.display.HTML object>"
            ]
          },
          "metadata": {
            "tags": []
          }
        },
        {
          "output_type": "display_data",
          "data": {
            "text/html": [
              "<p>Loss: 4.152300834655762  Question: why do we use cookies at chipotle</p>"
            ],
            "text/plain": [
              "<IPython.core.display.HTML object>"
            ]
          },
          "metadata": {
            "tags": []
          }
        },
        {
          "output_type": "display_data",
          "data": {
            "text/html": [
              "<p>Loss: 4.219879150390625  Question: How can the economic impact of pandemic be reduced</p>"
            ],
            "text/plain": [
              "<IPython.core.display.HTML object>"
            ]
          },
          "metadata": {
            "tags": []
          }
        },
        {
          "output_type": "display_data",
          "data": {
            "text/html": [
              "<p>Loss: 4.4251885414123535  Question: How can monitoring of whole genomes help the development of diagnostics and therapeutics</p>"
            ],
            "text/plain": [
              "<IPython.core.display.HTML object>"
            ]
          },
          "metadata": {
            "tags": []
          }
        },
        {
          "output_type": "display_data",
          "data": {
            "text/html": [
              "<p>Loss: 4.459570407867432  Question: What are the best practices for telemedicine</p>"
            ],
            "text/plain": [
              "<IPython.core.display.HTML object>"
            ]
          },
          "metadata": {
            "tags": []
          }
        },
        {
          "output_type": "display_data",
          "data": {
            "text/html": [
              "<p>Loss: 4.52546501159668  Question: What are the barriers for telemedicine</p>"
            ],
            "text/plain": [
              "<IPython.core.display.HTML object>"
            ]
          },
          "metadata": {
            "tags": []
          }
        },
        {
          "output_type": "display_data",
          "data": {
            "text/html": [
              "<p>Loss: 4.751441955566406  Question: Methods evaluating potential complication of Antibody-Dependent Enhancement (ADE) in vaccine recipients.</p>"
            ],
            "text/plain": [
              "<IPython.core.display.HTML object>"
            ]
          },
          "metadata": {
            "tags": []
          }
        },
        {
          "output_type": "display_data",
          "data": {
            "text/html": [
              "<p>Loss: 5.093255043029785  Question: Tools and studies to monitor phenotypic change and potential adaptation of the virus</p>"
            ],
            "text/plain": [
              "<IPython.core.display.HTML object>"
            ]
          },
          "metadata": {
            "tags": []
          }
        },
        {
          "output_type": "display_data",
          "data": {
            "text/html": [
              "<p>Loss: 5.117684841156006  Question: Research on the economic impact of this or any pandemic. This would include identifying policy and programmatic alternatives that lessen/mitigate risks to critical government services</p>"
            ],
            "text/plain": [
              "<IPython.core.display.HTML object>"
            ]
          },
          "metadata": {
            "tags": []
          }
        },
        {
          "output_type": "display_data",
          "data": {
            "text/html": [
              "<p>Loss: 5.1334710121154785  Question: who plays the team in quidditch</p>"
            ],
            "text/plain": [
              "<IPython.core.display.HTML object>"
            ]
          },
          "metadata": {
            "tags": []
          }
        },
        {
          "output_type": "display_data",
          "data": {
            "text/html": [
              "<p>Loss: 5.7801995277404785  Question: Best telemedicine practices, barriers and facilitators, and specific actions to remove/expand them within and across state boundaries</p>"
            ],
            "text/plain": [
              "<IPython.core.display.HTML object>"
            ]
          },
          "metadata": {
            "tags": []
          }
        },
        {
          "output_type": "display_data",
          "data": {
            "text/html": [
              "<p><b>Loss: 5.907107353210449 Target question: Public health mitigation measures that could be effective for control</b></p>"
            ],
            "text/plain": [
              "<IPython.core.display.HTML object>"
            ]
          },
          "metadata": {
            "tags": []
          }
        },
        {
          "output_type": "stream",
          "text": [
            "\n"
          ],
          "name": "stdout"
        },
        {
          "output_type": "display_data",
          "data": {
            "text/html": [
              "<b>Doc Sample:</b> Even before the arrival of COVID-19, telemedicine was increasingly being adopted to bring specialty-palliative care into the homes of seriously ill patients and their families. Patients who receive palliative care by telemedicine are typically very satisfied with the convenience and timesaving of video care. Telemedicine also saves valuable drive-time for home-visiting palliative care clinicians and increases capacity at brick-and-mortar clinics.1 With the emergence of COVID-19, telemedicine has"
            ],
            "text/plain": [
              "<IPython.core.display.HTML object>"
            ]
          },
          "metadata": {
            "tags": []
          }
        },
        {
          "output_type": "display_data",
          "data": {
            "text/html": [
              "<p>Loss: 2.3741657733917236  Question: What are the best practices for telemedicine</p>"
            ],
            "text/plain": [
              "<IPython.core.display.HTML object>"
            ]
          },
          "metadata": {
            "tags": []
          }
        },
        {
          "output_type": "display_data",
          "data": {
            "text/html": [
              "<p>Loss: 2.7680978775024414  Question: What are the barriers for telemedicine</p>"
            ],
            "text/plain": [
              "<IPython.core.display.HTML object>"
            ]
          },
          "metadata": {
            "tags": []
          }
        },
        {
          "output_type": "display_data",
          "data": {
            "text/html": [
              "<p>Loss: 3.2875163555145264  Question: what was the goal of the manhattan project</p>"
            ],
            "text/plain": [
              "<IPython.core.display.HTML object>"
            ]
          },
          "metadata": {
            "tags": []
          }
        },
        {
          "output_type": "display_data",
          "data": {
            "text/html": [
              "<p>Loss: 3.701922655105591  Question: why do we use cookies at chipotle</p>"
            ],
            "text/plain": [
              "<IPython.core.display.HTML object>"
            ]
          },
          "metadata": {
            "tags": []
          }
        },
        {
          "output_type": "display_data",
          "data": {
            "text/html": [
              "<p>Loss: 3.870577573776245  Question: What is the economic impact of a pandemic</p>"
            ],
            "text/plain": [
              "<IPython.core.display.HTML object>"
            ]
          },
          "metadata": {
            "tags": []
          }
        },
        {
          "output_type": "display_data",
          "data": {
            "text/html": [
              "<p>Loss: 3.8962161540985107  Question: What is the financial impact of a pandemic</p>"
            ],
            "text/plain": [
              "<IPython.core.display.HTML object>"
            ]
          },
          "metadata": {
            "tags": []
          }
        },
        {
          "output_type": "display_data",
          "data": {
            "text/html": [
              "<p>Loss: 4.35068416595459  Question: Real-time tracking of whole genomes and a mechanism for coordinating the rapid dissemination of that information to inform the development of diagnostics and therapeutics and to track variations of the virus over time</p>"
            ],
            "text/plain": [
              "<IPython.core.display.HTML object>"
            ]
          },
          "metadata": {
            "tags": []
          }
        },
        {
          "output_type": "display_data",
          "data": {
            "text/html": [
              "<p>Loss: 4.3577117919921875  Question: How can the economic impact of pandemic be reduced</p>"
            ],
            "text/plain": [
              "<IPython.core.display.HTML object>"
            ]
          },
          "metadata": {
            "tags": []
          }
        },
        {
          "output_type": "display_data",
          "data": {
            "text/html": [
              "<p>Loss: 4.681504726409912  Question: How can monitoring of whole genomes help the development of diagnostics and therapeutics</p>"
            ],
            "text/plain": [
              "<IPython.core.display.HTML object>"
            ]
          },
          "metadata": {
            "tags": []
          }
        },
        {
          "output_type": "display_data",
          "data": {
            "text/html": [
              "<p>Loss: 4.857052326202393  Question: Best telemedicine practices, barriers and facilitators, and specific actions to remove/expand them within and across state boundaries</p>"
            ],
            "text/plain": [
              "<IPython.core.display.HTML object>"
            ]
          },
          "metadata": {
            "tags": []
          }
        },
        {
          "output_type": "display_data",
          "data": {
            "text/html": [
              "<p>Loss: 5.025135517120361  Question: Methods evaluating potential complication of Antibody-Dependent Enhancement (ADE) in vaccine recipients.</p>"
            ],
            "text/plain": [
              "<IPython.core.display.HTML object>"
            ]
          },
          "metadata": {
            "tags": []
          }
        },
        {
          "output_type": "display_data",
          "data": {
            "text/html": [
              "<p>Loss: 5.0881266593933105  Question: Research on the economic impact of this or any pandemic. This would include identifying policy and programmatic alternatives that lessen/mitigate risks to critical government services</p>"
            ],
            "text/plain": [
              "<IPython.core.display.HTML object>"
            ]
          },
          "metadata": {
            "tags": []
          }
        },
        {
          "output_type": "display_data",
          "data": {
            "text/html": [
              "<p>Loss: 5.295066833496094  Question: How to track the variations of the virus over time</p>"
            ],
            "text/plain": [
              "<IPython.core.display.HTML object>"
            ]
          },
          "metadata": {
            "tags": []
          }
        },
        {
          "output_type": "display_data",
          "data": {
            "text/html": [
              "<p>Loss: 5.748958110809326  Question: Tools and studies to monitor phenotypic change and potential adaptation of the virus</p>"
            ],
            "text/plain": [
              "<IPython.core.display.HTML object>"
            ]
          },
          "metadata": {
            "tags": []
          }
        },
        {
          "output_type": "display_data",
          "data": {
            "text/html": [
              "<p>Loss: 6.058117866516113  Question: Public health mitigation measures that could be effective for control</p>"
            ],
            "text/plain": [
              "<IPython.core.display.HTML object>"
            ]
          },
          "metadata": {
            "tags": []
          }
        },
        {
          "output_type": "display_data",
          "data": {
            "text/html": [
              "<p>Loss: 6.263487815856934  Question: who plays the team in quidditch</p>"
            ],
            "text/plain": [
              "<IPython.core.display.HTML object>"
            ]
          },
          "metadata": {
            "tags": []
          }
        },
        {
          "output_type": "stream",
          "text": [
            "\n"
          ],
          "name": "stdout"
        }
      ]
    },
    {
      "cell_type": "markdown",
      "metadata": {
        "id": "gxqU4BFQmd_w",
        "colab_type": "text"
      },
      "source": [
        "We can query different types of questions over many CORD-19 documents to see if there are certain queries the model favors.\n",
        "\n",
        "We see that some queries from the MS-MARCO training set and the \"childhood death\" not from the training set consistently rank near the top."
      ]
    },
    {
      "cell_type": "code",
      "metadata": {
        "id": "3dGWPuuRmoIH",
        "colab_type": "code",
        "colab": {}
      },
      "source": [
        "questions = [\n",
        "             # Specific to documents\n",
        "             \"what is the leading cause of childhood death in the world\", # Doc 3\n",
        "             \"how can regulation help reduce foreign pathogens\", # Doc 2\n",
        "             \n",
        "             # CORD-19 topic questions\n",
        "             \"what new drugs are being developed\", \n",
        "             \"effectiveness of drugs being developed and tried to treat COVID-19 patients.\", \n",
        "             \"exploration of use of best animal models and their predictive value for a human vaccine.\",\n",
        "             \"capabilities to discover a therapeutic (not vaccine) for the disease, and clinical effectiveness studies to discover therapeutics, to include antiviral agents.\",\n",
        "             \"natural history of the virus and shedding of it from an infected person\",\n",
        "             \"implementation of diagnostics and products to improve clinical processes\",\n",
        "\n",
        "              # What, how style questions\n",
        "              \"what is the incubation period of COVID-19\",\n",
        "              \"what is the effectiveness of chloroquine for COVID-19\",\n",
        "              \"what is the duration of viral shedding for COVID-19\",\n",
        "              \"how does COVID-19 bind to the ACE2 receptor\",\n",
        "              \"how do weather conditions affect the transmission of COVID-19\",\n",
        "              \"tell me about IgG and IgM tests for COVID-19\",\n",
        "              \"what is the prognostic value of IL-6 levels in COVID-19\",\n",
        "             \n",
        "             # Predicted queries from MS-MARCO\n",
        "             \"what was the goal of the manhattan project\",\n",
        "             \"who was briefed by president on the manhattan project\",\n",
        "             \"why do we use cookies at chipotle\",\n",
        "             \"who plays the team in quidditch\",\n",
        "             \n",
        "             # Random\n",
        "             \"what is my favorite color\", \n",
        "             \"how many days until christmas\"]\n",
        "\n",
        "\n",
        "for index, row in df_covid.iterrows():\n",
        "  if index > 200:\n",
        "    break\n",
        "  display(HTML(f\"<p><b>Title:</b> {row['title']}</p>\"))\n",
        "  document = row['abstract']\n",
        "  eval(document, questions)\n",
        "  print(\"\")\n"
      ],
      "execution_count": 0,
      "outputs": []
    },
    {
      "cell_type": "markdown",
      "metadata": {
        "id": "EJPjF1JoWT51",
        "colab_type": "text"
      },
      "source": [
        "Now let's compute the losses for a question over the dataset. We can check whether \"what is the financial impact of a pandemic\" or \"what was the goal of the manhattan project\" has a lower mean loss, the also the losses of the top scoring documents.\n",
        "\n",
        "This will also allow us to estimate the inference speed for scoring one query over the entire CORD-19 dataset."
      ]
    },
    {
      "cell_type": "code",
      "metadata": {
        "id": "k-rD5qtO3dcg",
        "colab_type": "code",
        "colab": {}
      },
      "source": [
        "# # For CUDA out of memory error\n",
        "# torch.cuda.empty_cache()\n",
        "# import gc\n",
        "# gc.collect()\n",
        "\n",
        "import numpy as np\n",
        "from tqdm.notebook import tqdm\n",
        "\n",
        "test_size = 40000\n",
        "top_n = 10\n",
        "\n",
        "def save_results(data, id):\n",
        "  with open(f\"/content/drive/My Drive/results_{id}.json\", \"w\") as file:\n",
        "    file.write(json.dumps(data, indent=4)) \n",
        "  print(\"Saved to Drive\")\n",
        "\n",
        "def test_question(question):\n",
        "  question_ids = tokenizer.encode(question, return_tensors=\"pt\")\n",
        "  losses = []\n",
        "  results = {\n",
        "      \"top_docs\": []\n",
        "  }\n",
        "\n",
        "  with torch.no_grad():\n",
        "    for doc in tqdm(df_covid['abstract'][:test_size]):\n",
        "      input_ids = encode(doc)\n",
        "\n",
        "      outputs = model(input_ids.to(device), \n",
        "                    lm_labels=question_ids.to(device))\n",
        "      \n",
        "      # Outputs of forward pass\n",
        "      # Prediction scores for each vocabulary token before softmax\n",
        "      # lm_labels provided to return loss\n",
        "      loss, prediction_scores = outputs[:2]\n",
        "      losses.append(loss.item())\n",
        "\n",
        "    # Display the documents with lowest loss, argpartition return min indeces not in order\n",
        "    losses = np.array(losses)\n",
        "    max_indeces = np.argpartition(losses, top_n)[:top_n]\n",
        "\n",
        "    print(f\"Mean loss: {np.mean(losses)}  Question: {question}\")\n",
        "    print(f\"Best Matches:\")\n",
        "    for i in max_indeces:\n",
        "      results[\"top_docs\"].append({'Loss': losses[i], 'Title': df_covid.iloc[i]['title'] , 'Abstract': df_covid.iloc[i]['abstract'][:500]})\n",
        "      print(f\"Loss: {losses[i]} Title: {df_covid.iloc[i]['title']}\\n  Sample: {df_covid.iloc[i]['abstract'][:500]}\")\n",
        "\n",
        "    return results\n"
      ],
      "execution_count": 0,
      "outputs": []
    },
    {
      "cell_type": "code",
      "metadata": {
        "id": "xFUelRHYjb7w",
        "colab_type": "code",
        "outputId": "9bb6f8cd-fd34-432e-cea2-dae818229827",
        "colab": {
          "base_uri": "https://localhost:8080/",
          "height": 1000,
          "referenced_widgets": [
            "f8dfe47d88a747f2845f4057f3b82a42",
            "0c20c5ad58b1415895bac9bbbee8cb39",
            "e34bf9076bc5441699640c338ed9ff75",
            "c473b8828f81446182cdea79714e1c2c",
            "6294014de6d94bb990e77e0e749e9e1c",
            "049442b4a41a4b68a3f75e7cd89ce1e5",
            "37140da41093490db457409c44a978cb",
            "091f20ff00f4470aa45e3c343d1623c0",
            "20a3f54787854e81a3f4bbd16f775d37",
            "b052dbda44f949a6bed35118e756aae5",
            "f45ef55b017c4ccebd41a2e4163c60f3",
            "43a2f9d958be4c3181220cc068642f49",
            "8fae91e2328e4791aeef77b582bfc0b6",
            "83cab5dae74340a68103ca6143fffc56",
            "eae4b2118f9542de888317d1b1358c25",
            "b3ffcc6b0d8b431b81a877c2c3aba8e1"
          ]
        }
      },
      "source": [
        "res = {}\n",
        "for q in ['what is the financial impact of a pandemic', 'what was the goal of the manhattan project']:\n",
        "  res[q] = test_question(q)\n",
        "\n",
        "save_results(res, 1)"
      ],
      "execution_count": 0,
      "outputs": [
        {
          "output_type": "display_data",
          "data": {
            "application/vnd.jupyter.widget-view+json": {
              "model_id": "f8dfe47d88a747f2845f4057f3b82a42",
              "version_minor": 0,
              "version_major": 2
            },
            "text/plain": [
              "HBox(children=(IntProgress(value=0, max=26305), HTML(value='')))"
            ]
          },
          "metadata": {
            "tags": []
          }
        },
        {
          "output_type": "stream",
          "text": [
            "\n",
            "Mean loss: 3.3629893023893875  Question: what is the financial impact of a pandemic\n",
            "Best Matches:\n",
            "Loss: 1.2454053163528442 Title:  Impact of pandemic control over airport<br>economics: Reconciling public health with airport<br>business through a streamlined approach in pandemic<br>control\n",
            "  Sample: Rapid aviation commercialisation and upsurge in worldwide affluence created a new avenue for disease proliferation across countries at an unprecedented rate. Epidemic and pandemic occurrences over the last decade demonstrate airports' role in disease transmission; while also exhibiting their importance as containment nodes. Tremendous amount of resources and effort are necessary to achieve the latter but inevitably, disrupt normal operations. The contrasting objectives between public health auth\n",
            "Loss: 1.1110522747039795 Title:  Pandemic Influenza Planning in Nursing Homes:<br>Are We Prepared?\n",
            "  Sample: Avian influenza or Influenza A (H5N1) is caused by a viral strain that occurs naturally in wild birds, but to which humans are immunologically naïve. If an influenza pandemic occurs, it is expected to have dire consequences, including millions of deaths, social disruption, and enormous economic consequences. The Department of Health and Human Resources plan, released in November 2005, clearly affirms the threat of a pandemic. Anticipating a disruption in many factions of society, every segment o\n",
            "Loss: 1.3488359451293945 Title:  Mitigation Strategies for Pandemic Influenza<br>A: Balancing Conflicting Policy Objectives\n",
            "  Sample: Mitigation of a severe influenza pandemic can be achieved using a range of interventions to reduce transmission. Interventions can reduce the impact of an outbreak and buy time until vaccines are developed, but they may have high social and economic costs. The non-linear effect on the epidemic dynamics means that suitable strategies crucially depend on the precise aim of the intervention. National pandemic influenza plans rarely contain clear statements of policy objectives or prioritization of \n",
            "Loss: 1.2400431632995605 Title:  Economic Analysis of the Use of Facemasks<br>During Pandemic (H1N1) 2009\n",
            "  Sample: A large-scale pandemic could cause severe health, social, and economic impacts. The recent 2009 H1N1 pandemic confirmed the need for mitigation strategies that are cost-effective and easy to implement. Typically, in the early stages of a pandemic, as seen with pandemic (H1N1) 2009, vaccines and antivirals may be limited or non-existent, resulting in the need for nonpharmaceutical strategies to reduce the spread of disease and the economic impact. We construct and analyze a mathematical model for\n",
            "Loss: 1.3415039777755737 Title:  Challenges and opportunities in pandemic<br>influenza planning: lessons learned from recent<br>infectious disease preparedness and response efforts\n",
            "  Sample: The impact of the next pandemic influenza is likely to be far greater, by orders of magnitude, than most bioterrorism (BT) scenarios. A written pandemic emergency plan and establishment of emergency management teams are critical to mounting a coordinated and effective response to what will be a catastrophic event. Members of these teams should include public health, medical, emergency response and public safety officials, organized at each local, state and federal level. The tragic events of Sep\n",
            "Loss: 0.9809901714324951 Title:  Estimating the economic impact of pandemic<br>influenza: An application of the computable general<br>equilibrium model to the UK\n",
            "  Sample: There is concern regarding the impact that a global infectious disease pandemic might have, especially the economic impact in the current financial climate. However, preparedness planning concentrates more upon population health and maintaining a functioning health sector than on the wider economic impact. We developed a single country Computable General Equilibrium model to estimate the economic impact of pandemic influenza (PI) and associated policies. While the context for this development wa\n",
            "Loss: 1.344556450843811 Title:  Precautionary Behavior in Response to<br>Perceived Threat of Pandemic Influenza\n",
            "  Sample: Faced with an epidemic of an infectious disease, persons may take precautionary actions to try to reduce their risk. Such actions include avoiding situations that persons perceive to be risky, which can have negative health and economic effects. Therefore, we conducted a populationbased survey of persons' precautionary actions in response to a hypothetical infl uenza pandemic. For the 5 European and 3 Asian regions that had been affected by severe acute respiratory syndrome, the pattern of repor\n",
            "Loss: 1.1985875368118286 Title:  The potential impact of the next influenza<br>pandemic on a national primary care medical workforce\n",
            "  Sample: Background: Another influenza pandemic is all but inevitable. We estimated its potential impact on the primary care medical workforce in New Zealand, so that planning could mitigate the disruption from the pandemic and similar challenges.\n",
            "The model in the \"FluAid\" software (Centers for Disease Control and Prevention, CDC, Atlanta) was applied to the New Zealand primary care medical workforce (i.e., general practitioners).\n",
            "Results: At its peak (week 4) the pandemic would lead to 1.2% to 2.7% loss\n",
            "Loss: 1.388931393623352 Title:  Influenza pandemic preparedness: motivation<br>for protection among small and medium businesses<br>in Australia\n",
            "  Sample: Background: Community-wide preparedness for pandemic influenza is an issue that has featured prominently in the recent news media, and is currently a priority for health authorities in many countries. The small and medium business sector is a major provider of private sector employment in Australia, yet we have little information about the preparedness of this sector for pandemic influenza. This study aimed to investigate the association between individual perceptions and preparedness for pandem\n",
            "Loss: 1.1788091659545898 Title:  The prospect of pandemic influenza: Why should<br>the optometrist be concerned about a public health<br>problem?\n",
            "  Sample: Optometrists are uniquely placed in the health care field because they provide both services as well as goods to patients. In the event of an influenza pandemic, optometrists may be challenged with a host of issues, including impediments to clinical patient care, manufacture and delivery of ophthalmic devices, and maintaining business continuity and infection control. OVERVIEW: This report reviews pandemic influenza, the effect of a pandemic event on business survival, and response measures for \n"
          ],
          "name": "stdout"
        },
        {
          "output_type": "display_data",
          "data": {
            "application/vnd.jupyter.widget-view+json": {
              "model_id": "20a3f54787854e81a3f4bbd16f775d37",
              "version_minor": 0,
              "version_major": 2
            },
            "text/plain": [
              "HBox(children=(IntProgress(value=0, max=26305), HTML(value='')))"
            ]
          },
          "metadata": {
            "tags": []
          }
        },
        {
          "output_type": "stream",
          "text": [
            "\n",
            "Mean loss: 3.6796209783704534  Question: what was the goal of the manhattan project\n",
            "Best Matches:\n",
            "Loss: 2.1684350967407227 Title:  The Third Annual Meeting of the European Virus<br>Bioinformatics Center\n",
            "  Sample: viral infections and outbreaks, being successfully used to detect, control, and treat infections of humans and animals. This active field of research has attracted approximately 110 experts in virology and bioinformatics/computational biology from Europe and other parts of the world to attend the two-day meeting in Glasgow to increase scientific exchange between laboratory-and computer-based researchers. The meeting was held at the McIntyre Building of the University of Glasgow; a perfect locati\n",
            "Loss: 2.344064950942993 Title:  Reverse Genetics of Measles Virus and<br>Resulting Multivalent Recombinant Vaccines:<br>Applications of Recombinant Measles Viruses\n",
            "  Sample: An overview is given on the development of technologies to allow reverse genetics of RNA viruses, i.e., the rescue of viruses from cDNA, with emphasis on nonsegmented negative-strand RNA viruses ( Mononegavirales ), as exemplified for measles virus (MV). Primarily, these technologies allowed site-directed mutagenesis, enabling important insights into a variety of aspects of the biology of these viruses. Concomitantly, foreign coding sequences were inserted to (a) allow localization of virus repl\n",
            "Loss: 2.344242811203003 Title:  One Group's Historical Reflections on DNA<br>Vaccine Development\n",
            "  Sample: DNA vaccines were pioneered by several groups in the early 1990s. This article presents the reflections of one of these groups on their work with retroviral vectors in chickens that contributed to the discovery and early development of DNA vaccines. Although the findings were initially met with skepticism, the work presented here combined with that of others founded a new method of vaccination: the direct inoculation of purified DNA encoding the target antigen.\n",
            "Loss: 2.328533411026001 Title:  Promoting influenza prevention for elderly<br>people in Hong Kong using health action process<br>approach: study protocol\n",
            "  Sample: Background: People 65 years or older are at greater risk of serious complications from the seasonal influenza compared with young. To promote elderly people's behavioral compliance toward influenza prevention, the aim of the current project is to develop, implement, and evaluate a theory-based low-administration-cost intervention building on a leading psychological theory, the Health Action Process Approach (HAPA).\n",
            "The target group is Hong Kong Chinese elderly people aged 65 or older who rarely \n",
            "Loss: 2.3522441387176514 Title:  A decade of RNA virus metagenomics is (not)<br>enough\n",
            "  Sample: It is hard to overemphasize the role that metagenomics has had on our recent understanding of RNA virus diversity. Metagenomics in the 21st century has brought with it an explosion in the number of RNA virus species, genera, and families far exceeding that following the discovery of the microscope in the 18th century for eukaryotic life or culture media in the 19th century for bacteriology or the 20th century for virology. When the definition of success in organism discovery is measured by seque\n",
            "Loss: 2.371751546859741 Title:  Policy-driven ecosystems for new vaccine<br>development\n",
            "  Sample: This paper examines the relationship between biomedical policies and entrepreneurial R&D strategies. Public health programs have been unable to provide effective and affordable treatment of infectious diseases for the poor. While governments have become more open to private sector contributions to policy objectives, it is rare to find new ventures commercializing healthcare innovations for neglected diseases. Two case studies of entrepreneurial ventures, in the UK and China, provide evidence on \n",
            "Loss: 2.3740084171295166 Title:  Predicting zoonoses\n",
            "  Sample: As the line dividing human and wild habitats becomes thinner, we might be brewing the world's next big pandemic. Zoonoses are diseases that are naturally transmitted between animals and humans, and a new project aims to predict their occurrence.\n",
            "Loss: 2.3719797134399414 Title:  Quantitative Performance Monitoring of<br>China’s HIV Response\n",
            "  Sample: China has made tremendous progress in advancing its national HIV program. Key to this progress was setting targets to motivate implementers to work effectively. Indicators were established using an iterative process with national stakeholders while also meeting international pressures. A plethora of demands may have distracted from ownership of the initial national program but, in the end, strengthened a focus on marginalized groups. China gradually relied less on donors and developed a uniquely\n",
            "Loss: 2.3791792392730713 Title:  History of Passive Antibody Administration<br>for Prevention and Treatment of Infectious<br>Diseases\n",
            "  Sample: Purpose of the review-We describe the history of passive immunization to provide context for the series of articles to follow. The history of passive immunization with antibodies to prevent or treat infectious diseases is a story of different eras. There was an extraordinary era of discovery and clinical implementation before the chemical nature of antibodies was even known. This empirical process provided the resources and reagents used to describe and characterize humoral immunity, better defi\n",
            "Loss: 2.3811750411987305 Title:  Metagenomic analysis of viruses in toilet<br>waste from long distance flights—A new procedure for<br>global infectious disease surveillance\n",
            "  Sample: Human viral pathogens are a major public health threat. Reliable information that accurately describes and characterizes the global occurrence and transmission of human viruses is essential to support national and global priority setting, public health actions, and treatment decisions. However, large areas of the globe are currently without surveillance due to limited health care infrastructure and lack of international cooperation. We propose a novel surveillance strategy, using metagenomic ana\n",
            "Saved to Drive\n",
            "{'what is the financial impact of a pandemic': {'top_docs': [{'Loss': 1.2454053163528442, 'Title': ' Impact of pandemic control over airport<br>economics: Reconciling public health with airport<br>business through a streamlined approach in pandemic<br>control', 'Abstract': \"Rapid aviation commercialisation and upsurge in worldwide affluence created a new avenue for disease proliferation across countries at an unprecedented rate. Epidemic and pandemic occurrences over the last decade demonstrate airports' role in disease transmission; while also exhibiting their importance as containment nodes. Tremendous amount of resources and effort are necessary to achieve the latter but inevitably, disrupt normal operations. The contrasting objectives between public health auth\"}, {'Loss': 1.1110522747039795, 'Title': ' Pandemic Influenza Planning in Nursing Homes:<br>Are We Prepared?', 'Abstract': 'Avian influenza or Influenza A (H5N1) is caused by a viral strain that occurs naturally in wild birds, but to which humans are immunologically naïve. If an influenza pandemic occurs, it is expected to have dire consequences, including millions of deaths, social disruption, and enormous economic consequences. The Department of Health and Human Resources plan, released in November 2005, clearly affirms the threat of a pandemic. Anticipating a disruption in many factions of society, every segment o'}, {'Loss': 1.3488359451293945, 'Title': ' Mitigation Strategies for Pandemic Influenza<br>A: Balancing Conflicting Policy Objectives', 'Abstract': 'Mitigation of a severe influenza pandemic can be achieved using a range of interventions to reduce transmission. Interventions can reduce the impact of an outbreak and buy time until vaccines are developed, but they may have high social and economic costs. The non-linear effect on the epidemic dynamics means that suitable strategies crucially depend on the precise aim of the intervention. National pandemic influenza plans rarely contain clear statements of policy objectives or prioritization of '}, {'Loss': 1.2400431632995605, 'Title': ' Economic Analysis of the Use of Facemasks<br>During Pandemic (H1N1) 2009', 'Abstract': 'A large-scale pandemic could cause severe health, social, and economic impacts. The recent 2009 H1N1 pandemic confirmed the need for mitigation strategies that are cost-effective and easy to implement. Typically, in the early stages of a pandemic, as seen with pandemic (H1N1) 2009, vaccines and antivirals may be limited or non-existent, resulting in the need for nonpharmaceutical strategies to reduce the spread of disease and the economic impact. We construct and analyze a mathematical model for'}, {'Loss': 1.3415039777755737, 'Title': ' Challenges and opportunities in pandemic<br>influenza planning: lessons learned from recent<br>infectious disease preparedness and response efforts', 'Abstract': 'The impact of the next pandemic influenza is likely to be far greater, by orders of magnitude, than most bioterrorism (BT) scenarios. A written pandemic emergency plan and establishment of emergency management teams are critical to mounting a coordinated and effective response to what will be a catastrophic event. Members of these teams should include public health, medical, emergency response and public safety officials, organized at each local, state and federal level. The tragic events of Sep'}, {'Loss': 0.9809901714324951, 'Title': ' Estimating the economic impact of pandemic<br>influenza: An application of the computable general<br>equilibrium model to the UK', 'Abstract': 'There is concern regarding the impact that a global infectious disease pandemic might have, especially the economic impact in the current financial climate. However, preparedness planning concentrates more upon population health and maintaining a functioning health sector than on the wider economic impact. We developed a single country Computable General Equilibrium model to estimate the economic impact of pandemic influenza (PI) and associated policies. While the context for this development wa'}, {'Loss': 1.344556450843811, 'Title': ' Precautionary Behavior in Response to<br>Perceived Threat of Pandemic Influenza', 'Abstract': \"Faced with an epidemic of an infectious disease, persons may take precautionary actions to try to reduce their risk. Such actions include avoiding situations that persons perceive to be risky, which can have negative health and economic effects. Therefore, we conducted a populationbased survey of persons' precautionary actions in response to a hypothetical infl uenza pandemic. For the 5 European and 3 Asian regions that had been affected by severe acute respiratory syndrome, the pattern of repor\"}, {'Loss': 1.1985875368118286, 'Title': ' The potential impact of the next influenza<br>pandemic on a national primary care medical workforce', 'Abstract': 'Background: Another influenza pandemic is all but inevitable. We estimated its potential impact on the primary care medical workforce in New Zealand, so that planning could mitigate the disruption from the pandemic and similar challenges.\\nThe model in the \"FluAid\" software (Centers for Disease Control and Prevention, CDC, Atlanta) was applied to the New Zealand primary care medical workforce (i.e., general practitioners).\\nResults: At its peak (week 4) the pandemic would lead to 1.2% to 2.7% loss'}, {'Loss': 1.388931393623352, 'Title': ' Influenza pandemic preparedness: motivation<br>for protection among small and medium businesses<br>in Australia', 'Abstract': 'Background: Community-wide preparedness for pandemic influenza is an issue that has featured prominently in the recent news media, and is currently a priority for health authorities in many countries. The small and medium business sector is a major provider of private sector employment in Australia, yet we have little information about the preparedness of this sector for pandemic influenza. This study aimed to investigate the association between individual perceptions and preparedness for pandem'}, {'Loss': 1.1788091659545898, 'Title': ' The prospect of pandemic influenza: Why should<br>the optometrist be concerned about a public health<br>problem?', 'Abstract': 'Optometrists are uniquely placed in the health care field because they provide both services as well as goods to patients. In the event of an influenza pandemic, optometrists may be challenged with a host of issues, including impediments to clinical patient care, manufacture and delivery of ophthalmic devices, and maintaining business continuity and infection control. OVERVIEW: This report reviews pandemic influenza, the effect of a pandemic event on business survival, and response measures for '}]}, 'what was the goal of the manhattan project': {'top_docs': [{'Loss': 2.1684350967407227, 'Title': ' The Third Annual Meeting of the European Virus<br>Bioinformatics Center', 'Abstract': 'viral infections and outbreaks, being successfully used to detect, control, and treat infections of humans and animals. This active field of research has attracted approximately 110 experts in virology and bioinformatics/computational biology from Europe and other parts of the world to attend the two-day meeting in Glasgow to increase scientific exchange between laboratory-and computer-based researchers. The meeting was held at the McIntyre Building of the University of Glasgow; a perfect locati'}, {'Loss': 2.344064950942993, 'Title': ' Reverse Genetics of Measles Virus and<br>Resulting Multivalent Recombinant Vaccines:<br>Applications of Recombinant Measles Viruses', 'Abstract': 'An overview is given on the development of technologies to allow reverse genetics of RNA viruses, i.e., the rescue of viruses from cDNA, with emphasis on nonsegmented negative-strand RNA viruses ( Mononegavirales ), as exemplified for measles virus (MV). Primarily, these technologies allowed site-directed mutagenesis, enabling important insights into a variety of aspects of the biology of these viruses. Concomitantly, foreign coding sequences were inserted to (a) allow localization of virus repl'}, {'Loss': 2.344242811203003, 'Title': \" One Group's Historical Reflections on DNA<br>Vaccine Development\", 'Abstract': 'DNA vaccines were pioneered by several groups in the early 1990s. This article presents the reflections of one of these groups on their work with retroviral vectors in chickens that contributed to the discovery and early development of DNA vaccines. Although the findings were initially met with skepticism, the work presented here combined with that of others founded a new method of vaccination: the direct inoculation of purified DNA encoding the target antigen.'}, {'Loss': 2.328533411026001, 'Title': ' Promoting influenza prevention for elderly<br>people in Hong Kong using health action process<br>approach: study protocol', 'Abstract': \"Background: People 65 years or older are at greater risk of serious complications from the seasonal influenza compared with young. To promote elderly people's behavioral compliance toward influenza prevention, the aim of the current project is to develop, implement, and evaluate a theory-based low-administration-cost intervention building on a leading psychological theory, the Health Action Process Approach (HAPA).\\nThe target group is Hong Kong Chinese elderly people aged 65 or older who rarely \"}, {'Loss': 2.3522441387176514, 'Title': ' A decade of RNA virus metagenomics is (not)<br>enough', 'Abstract': 'It is hard to overemphasize the role that metagenomics has had on our recent understanding of RNA virus diversity. Metagenomics in the 21st century has brought with it an explosion in the number of RNA virus species, genera, and families far exceeding that following the discovery of the microscope in the 18th century for eukaryotic life or culture media in the 19th century for bacteriology or the 20th century for virology. When the definition of success in organism discovery is measured by seque'}, {'Loss': 2.371751546859741, 'Title': ' Policy-driven ecosystems for new vaccine<br>development', 'Abstract': 'This paper examines the relationship between biomedical policies and entrepreneurial R&D strategies. Public health programs have been unable to provide effective and affordable treatment of infectious diseases for the poor. While governments have become more open to private sector contributions to policy objectives, it is rare to find new ventures commercializing healthcare innovations for neglected diseases. Two case studies of entrepreneurial ventures, in the UK and China, provide evidence on '}, {'Loss': 2.3740084171295166, 'Title': ' Predicting zoonoses', 'Abstract': \"As the line dividing human and wild habitats becomes thinner, we might be brewing the world's next big pandemic. Zoonoses are diseases that are naturally transmitted between animals and humans, and a new project aims to predict their occurrence.\"}, {'Loss': 2.3719797134399414, 'Title': ' Quantitative Performance Monitoring of<br>China’s HIV Response', 'Abstract': 'China has made tremendous progress in advancing its national HIV program. Key to this progress was setting targets to motivate implementers to work effectively. Indicators were established using an iterative process with national stakeholders while also meeting international pressures. A plethora of demands may have distracted from ownership of the initial national program but, in the end, strengthened a focus on marginalized groups. China gradually relied less on donors and developed a uniquely'}, {'Loss': 2.3791792392730713, 'Title': ' History of Passive Antibody Administration<br>for Prevention and Treatment of Infectious<br>Diseases', 'Abstract': 'Purpose of the review-We describe the history of passive immunization to provide context for the series of articles to follow. The history of passive immunization with antibodies to prevent or treat infectious diseases is a story of different eras. There was an extraordinary era of discovery and clinical implementation before the chemical nature of antibodies was even known. This empirical process provided the resources and reagents used to describe and characterize humoral immunity, better defi'}, {'Loss': 2.3811750411987305, 'Title': ' Metagenomic analysis of viruses in toilet<br>waste from long distance flights—A new procedure for<br>global infectious disease surveillance', 'Abstract': 'Human viral pathogens are a major public health threat. Reliable information that accurately describes and characterizes the global occurrence and transmission of human viruses is essential to support national and global priority setting, public health actions, and treatment decisions. However, large areas of the globe are currently without surveillance due to limited health care infrastructure and lack of international cooperation. We propose a novel surveillance strategy, using metagenomic ana'}]}}\n"
          ],
          "name": "stdout"
        }
      ]
    },
    {
      "cell_type": "markdown",
      "metadata": {
        "id": "L08X-fTDVynG",
        "colab_type": "text"
      },
      "source": [
        "We see that the \"what is the financial impact of a pandemic\" question has a slightly lower mean loss score although manhattan project question was seen frequently in training.\n",
        "\n",
        "The loss scores for the top documents returned by the finacial impact query are significalty lower that the manhattan project although their mean losses are similar.\n",
        "\n",
        "Now let's see if there are particular COVID-19 related questions with low loss scores."
      ]
    },
    {
      "cell_type": "code",
      "metadata": {
        "id": "GyMmf5hvU2o8",
        "colab_type": "code",
        "outputId": "a52720d0-bd3b-4fcd-d625-e27011b8b8fd",
        "colab": {
          "base_uri": "https://localhost:8080/",
          "height": 1000,
          "referenced_widgets": [
            "feaf6fb9b30b4b24a4e70ad4b0b0d4c2",
            "855718674fba44d098424342aa8a79a5",
            "056838850c724a0eb543f94b38dfed21",
            "b57b4d173f3f44c4a76a642781832eab",
            "0e84bd7a7a9d4416af514f20a84a2e3c",
            "d4bb44783e0148a79ab3e3013b5d55bd",
            "642dda806da04c4b86ea3e4e1729a295",
            "42195d1097004c418550402cf7fd384d",
            "ac37e475c18e43cab33ee4384a7ab7c0",
            "2a8e9ee45f3e46ed9b585198382925bb",
            "c29c9605d0184011b8d3638ac1a340e3",
            "0d4794539f8843b0a18a13b3626d632a",
            "6cb6382a1d5043d0a354c4d51701417e",
            "7aa1e1afc5184442a5f7db988a40197c",
            "107478d5b7dc434985ee81dc7208f78d",
            "49ab01c319cf431bb92c992da5c4ab8e",
            "06f00ee7f24c473eaf6e199166b2451a",
            "70ea27533ac24ab9bc72131288a07175",
            "328ace0b311d478f82a4774221d3b954",
            "854e8df58f6c401daea33a747b01da58",
            "45a9f9bb84e64802a4b864a1cc577398",
            "bda868293345456b83bd96fa1d2004cc",
            "0a6201bb21234ae9959564b1e82d9b59",
            "d79a7f74cd514bc7b0df2919b2840558",
            "c5fa4c67eddb4411b0e51e5ecee4fa1d",
            "2f0e53a98ce64171b61122da38e549a0",
            "0ed0a0468a354d98b8f6b092918d9014",
            "4fb3aaf57ae0422bbdb3bcf014c0a69e",
            "772cae9e79d6451fa84fe9dea2ef0b4b",
            "ffd438ff8168425cb35bd63e70241def",
            "f418d7b49d964d4997cd6721848bd818",
            "0c8b00d0bccf46c09f8243a1978f13e9",
            "f3e5e03e59a748dbb75b3c0b4f037470",
            "0c2511f062584168a07d375788bd3058",
            "d11ab81b98a84a198d5e0f6704575994",
            "98e8212c657c43059b0e8d04b83c61dc",
            "b60e84d2646a45aa832395e2f9c6796a",
            "5b7e1714c0f14bf593185a40ed0e06e1",
            "078545b387324221ad57f743910d832b",
            "b90c690c050b4f5188af2c9f85f08a7c",
            "b6f50947a0074dbc831361e9efe495c0",
            "1b0c5d26893b460695fcd81c8187fba3",
            "af9523a10c8d4184a289b159c844cc04",
            "49514be35e4d4c318f124e851539499d",
            "3deb4f8469b14b2b92d9e720f84687c5",
            "51d2e00e4a344dc58f00ea2b07569b59",
            "6391c0aadb3c4fb89557eb7a73b90f0a",
            "99b24b94316a49f7a2af9b3b32a3a928",
            "2854ed4ab84e448693fbffbdb1a3a7a0",
            "6f13e12b8c0b4ddb9b4597036989f375",
            "8c336fbb870d4378bdb7fa2e81a2f9d6",
            "c1aeb093f455451d962691bf01723122",
            "22da9183845a4d56b8d463bb06b6015c",
            "495b87f8858f4ca8be1f022b880b75f8",
            "b044aa4c701d4d14a85bcd04e5271710",
            "a76dff1a387a4814bd327b1b9fe7a7e2",
            "7f80b705b7084e1a8b09ec4c0397e211",
            "a0b60c11993445ac8d0f3d9d48c1abb7",
            "71a394c52d2542a19dc1905f4f284ab2",
            "1a0bdbadf9f24ff9a72ec436441af087",
            "d0055028ba574a479789a7e351c5cac3",
            "aceea53b0f5645c8a1af2234b6e98de8",
            "af203880e10a4ea5b309ceb6db7d3447",
            "a806a333e64c4da6926b54986cd53a1c"
          ]
        }
      },
      "source": [
        "questions = [\"what new drugs are being developed\",\n",
        "             \"what is the incubation period of COVID-19\",\n",
        "              \"what is the effectiveness of chloroquine for COVID-19\",\n",
        "              \"what is the duration of viral shedding for COVID-19\",\n",
        "              \"how does COVID-19 bind to the ACE2 receptor\",\n",
        "              \"how do weather conditions affect the transmission of COVID-19\",\n",
        "              \"tell me about IgG and IgM tests for COVID-19\",\n",
        "              \"what is the prognostic value of IL-6 levels in COVID-19\"]\n",
        "\n",
        "res = {}\n",
        "for q in questions:\n",
        "  res[q] = test_question(q)\n",
        "\n",
        "save_results(res, 2)"
      ],
      "execution_count": 0,
      "outputs": [
        {
          "output_type": "display_data",
          "data": {
            "application/vnd.jupyter.widget-view+json": {
              "model_id": "feaf6fb9b30b4b24a4e70ad4b0b0d4c2",
              "version_minor": 0,
              "version_major": 2
            },
            "text/plain": [
              "HBox(children=(IntProgress(value=0, max=26305), HTML(value='')))"
            ]
          },
          "metadata": {
            "tags": []
          }
        },
        {
          "output_type": "stream",
          "text": [
            "\n",
            "Mean loss: 4.359434314133028  Question: what new drugs are being developed\n",
            "Best Matches:\n",
            "Loss: 1.6767781972885132 Title:  Challenges and recent progress in drug<br>discovery for tropical diseases\n",
            "  Sample: Infectious tropical diseases have a huge effect in terms of mortality and morbidity, and impose a heavy economic burden on affected countries. These diseases predominantly affect the world's poorest people. Currently available drugs are inadequate for the majority of these diseases, and there is an urgent need for new treatments. This Review discusses some of the challenges involved in developing new drugs to treat these diseases and highlights recent progress. While there have been notable succ\n",
            "Loss: 1.6075297594070435 Title:  Novel Inhibitor Design for Hemagglutinin<br>against H1N1 Influenza Virus by Core Hopping Method\n",
            "  Sample: The worldwide spread of H1N1 avian influenza and the increasing reports about its resistance to the current drugs have made a high priority for developing new anti-influenza drugs. Owing to its unique function in assisting viruses to bind the cellular surface, a key step for them to subsequently penetrate into the infected cell, hemagglutinin (HA) has become one of the main targets for drug design against influenza virus. To develop potent HA inhibitors, the ZINC fragment database was searched f\n",
            "Loss: 1.7642625570297241 Title:  Inhibition of viral RNA polymerases by<br>nucleoside and nucleotide analogs: therapeutic<br>applications against positive-strand RNA viruses beyond<br>hepatitis C virus\n",
            "  Sample: A number of important human infections are caused by positive-strand RNA viruses, yet almost none can be treated with small molecule antiviral therapeutics. One exception is the chronic infection caused by hepatitis C virus (HCV), against which new generations of potent inhibitors are being developed. One of the main molecular targets for anti-HCV drugs is the viral RNA-dependent RNA polymerase, NS5B. This review summarizes the search for nucleoside and nucleotide analogs that inhibit HCV NS5B, \n",
            "Loss: 1.6727908849716187 Title:  Treating the host response to emerging virus<br>diseases: lessons learned from sepsis, pneumonia,<br>influenza and Ebola\n",
            "  Sample: There is an ongoing threat of epidemic or pandemic diseases that could be caused by influenza, Ebola or other emerging viruses. It will be difficult and costly to develop new drugs that target each of these viruses.\n",
            "Statins and angiotensin receptor blockers (ARBs) have been effective in treating patients with sepsis, pneumonia and influenza, and a statin/ARB combination appeared to dramatically reduce mortality during the recent Ebola outbreak. These drugs target (among other things) the endothe\n",
            "Loss: 1.7819653749465942 Title:  AI-aided design of novel targeted covalent<br>inhibitors against SARS-CoV-2\n",
            "  Sample: The focused drug repurposing of known approved drugs (such as lopinavir/ritonavir) has been reported failed for curing SARS-CoV-2 infected patients. It is urgent to generate new chemical entities against this virus. As a key enzyme in the life-cycle of coronavirus, the 3C-like main protease (3CL pro or M pro ) is the most attractive for antiviral drug design. Based on a recently solved structure (PDB ID: 6LU7), we developed a novel advanced deep Q-learning network with the fragment-based drug de\n",
            "Loss: 1.5879632234573364 Title:  Viral pneumonia in children\n",
            "  Sample: Viral pneumonia causes a heavy burden on our society. In the United States, more than one million cases of pneumonias afflict children under the age of 5 years, costing hundreds of millions of dollars annually. The majority of these infections are caused by a handful of common viruses. Knowledge of the epidemiology of these viruses combined with new rapid diagnostic techniques will provide faster and more reliable diagnoses in the future. Although the basic clinical epidemiology of these viruses\n",
            "Loss: 1.7367125749588013 Title:  Current Tools for Norovirus Drug Discovery\n",
            "  Sample: Introduction-Rapid transmission of norovirus often occurs due to its low infectious dosage, high genetic diversity and its short incubation time. The viruses cause acute gastroenteritis and may lead to death. Presently, no effective vaccine or selective drugs accepted by the United States Food and Drug Administration (FDA) are available for the treatment of norovirus. Advances in the development of norovirus replicon cell lines, GII.4-Sydney HuNoV strain human B cells, and murine and gnotobiotic\n",
            "Loss: 1.663820743560791 Title:  Highlights of the 30th International<br>Conference on Antiviral Research\n",
            "  Sample: highlighted one of the most important accomplishments in recent drug discovery in antiviral research, the identification of the hepatitis C virus directacting antiviral sofosbuvir and new alternatives to combat hepatitis B virus (HBV) infection. The Antonín Holý Lecture Award by David Chu on medicinal chemistry provided an overview of early developments of nucleoside analogs for the treatment of HIV and varicella zoster virus infection and how this knowledge serves to develop new drugs targeting\n",
            "Loss: 1.7967443466186523 Title:  Drug Repurposing Approaches for the Treatment<br>of Influenza Viral Infection: Reviving Old Drugs<br>to Fight Against a Long-Lived Enemy\n",
            "  Sample: Influenza viruses still constitute a real public health problem today. To cope with the emergence of new circulating strains, but also the emergence of resistant strains to classic antivirals, it is necessary to develop new antiviral approaches. This review summarizes the state-of-the-art of current antiviral options against influenza infection, with a particular focus on the recent advances of anti-influenza drug repurposing strategies and their potential therapeutic, regulatory and economic be\n",
            "Loss: 1.8010004758834839 Title:  Addressing the selectivity and toxicity of<br>antiviral nucleosides\n",
            "  Sample: Nucleoside and nucleotide analogs have played significant roles in antiviral therapies and are valued for their impressive potency and high barrier to resistance. They have been approved for treatment of herpes simplex virus-1, HIV, HBV, HCV, and influenza, and new drugs are being developed for the treatment of RSV, Ebola, coronavirus MERS, and other emerging viruses. However, this class of compounds has also experienced a high attrition rate in clinical trials due to toxicity. In this review, w\n"
          ],
          "name": "stdout"
        },
        {
          "output_type": "display_data",
          "data": {
            "application/vnd.jupyter.widget-view+json": {
              "model_id": "ac37e475c18e43cab33ee4384a7ab7c0",
              "version_minor": 0,
              "version_major": 2
            },
            "text/plain": [
              "HBox(children=(IntProgress(value=0, max=26305), HTML(value='')))"
            ]
          },
          "metadata": {
            "tags": []
          }
        },
        {
          "output_type": "stream",
          "text": [
            "\n",
            "Mean loss: 4.668094021432007  Question: what is the incubation period of COVID-19\n",
            "Best Matches:\n",
            "Loss: 0.6816296577453613 Title:  In-flight Transmission Cluster of COVID-19: A<br>Retrospective Case Series\n",
            "  Sample: Objectives: No data were available about in-flight transmission of SARS-CoV-2. Here, we report an in-flight transmission cluster of COVID-19 and describe the clinical characteristics of these patients.\n",
            "Methods: After a flight, laboratory-confirmed COVID-19 was reported in 12 patients. Ten patients were admitted to the designated hospital. Data were collected from 25 th January to 28 th February 2020. Clinical information was retrospectively collected.\n",
            "Results: All patients are passengers without\n",
            "Loss: 0.690512478351593 Title:  Epidemiologic Characteristics of COVID-19 in<br>Guizhou, China\n",
            "  Sample: 162 laboratory-confirmed cases related to COVID-19. We described the demographic 15 characteristics of the cases and estimated the incubation period, serial interval and 16 basic reproduction number. With an estimation of 8 days incubation period and 6 days 17 serial interval, our results indicate that there may exist infectiousness during the 18 incubation period for 2019-nCoV. This increases the difficulty of screening or\n",
            "Loss: 0.6260033249855042 Title:  Estimate the incubation period of coronavirus<br>2019 (COVID-19)\n",
            "  Sample: Wuhan pneumonia is an acute infectious disease caused by the 2019 novel coronavirus for Hubei province. To achieve the accurate calculation of the incubation period, we only involved the officially confirmed cases with a clear history of exposure and time of onset. We excluded those without relevant epidemiological descriptions, working or living in Wuhan for a long time, or hard to determine the possible exposure time. We proposed a Monte Caro simulation approach to estimate the incubation of C\n",
            "Loss: 0.7042562961578369 Title:  Incubation Period and Other Epidemiological<br>Characteristics of 2019 Novel Coronavirus Infections with<br>Right Truncation: A Statistical Analysis of<br>Publicly Available Case Data\n",
            "  Sample: The geographic spread of 2019 novel coronavirus infections from the epicenter of Wuhan, China, has provided an opportunity to study the natural history of the recently emerged virus. Using publicly available event-date data from the ongoing epidemic, the present study investigated the incubation period and other time intervals that govern the epidemiological dynamics of COVID-19 infections. Our results show that the incubation period falls within the range of 2-14 days with 95% confidence and ha\n",
            "Loss: 0.5726404786109924 Title:  Epidemiological Characteristics of<br>COVID-19: A Systemic Review and Meta-Analysis\n",
            "  Sample: 29 Background: Our understanding of the corona virus disease 2019 (COVID-19) continues to 30 evolve. However, there are many unknowns about its epidemiology. 31 Purpose: To synthesize the number of deaths from confirmed COVID-19 cases, incubation 32 period, as well as time from onset of COVID-19 symptoms to first medical visit, ICU admission, 33 recovery and death of COVID-19. Data Synthesis: Out of 1675 non-duplicate studies identified, 57 were included. Pooled mean 41 incubation period was 5.8\n",
            "Loss: 0.7042562961578369 Title:  Incubation Period and Other Epidemiological<br>Characteristics of 2019 Novel Coronavirus Infections with<br>Right Truncation: A Statistical Analysis of<br>Publicly Available Case Data\n",
            "  Sample: The geographic spread of 2019 novel coronavirus infections from the epicenter of Wuhan, China, has provided an opportunity to study the natural history of the recently emerged virus. Using publicly available event-date data from the ongoing epidemic, the present study investigated the incubation period and other time intervals that govern the epidemiological dynamics of COVID-19 infections. Our results show that the incubation period falls within the range of 2-14 days with 95% confidence and ha\n",
            "Loss: 0.7409538626670837 Title:  COVID-19 in a patient with long-term use of<br>glucocorticoids: A study of a familial cluster\n",
            "  Sample: Word count of abstract: 98 words. Word count of text: 1891 words. Number of figures: 2. Running title: A study of familial cluster of COVID-19 Abbreviations: J o u r n a l P r e -p r o o f Journal Pre-proof COVID-19 coronavirus disease 2019 SARS-CoV2 severe acute respiratory syndromecoronavirus 2 SLE systemic lupus erythematous WBC white blood cell ESR erythrocyte sedimentation rates J o u r n a l P r e -p r o o f Journal Pre-proof 3 Abstract Clusters of patients with novel coronavirus disease 2\n",
            "Loss: 0.7576568722724915 Title:  Epidemiological characteristics of 1212<br>COVID-19 patients in Henan, China\n",
            "  Sample: Based on publicly released data for 1212 patients, we investigated the epidemiological characteristics of COVID-19 in Henan of China. The following findings are obtained: 1) COVID-19 patients in Henan show gender (55% vs 45%) and age (81% aged between 21 and 60) preferences, possible causes were explored; 2) Statistical analysis on 483 patients reveals that the estimated average, mode and median incubation periods are 7.4, 4 and 7 days; Incubation periods of 92% patients were no more than 14 day\n",
            "Loss: 0.7746028304100037 Title:  Transmission characteristics of the COVID-19<br>outbreak in China: a study driven by data\n",
            "  Sample: The COVID-19 outbreak has been a serious public health threat worldwide. We use individually documented case descriptions of COVID-19 from China (excluding Hubei Province) to estimate the distributions of the generation time, incubation period, and periods from symptom onset to isolation and to diagnosis. The recommended 14-day quarantine period may lead to a 6.7% failure for quarantine. We recommend a 22-day quarantine period. The mean generation time is 3.3 days and the mean incubation period \n",
            "Loss: 0.7911921143531799 Title:  Little Risk of the COVID-19 Resurgence on<br>Students in China (outside Hubei) Caused by School<br>Reopening\n",
            "  Sample: Objective: School reopening has not yet started in China where the COVID-19 outbreak has 32 reached ending stage, largely due to a great concern about COVID-19 infections on students. We 33 attempted to quantitatively evaluate the risk of COVID-19 infections on students caused by school 34 reopening.\n",
            "Study design: We collected the data of the numbers of teachers, population size and newly 37 confirmed COVID-19 cases in the past 14 days in typical provinces/cities of China, and then 38 analyzed t\n"
          ],
          "name": "stdout"
        },
        {
          "output_type": "display_data",
          "data": {
            "application/vnd.jupyter.widget-view+json": {
              "model_id": "06f00ee7f24c473eaf6e199166b2451a",
              "version_minor": 0,
              "version_major": 2
            },
            "text/plain": [
              "HBox(children=(IntProgress(value=0, max=26305), HTML(value='')))"
            ]
          },
          "metadata": {
            "tags": []
          }
        },
        {
          "output_type": "stream",
          "text": [
            "\n",
            "Mean loss: 5.334950432854899  Question: what is the effectiveness of chloroquine for COVID-19\n",
            "Best Matches:\n",
            "Loss: 0.9819251894950867 Title:  A systematic review on the efficacy and safety<br>of chloroquine for the treatment of COVID-19\n",
            "  Sample: a b s t r a c t a r t i c l e i n f o\n",
            "Purpose: COVID-19 (coronavirus disease 2019) is a public health emergency of international concern. As of this time, there is no known effective pharmaceutical treatment, although it is much needed for patient contracting the severe form of the disease. The aim of this systematic review was to summarize the evidence regarding chloroquine for the treatment of COVID-19. Methods: PubMed, EMBASE, and three trial Registries were searched for studies on the use of\n",
            "Loss: 1.6743583679199219 Title:  Azithromycin and ciprofloxacin have a<br>chloroquine-like effect on respiratory epithelial cells\n",
            "  Sample: There is interest in the use of chloroquine/hydroxychloroquine (CQ/HCQ) and azithromycin (AZT) in COVID-19 therapy. Employing cystic fibrosis respiratory epithelial cells, here we show that drugs AZT and ciprofloxacin (CPX) act as acidotropic lipophilic weak bases and confer in vitro effects on intracellular organelles similar to the effects of CQ. These seemingly disparate FDA-approved antimicrobials display a common property of modulating pH of endosomes and trans-Golgi network. We believe thi\n",
            "Loss: 1.1205077171325684 Title:  Role of Chloroquine and Hydroxychloroquine in<br>the Treatment of COVID-19 Infection- A Systematic<br>Literature Review\n",
            "  Sample: Background: Coronavirus pandemic is currently a global public health emergency. At present, no pharmacological treatment is known to treat this condition, and there is a need to review the available treatments.\n",
            "Objective: While there have been studies to describe the role of chloroquine and hydroxychloroquine in various viral conditions, there is limited information about the use of them in COVID-19. This systematic review aims to summarize the available evidence regarding the role of chloroquin\n",
            "Loss: 1.3478128910064697 Title:  Management of rheumatic diseases in the times<br>of COVID-19 pandemic- perspectives of<br>rheumatology practitioners from India\n",
            "  Sample: The Coronavirus disease 19 pandemic has led to widespread concerns about the risk of infection in patients with rheumatic diseases (RD) receiving disease modifying antrheumatic drugs (DMARDs) and other immunosuppressants (IS).\n",
            "A SurveyMonkey® based electronic survey was conducted amongst members of the Indian Rheumatology Association to understand the need for changes in prevailing practices.\n",
            "Of the 861 invitees, 221 responded. In the wake of the pandemic, 47.5% would reduce biological DMARDs (b\n",
            "Loss: 1.4069089889526367 Title:  Chloroquine and hydroxychloroquine for the<br>treatment of COVID-19: A living systematic review<br>protocol\n",
            "  Sample: To determine the relative impact of the use of chloroquine and hydroxychloroquine on outcomes important to patients with COVID 19.\n",
            "This is the protocol of a living systematic review.\n",
            "We will follow a common protocol for multiple parallel systematic reviews, already published and submitted to PROSPERO (awaiting ID allocation). We will include randomised controlled trials evaluating the effect of chloroquine and hydroxychloroquine -as monotherapy or in combination with other drugs -versus placebo \n",
            "Loss: 1.3101261854171753 Title:  Contentious issues and evolving concepts in<br>the clinical presentation and management of<br>patients with COVID-19 infectionwith reference to use<br>of therapeutic and other drugs used in Co-morbid<br>diseases (Hypertension, diabetes etc)\n",
            "  Sample: Background and aims: Multiple issues in management of COVID have emerged, but confusion persists regarding rational interpretation. Aim of this brief review is to review these issues based on current literature. Methods: This is a narrative review with Pubmed and Google Scholar search till 23 March 2020. Search terms were, COVID-19, treatment of coronavirus, COVID 19 and following terms; chloroquine, hydroxychloroquine, ibuprofen, ACE-inhibitors or angiotensin receptor blockers, cardiovascular d\n",
            "Loss: 1.703188180923462 Title:  Genetic Profiles in Pharmacogenes Indicate<br>Personalized Drug Therapy for COVID-19\n",
            "  Sample: The coronavirus disease 2019 has become a global pandemic currently. Many drugs showed potential for COVID-19 therapy. However, genetic factors which can lead to different drug efficiency and toxicity among populations are still undisclosed in COVID-19 therapy.\n",
            "We selected 67 potential drugs for COVID-19 therapy (DCTs) from clinical guideline and clinical trials databases. 313 pharmaco-genes related to these therapeutic drugs were included. Variation information in 125,748 exomes were collected \n",
            "Loss: 1.7270243167877197 Title:  Hydroxychloroquine and azithromycin as a<br>treatment of COVID-19: results of an open-label<br>non-randomized clinical trial\n",
            "  Sample: Chloroquine and hydroxychloroquine have been found to be efficient on SARS-CoV-2, and reported to be efficient in Chinese COV-19 patients. We evaluate the role of hydroxychloroquine on respiratory viral loads.\n",
            "French Confirmed COVID-19 patients were included in a single arm protocol from early March to March 16 th , to receive 600mg of hydroxychloroquine daily and their viral load in nasopharyngeal swabs was tested daily in a hospital setting. Depending on their clinical presentation, azithromyc\n",
            "Loss: 1.7396003007888794 Title:  Structural and molecular modeling studies<br>reveal a new mechanism of action of chloroquine and<br>hydroxychloroquine against SARS-CoV-2 infection\n",
            "  Sample: Structural and molecular modeling studies reveal a new mechanism of action of chloroquine and hydroxychloroquine against SARS-CoV-2 infection, Highlights  The COVID-19 pandemic caused by SARS-CoV-2 poses a global health emergency  Promising results suggest that chloroquine could stop the spread of SARS-CoV-2  In silico studies confirm the antiviral properties of chloroquine  New mechanism of action of chloroquine elucidated  Hydroxychloroquine is more potent than chloroquine\n",
            "Graphical abstr\n",
            "Loss: 1.7629133462905884 Title:  Quantifying treatment effects of<br>hydroxychloroquine and azithromycin for COVID-19: a secondary<br>analysis of an open label non-randomized clinical trial<br>(Gautret et al, 2020)\n",
            "  Sample: Human infections with a novel coronavirus (SARS-CoV-2) were first identified via syndromic surveillance in December of 2019 in Wuhan China. Since identification, infections (coronavirus disease-2019; COVID-19) caused by this novel pathogen have spread globally, with more than 250,000 confirmed cases as of March 21, 2020. An open-label clinical trial has just concluded, suggesting improved resolution of viremia with use of two existing therapies: hydroxychloroquine (HCQ) as monotherapy, and in co\n"
          ],
          "name": "stdout"
        },
        {
          "output_type": "display_data",
          "data": {
            "application/vnd.jupyter.widget-view+json": {
              "model_id": "c5fa4c67eddb4411b0e51e5ecee4fa1d",
              "version_minor": 0,
              "version_major": 2
            },
            "text/plain": [
              "HBox(children=(IntProgress(value=0, max=26305), HTML(value='')))"
            ]
          },
          "metadata": {
            "tags": []
          }
        },
        {
          "output_type": "stream",
          "text": [
            "\n",
            "Mean loss: 5.83694266549219  Question: what is the duration of viral shedding for COVID-19\n",
            "Best Matches:\n",
            "Loss: 1.2328652143478394 Title:  Clinical course and risk factors for mortality<br>of adult inpatients with COVID-19 in Wuhan,<br>China: a retrospective cohort study\n",
            "  Sample: Background Since December, 2019, Wuhan, China, has experienced an outbreak of coronavirus disease 2019 (COVID-19), caused by the severe acute respiratory syndrome coronavirus 2 (SARS-CoV-2). Epidemiological and clinical characteristics of patients with COVID-19 have been reported but risk factors for mortality and a detailed clinical course of illness, including viral shedding, have not been well described.\n",
            "In this retrospective, multicentre cohort study, we included all adult inpatients (≥18 ye\n",
            "Loss: 1.1800122261047363 Title:  Virologic and clinical characteristics for<br>prognosis of severe COVID-19: a retrospective<br>observational study in Wuhan, China\n",
            "  Sample: The severe acute respiratory syndrome coronavirus 2 (SARS-CoV-2) has progressed to a pandemic associated with substantial morbidity and mortality. The WHO and the United States Center for Disease Control and Prevention (CDC) have issued interim clinical guidance for management of patients with confirmed coronavirus disease , but there is limited data on the virologic and clinical characteristics for prognosis of severe COVID-19.\n",
            "A total of 50 patients with severe COVID-19 were divided into good \n",
            "Loss: 1.1283233165740967 Title:  A special case of COVID-19 with long duration of<br>viral shedding for 49 days\n",
            "  Sample: Prolonged viral shedding is associated with severe status and poor prognosis of COVID-19 patients. Unexpectedly, here we report a non-severe patient with the longest duration of viral shedding. According to the investigation on the clinical and epidemiological information of this case, we concluded that this type of virus might have a low toxicity and transmissibility, but have a prolonged infective ability and was hardly to be eliminated in the body with regular therapy. However, infusion of pl\n",
            "Loss: 1.6837382316589355 Title:  Prolonged presence of SARS-CoV-2 in feces of<br>pediatric patients during the convalescent phase\n",
            "  Sample: Background: Severe acute respiratory coronavirus 2 (SARS-CoV-2) is a newly identified virus which mainly spreads from person-to-person. Presence of SARS-CoV-2 has been constantly reported in stools of patients with coronavirus disease 2019 (COVID-19).\n",
            "However, there is a paucity of data concerning fecal shedding of the virus in pediatric patients.\n",
            "Objective: To investigate dynamic changes of SARS-CoV-2 in respiratory and fecal specimens in children with COVID-19. , three pediatric cases of were \n",
            "Loss: 2.156221866607666 Title:  Effects of temperature on COVID-19<br>transmission\n",
            "  Sample: Coronavirus disease 2019 is an infectious disease caused by severe acute respiratory syndrome coronavirus 2 (SARS-CoV-2), it was first identified in 2019 in Wuhan, China and has resulted in the 2019-20 coronavirus pandemic. As of March 1, 2020, 79,968 patients in China and 7169 outside of China had tested positive for COVID-19 and a mortality rate of 3.6% has been observed amongst Chinese patients. Its primary mode of transmission is via respiratory droplets from coughs and sneezes. The virus ca\n",
            "Loss: 1.974603533744812 Title:  Mathematical model of infection kinetics and<br>its analysis for COVID-19, SARS and MERS\n",
            "  Sample: The purpose of this paper is to reveal the spread rules of the three pneumonia: COVID-19, SARS and MERS. We compare the new spread characteristics of COVID-19 with those of SARS and MERS. By considering the growth rate and inhibition constant of infectious diseases, their propagation growth model is established. The parameters of the three coronavirus transmission growth models are obtained by nonlinear fitting. Parametric analysis shows that the growth rate of COVID-19 is about twice that of th\n",
            "Loss: 1.8512643575668335 Title:  Temporal dynamics in viral shedding and<br>transmissibility of COVID-19\n",
            "  Sample: We report temporal patterns of viral shedding in 94 laboratory-confirmed COVID-19 patients and modelled COVID-19 infectiousness profile from a separate sample of 77 infector-infectee transmission pairs. We observed the highest viral load in throat swabs at the time of symptom onset, and inferred that infectiousness peaked on or before symptom onset. We estimated that 44% of transmission could occur before first symptoms of the index. Disease control measures should be adjusted to account for pro\n",
            "Loss: 1.6862716674804688 Title:  Transmission Potential of SARS-CoV-2 in Viral<br>Shedding Observed at the University of Nebraska Medical<br>Center\n",
            "  Sample: Lack of evidence on SARS-CoV-2 transmission dynamics has led to shifting isolation guidelines between airborne and droplet isolation precautions. During the initial isolation of 13 individuals confirmed positive with COVID-19 infection, air and surface samples were collected in eleven isolation rooms to examine viral shedding from isolated individuals. While all individuals were confirmed positive for SARS-CoV-2, symptoms and viral shedding to the 15 environment varied considerably. Many commonl\n",
            "Loss: 2.0346598625183105 Title:  COVID-19 in a patient with long-term use of<br>glucocorticoids: A study of a familial cluster\n",
            "  Sample: Word count of abstract: 98 words. Word count of text: 1891 words. Number of figures: 2. Running title: A study of familial cluster of COVID-19 Abbreviations: J o u r n a l P r e -p r o o f Journal Pre-proof COVID-19 coronavirus disease 2019 SARS-CoV2 severe acute respiratory syndromecoronavirus 2 SLE systemic lupus erythematous WBC white blood cell ESR erythrocyte sedimentation rates J o u r n a l P r e -p r o o f Journal Pre-proof 3 Abstract Clusters of patients with novel coronavirus disease 2\n",
            "Loss: 2.1875088214874268 Title:  Epidemiological and clinical features of<br>COVID-19 patients with and without pneumonia in<br>Beijing, China\n",
            "  Sample: Background: SARS-CoV-2-caused coronavirus disease (COVID-19) is posing a large casualty. The features of COVID-19 patients with and without pneumonia, SARS-CoV-2 transmissibility in asymptomatic carriers, and factors predicting disease progression remain unknown. Methods: We collected information on clinical characteristics, exposure history, and laboratory examinations of all laboratory-confirmed COVID-19 patients admitted to PLA General Hospital. Cox regression analysis was applied to identify\n"
          ],
          "name": "stdout"
        },
        {
          "output_type": "display_data",
          "data": {
            "application/vnd.jupyter.widget-view+json": {
              "model_id": "f3e5e03e59a748dbb75b3c0b4f037470",
              "version_minor": 0,
              "version_major": 2
            },
            "text/plain": [
              "HBox(children=(IntProgress(value=0, max=26305), HTML(value='')))"
            ]
          },
          "metadata": {
            "tags": []
          }
        },
        {
          "output_type": "stream",
          "text": [
            "\n",
            "Mean loss: 6.173504550682232  Question: how does COVID-19 bind to the ACE2 receptor\n",
            "Best Matches:\n",
            "Loss: 2.231472969055176 Title:  The SARS-CoV-2 exerts a distinctive strategy<br>for interacting with the ACE2 human receptor\n",
            "  Sample: The COVID-19 disease has plagued over 110 countries and has resulted in over 4,000 deaths within 10 weeks. We compare the interaction between the human ACE2 receptor and the SARS-CoV-2 spike protein with that of other pathogenic coronaviruses using molecular dynamics simulations. SARS-CoV, SARS-CoV-2, and HCoV-NL63 recognize ACE2 as the natural receptor but present a distinct binding interface to ACE2 and a different network of residue-residue contacts. SARS-CoV and SARS-CoV-2 have comparable bi\n",
            "Loss: 2.3017055988311768 Title:  The first-in-class peptide binder to the<br>SARS-CoV-2 spike protein\n",
            "  Sample: Coronavirus disease 19 is an emerging global health crisis. With over 200,000 29 confirmed cases to date, this pandemic continues to expand, spurring research to discover 30 vaccines and therapies. SARS-CoV-2 is the novel coronavirus responsible for this disease. It 31 initiates entry into human cells by binding to angiotensin-converting enzyme 2 (ACE2) via the 32 receptor binding domain (RBD) of its spike protein (S). Disrupting the SARS-CoV-2-RBD binding 33 to ACE2 with designer drugs has the \n",
            "Loss: 2.191441059112549 Title:  Single-cell RNA Analysis on ACE2 Expression<br>Provides Insight into SARS-CoV-2 Blood Entry and Heart<br>Injury\n",
            "  Sample: COVID-19 is a global pandemic with high infectivity and pathogenicity, accounting for tens of thousands of deaths worldwide. Recent studies have found that the pathogen of COVID-19, SARS-CoV-2, shares the same cell receptor Angiotensin converting enzyme II (ACE2) with SARS-CoV. The pathological investigation of COVID-19 death showed that the lung had the characteristics of pulmonary fibrosis. However, how SARS-CoV-2 spreads from the lungs to other organs has not yet been determined. Here, we per\n",
            "Loss: 2.319169521331787 Title:  ACE2 variants underlie interindividual<br>variability and susceptibility to COVID-19 in Italian<br>population\n",
            "  Sample: In December 2019, an initial cluster of unexpected interstitial bilateral pneumonia emerged in Wuhan, Hubei province. A human-to-human transmission was immediately assumed and a previously unrecognized entity, termed coronavirus disease 19 (COVID-19) due to a novel coronavirus (2019-nCov) was suddenly described. The infection has rapidly spread out all over the world and Italy has been the first European Country experiencing the endemic wave with unexpected clinical severity in comparison with A\n",
            "Loss: 2.2236485481262207 Title:  ACE2 Expression is Increased in the Lungs of<br>Patients with Comorbidities Associated with Severe<br>COVID-19\n",
            "  Sample: The pandemic caused by the Severe Acute Respiratory Syndrome Coronavirus 2 (SARS-CoV-2) has resulted in several thousand deaths worldwide in just a few months. Patients who died from Coronavirus disease 2019 (COVID-19) often had comorbidities, such as hypertension, diabetes, and chronic obstructive lung disease. The angiotensin-converting enzyme 2 (ACE2) was identified as a crucial factor that facilitates SARS-CoV2 to bind and enter host cells. To date, no study has assessed the ACE2 expression \n",
            "Loss: 2.034393548965454 Title:  Evidence of the COVID-19 Virus Targeting the<br>CNS: Tissue Distribution, Host–Virus<br>Interaction, and Proposed Neurotropic Mechanisms\n",
            "  Sample: The recent outbreak of coronavirus infectious disease 2019 has gripped the world with apprehension and has evoked a scare of epic proportion regarding its potential to spread and infect humans worldwide. As we are in the midst of an ongoing pandemic of COVID-19, scientists are struggling to understand how it resembles and differs from the severe acute respiratory syndrome coronavirus (SARS-CoV) at the genomic and transcriptomic level. In a short time following the outbreak, it has been shown tha\n",
            "Loss: 2.0322577953338623 Title:  Computational simulations reveal the binding<br>dynamics between human ACE2 and the receptor binding<br>domain of SARS-CoV-2 spike protein\n",
            "  Sample: A novel coronavirus (the SARS-CoV-2) has been identified in January 2020 as the causal pathogen for COVID-19 pneumonia, an outbreak started near the end of 2019 in Wuhan, China. The SARS-CoV-2 was found to be closely related to the SARS-CoV, based on the genomic analysis. The Angiotensin converting enzyme 2 protein (ACE2) utilized by the SARS-CoV as a receptor was found to facilitate the infection of SARS-CoV-2, initiated by the binding of the spike protein to the human ACE2. Using homology mode\n",
            "Loss: 2.318101167678833 Title:  Spike protein binding prediction with<br>neutralizing antibodies of SARS-CoV-2\n",
            "  Sample: Coronavirus disease 2019 (COVID-19) is a new emerging human infectious disease caused by Severe Acute 24 Respiratory Syndrome Coronavirus 2 (SARS-CoV-2, also previously known as 2019-nCoV), originated in 25 Wuhan seafood and animal market, China. Since December 2019, more than 69,000 cases of COVID-19 have 26 been confirmed in China and quickly spreads to other counties. Currently, researchers put their best efforts to 27 identify effective drugs for COVID-19. The neutralizing antibody, which bi\n",
            "Loss: 2.3125412464141846 Title:  ACE-2 Expression in the Small Airway Epithelia<br>of Smokers and COPD Patients: Implications for<br>COVID-19\n",
            "  Sample: All of these institutions are in Vancouver, British Columbia, Canada Abstract Introduction: Coronavirus disease 2019 (COVID-19) is a respiratory infection caused by the severe acute respiratory syndrome coronavirus-2 (SARS-CoV-2). This virus uses the angiotensin converting enzyme II (ACE-2) as the cellular entry receptor to infect the lower respiratory tract. Because individuals with chronic obstructive pulmonary disease (COPD) are at increased risk of severe COVID-19, we determined whether ACE-\n",
            "Loss: 2.3699424266815186 Title:  Knowledge synthesis from 100 million<br>biomedical documents augments the deep expression<br>profiling of coronavirus receptors\n",
            "  Sample: The COVID-19 pandemic demands assimilation of all available biomedical knowledge to decode its mechanisms of pathogenicity and transmission. Despite the recent renaissance in unsupervised neural networks for decoding unstructured natural languages, a platform for the real-time synthesis of the exponentially growing biomedical literature and its comprehensive triangulation with deep omic insights is not available. Here, we present the nferX platform for dynamic inference from over 45 quadrillion \n"
          ],
          "name": "stdout"
        },
        {
          "output_type": "display_data",
          "data": {
            "application/vnd.jupyter.widget-view+json": {
              "model_id": "b6f50947a0074dbc831361e9efe495c0",
              "version_minor": 0,
              "version_major": 2
            },
            "text/plain": [
              "HBox(children=(IntProgress(value=0, max=26305), HTML(value='')))"
            ]
          },
          "metadata": {
            "tags": []
          }
        },
        {
          "output_type": "stream",
          "text": [
            "\n",
            "Mean loss: 6.3802170541344925  Question: how do weather conditions affect the transmission of COVID-19\n",
            "Best Matches:\n",
            "Loss: 2.1481802463531494 Title:  A mathematical model of COVID-19 transmission<br>between frontliners and the general public\n",
            "  Sample: The number of COVID-19 cases is continuously increasing in different countries (as of March 2020) including the Philippines. It is estimated that the basic reproductive number of COVID-19 is around 1.5 to 4. The basic reproductive number characterizes the average number of persons that a primary case can directly infect in a population full of susceptible individuals.\n",
            "However, there can be superspreaders that can infect more than this estimated basic reproductive number. In this study, we formul\n",
            "Loss: 1.8399919271469116 Title:  Evidence that higher temperatures are<br>associated with lower incidence of COVID-19 in pandemic<br>state, cumulative cases reported up to March 27, 2020\n",
            "  Sample: Seasonal temperature variation may impact the trajectories of COVID-19 in different global regions. Cumulative data reported by the World Health Organization, for dates up to March 27, 2020 1 , show association between COVID-19 incidence and regions at or above 30 o latitude. Historic climate data also show significant reduction of case rates with mean maximum temperature above approximately 22.5 degrees Celsius. Variance at the local level, however, could not be well explained by geography and \n",
            "Loss: 2.0807158946990967 Title:  Effects of temperature on COVID-19<br>transmission\n",
            "  Sample: Coronavirus disease 2019 is an infectious disease caused by severe acute respiratory syndrome coronavirus 2 (SARS-CoV-2), it was first identified in 2019 in Wuhan, China and has resulted in the 2019-20 coronavirus pandemic. As of March 1, 2020, 79,968 patients in China and 7169 outside of China had tested positive for COVID-19 and a mortality rate of 3.6% has been observed amongst Chinese patients. Its primary mode of transmission is via respiratory droplets from coughs and sneezes. The virus ca\n",
            "Loss: 2.1427361965179443 Title:  Predict the next moves of COVID-19: reveal the<br>temperate and tropical countries scenario\n",
            "  Sample: The spread of COVID-19 engulfs almost all the countries and territories of the planet, and infections and fatality are increasing rapidly. The first epi-center of its' massive spread was in Wuhan, Hubei province, China having a temperate weather, but the spread has got an unprecedented momentum in European temperate countries mainly in Italy and Spain (as of March 30, 2020). However, Malaysia and Singapore and the neighboring tropical countries of China got relatively low spread and fatality tha\n",
            "Loss: 2.068004608154297 Title:  Role of temperature and humidity in the<br>modulation of the doubling time of COVID-19 cases\n",
            "  Sample: COVID-19 is having a great impact on public health, mortality and economy worldwide, in spite of the efforts to prevent its epidemy. The SARS-CoV-2 genome is different from that of MERS-CoV and SARS-CoV, although also expected to spread differently according to meteorological conditions. Our main goal is to investigate the role of some meteorological variables on the expansion of this outbreak.\n",
            "In this study, an exponential model relating the number of accumulated confirmed cases and time was co\n",
            "Loss: 2.1073405742645264 Title:  COVID-19 pandemic: Impact of lockdown,<br>contact and non-contact transmissions on infection<br>dynamics\n",
            "  Sample: COVID-19 coronavirus pandemic has virtually locked down the entire world of human population, and through its rapid and unstoppable spread COVID-19 has essentially compartmentalised the population merely into susceptible, exposed, infected and recovered classes. Adapting the classical epidemic modelling framework, two distinct routes of COVID-19 transmission are incorporated into a model: (a) direct person-to-person contact transmission, and (b) indirect airborne and fomites-driven transmission.\n",
            "Loss: 2.1571733951568604 Title:  Flattening the curve is not enough, we need to<br>squash it. An explainer using a simple model\n",
            "  Sample: The known: COVID-19 has been diagnosed in over 4,000 Australians. Up until mid-March, most were from international travel, but now we are seeing a rise in locally acquired cases.\n",
            "This study uses a simple transmission dynamic model to demonstrate the difference between moderate changes to the reproduction number and forcing the reproduction number below one.\n",
            "Background: Around the world there are examples of both effective control (e.g., South Korea, Japan) and less successful control (e.g., Ital\n",
            "Loss: 2.1694583892822266 Title:  Roles of meteorological conditions in<br>COVID-19 transmission on a worldwide scale\n",
            "  Sample: The novel coronavirus (SARS-CoV-2/ 2019-nCoV) identified in Wuhan, China, in December 2019 has caused great damage to public health and economy worldwide with over 140,000 infected cases up to date. Previous research has suggested an involvement of meteorological conditions in the spread of droplet-mediated viral diseases, such as influenza. However, as for the recent novel coronavirus, few studies have discussed systematically about the role of daily weather in the epidemic transmission of the \n",
            "Loss: 2.171189785003662 Title:  The time scale of asymptomatic transmission<br>affects estimates of epidemic potential in the<br>COVID-19 outbreak\n",
            "  Sample: We assess the impact of asymptomatic transmission on epidemic potential of novel respiratory pathogens (like COVID-19) -as measured both by the basic reproduction number (i.e., the expected number of secondary cases generated by an average primary case in a fully susceptible population) and the fraction of new secondary cases attributable to asymptomatic individuals. We show that the impact of asymptomatic transmission depends on generation intervals (i.e., time between when an individual is inf\n",
            "Loss: 2.2219467163085938 Title:  Eco-epidemiological assessment of the<br>COVID-19 epidemic in China, January-February 2020\n",
            "  Sample: Background: The outbreak of COVID-19 in China in early 2020 provides a rich data source for exploring the ecological determinants of this new infection, which may be of relevance elsewhere.\n",
            "Objectives: Assessing the spread of the COVID-19 across China, in relation to associations between cases and ecological factors including population density, temperature, solar radiation and precipitation.\n",
            "Methods: Open-access COVID-19 case data include 18,069 geo-located cases in China during January and Feb\n"
          ],
          "name": "stdout"
        },
        {
          "output_type": "display_data",
          "data": {
            "application/vnd.jupyter.widget-view+json": {
              "model_id": "2854ed4ab84e448693fbffbdb1a3a7a0",
              "version_minor": 0,
              "version_major": 2
            },
            "text/plain": [
              "HBox(children=(IntProgress(value=0, max=26305), HTML(value='')))"
            ]
          },
          "metadata": {
            "tags": []
          }
        },
        {
          "output_type": "stream",
          "text": [
            "\n",
            "Mean loss: 5.999646185179034  Question: tell me about IgG and IgM tests for COVID-19\n",
            "Best Matches:\n",
            "Loss: 2.5236029624938965 Title:  Clinical significance of IgM and IgG test for<br>diagnosis of highly suspected COVID-19 infection\n",
            "  Sample: Quick, simple and accurate diagnosis of suspected COVID-19 is very important for the screening and therapy of patients. Although several methods were performed in clinical practice, however, the IgM and IgG diagnostic value evaluation was little performed. 57 suspected COVID-19 infection patients were enrolled in our study. 24 patients with positive and 33 patients with negative nucleic acid test. The positive rate of COVID-19 nucleic acid was 42.10%. The positive detection rate of combination o\n",
            "Loss: 2.9075546264648438 Title:  Antibody responses to SARS-CoV-2 in patients<br>of novel coronavirus disease 2019\n",
            "  Sample: The novel coronavirus SARS-CoV-2 is a newly emerging virus. The antibody response in infected patient remains largely unknown, and the clinical values of antibody testing have not been fully demonstrated.\n",
            "A total of 173 patients with confirmed SARS-CoV-2 infection were enrolled. Their serial plasma samples (n = 535) collected during the hospitalization period were tested for total antibodies (Ab), IgM and IgG against SARS-CoV-2 using immunoassays. The dynamics of antibodies with the progress and\n",
            "Loss: 2.9177746772766113 Title:  Antibody responses to SARS-CoV-2 in COVID-19<br>patients: the perspective application of serological<br>tests in clinical practice\n",
            "  Sample: Background We aim to investigate the profile of acute antibody response in COVID-19 patients, and provide proposals for the usage of antibody test in clinical practice.\n",
            "Methods A multi-center cross-section study (285 patients) and a single-center follow-up study (63 patients) were performed to investigate the feature of acute antibody response to SARS-CoV-2. A cohort of 52 COVID-19 suspects and 64 close contacts were enrolled to evaluate the potentiality of the antibody test.\n",
            "The positive rate f\n",
            "Loss: 2.8676774501800537 Title:  Global profiling of SARS-CoV-2 specific IgG/<br>IgM responses of convalescents using a proteome<br>microarray\n",
            "  Sample: COVID-19 is caused by SARS-CoV-2, and has become a global pandemic. There is no highly effective medicine or vaccine, most of the patients were recovered by their own immune response, especially the virus specific IgG and IgM responses. However, the IgG/ IgM responses is barely known. To enable the global understanding of SARS-CoV-2 specific IgG/ IgM responses, a SARS-CoV-2 proteome microarray with 18 out of the 28 predicted proteins was constructed. The microarray was applied to profile the IgG\n",
            "Loss: 2.6955292224884033 Title:  Optimize Clinical Laboratory Diagnosis of<br>COVID-19 from Suspect Cases by Likelihood Ratio of<br>SARS-CoV-2 IgM and IgG antibody\n",
            "  Sample: Objective: To optimize clinical laboratory diagnosis of COVID-19 from suspect cases by Likelihood Ratio of SARS-CoV-2 IgM and IgG antibody. Methods: By reinterpreting the data in the article \"Diagnostic Value of Combined Detection of Serum 2019 novel coronavirus IgM and IgG Antibodies in novel coronavirusin Infection\", the positive likelihood ratio of IgM and IgG antibody in diagnosis of COVID-19 (nucleic acid positive patients) was calculated, and the posterior probability of IgM and IgG antibo\n",
            "Loss: 2.739121675491333 Title:  Serological detection of 2019-nCoV respond to<br>the epidemic: A useful complement to nucleic acid<br>testing\n",
            "  Sample: Corona Virus Disease 2019 has spread rapidly to more than 70 countries and regions overseas and over 80000 cases have been infected, resulting in more than three thousand deaths. Rapid diagnosis of patients remains a bottleneck in containing the progress of the epidemic. We used automated chemiluminescent immunoassay to detect serum IgM and IgG antibodies to 2019-nCoV of 736 subjects. COVID-19 patients were becoming reactive(positive) for specific antibodies from 7-12 days after the onset of mor\n",
            "Loss: 2.9438087940216064 Title:  Cross-reaction of sera from COVID-19 patients<br>with SARS-CoV assays.\n",
            "  Sample: 1\n",
            "Background: The SARS-CoV-2 shares 74.5% genome identity with SARS-CoV, both 2 exhibiting a similar well conserved structure. Therefore, antibodies produced in COVID-19 and 3 SARS patients should not be that dissimilar. We evaluated SARS-CoV test assays to detect for 4 the presence of antibodies to SARS-CoV-2 and tried to determine the timing of appearance of 5 these antibodies by testing serial sera from these patients. Methods: Tests were carried out using 6 ELISA (total antibodies) and indir\n",
            "Loss: 2.6522645950317383 Title:  Diagnostic Indexes of a Rapid IgG/IgM Combined<br>Antibody Test for SARS-CoV-2\n",
            "  Sample: medRxiv preprint [Abstract]Objective Coronavirus disease 2019 (COVID-19) has become pandemic in the world. The need for IgG-IgM combined antibody test is booming, but data on diagnostic indexes evaluation was inadequate. The aim of this study was to evaluate diagnostic indexes of a rapid IgG-IgM combined antibody test for SARS-CoV-2. Methods A total of 179 patients were enrolled. Serum were collected for IgG-IgM combined antibody test and corresponding nasal and pharyngeal swab specimens were co\n",
            "Loss: 2.9579527378082275 Title:  Evaluation of Nucleocapsid and Spike<br>Protein-based ELISAs for detecting antibodies against<br>SARS-CoV-2\n",
            "  Sample: Background: At present, PCR-based nucleic acid detection cannot meet the demands 22 for coronavirus infectious disease (COVID-19) diagnosis.\n",
            "Immunosorbent Assay (ELISA) kits based on recombinant SARS-CoV-2 nucleocapsid 27 protein (rN) and spike protein (rS) were used for detecting IgM and IgG antibodies, 28 and their diagnostic feasibility was evaluated. 29 Results: Among the 214 patients, 146 (68.2%) and 150 (70.1%) were successfully 30 diagnosed with the rN-based IgM and IgG ELISAs, respective\n",
            "Loss: 2.9700279235839844 Title:  Evaluation of Enzyme-Linked Immunoassay and<br>Colloidal Gold- Immunochromatographic Assay Kit for<br>Detection of Novel Coronavirus (SARS-Cov-2) Causing an<br>Outbreak of Pneumonia (COVID-19)\n",
            "  Sample: BACKGROUND: In December 2019, a novel coronavirus (SARS-CoV-2)-infected pneumonia (COVID-19) occurred in Wuhan, China. Travel-associated cases have also been reported in other countries. The number of cases has increased rapidly but laboratory diagnosis is limited. METHODS: We collect two groups of cases diagnosed with COVID-19 for experiments. One group collected 63 samples for Enzyme-linked immunosorbent assay (ELISA) IgG and IgM antibodies. The other group collected 91 plasma samples for coll\n"
          ],
          "name": "stdout"
        },
        {
          "output_type": "display_data",
          "data": {
            "application/vnd.jupyter.widget-view+json": {
              "model_id": "7f80b705b7084e1a8b09ec4c0397e211",
              "version_minor": 0,
              "version_major": 2
            },
            "text/plain": [
              "HBox(children=(IntProgress(value=0, max=26305), HTML(value='')))"
            ]
          },
          "metadata": {
            "tags": []
          }
        },
        {
          "output_type": "stream",
          "text": [
            "\n",
            "Mean loss: 4.875280444777481  Question: what is the prognostic value of IL-6 levels in COVID-19\n",
            "Best Matches:\n",
            "Loss: 1.9586209058761597 Title:  Potential Factors for Prediction of Disease<br>Severity of COVID-19 Patients\n",
            "  Sample: Objective: Coronavirus disease 2019 (COVID-19) is an escalating global epidemic caused by SARS-CoV-2, with a high mortality in critical patients. Effective indicators for predicting disease severity in SARS-CoV-2 infected patients are urgently needed. Methods: In this study, 43 COVID-19 patients admitted in Chongqing Public Health Medical Center were involved. Demographic data, clinical features, and laboratory examinations were obtained through electronic medical records. Peripheral blood speci\n",
            "Loss: 1.5714422464370728 Title:  Detectable serum SARS-CoV-2 viral load<br>(RNAaemia) is closely associated with drastically<br>elevated interleukin 6 (IL-6) level in critically ill<br>COVID-19 patients\n",
            "  Sample: Although the SARS-CoV-2 viral load detection of respiratory specimen has been widely used for novel coronavirus disease diagnosis, it is undeniable that serum SARS-CoV-2 nucleic acid (RNAaemia) could be detected in a fraction of the COVID-19 patients. However, it is not clear that if the incidence of RNAaemia could be correlated with the occurrence of cytokine storm or with the specific class of patients.\n",
            "This study enrolled 48 patients with COVID-19 admitted to the General Hospital of Central T\n",
            "Loss: 1.9027628898620605 Title:  Level of IL-6 predicts respiratory failure in<br>hospitalized symptomatic COVID-19 patients\n",
            "  Sample: The pandemic Coronavirus-disease 19 is characterized by a heterogeneous clinical course. While most patients experience only mild symptoms, a relevant proportion develop severe disease progression with increasing hypoxia up to acute respiratory distress syndrome. The substantial number of patients with severe disease have strained intensive care capacities to an unprecedented level. Owing to the highly variable course and lack of reliable predictors for deterioration, we aimed to identify variab\n",
            "Loss: 1.5744602680206299 Title:  Use of siltuximab in patients with COVID-19<br>pneumonia requiring ventilatory support\n",
            "  Sample: COVID-19 is caused by the Severe Acute Respiratory Syndrome Coronavirus-2 (SAR-CoV-2), resulting in symptoms, such as fever, cough, and shortness of breath. The SARS-CoV-2 virus has also been suggested to initiate a cytokine storm in patients with COVID-19 evidenced by elevated cytokines, such as interleukin-6 (IL-6) and Creactive protein (CRP).\n",
            "We report preliminary data from 21 patients with COVID-19 who developed pneumonia/acute respiratory distress syndrome (ARDS) and participated in a compa\n",
            "Loss: 1.7929253578186035 Title:  Serum interleukin-6 as a prognostic marker in<br>neonatal calf diarrhea\n",
            "  Sample: publicly funded repositories, such as the WHO COVID database with rights for unrestricted research re-use and analyses in any form or by any means with acknowledgement of the original source. These permissions are granted for free by Elsevier for as long as the COVID-19 resource centre remains active. J. Dairy Sci. 99:6563-6571 http://dx.\n",
            "Neonatal calf diarrhea is still one of the most important diseases in calf rearing, and severe diarrhea has a marked effect on animal welfare. Furthermore, sig\n",
            "Loss: 1.5552659034729004 Title:  Immunopathological characteristics of<br>coronavirus disease 2019 cases in Guangzhou, China\n",
            "  Sample: well as cytokines important for immune reactions and inflammation. Our data indicate that patients with severe COVID-19 exhibited an overall decline of lymphocytes including CD4+ and CD8+ T cells, B cells, and NK cells. The number of immunosuppressive regulatory T cells was moderately increased in patients with mild COVID-19. IL-2, IL-6, and IL-10 were remarkably up-regulated in patients with severe COVID-19. The levels of IL-2 and IL-6 relative to the length of hospital stay underwent a similar\n",
            "Loss: 1.6619229316711426 Title:  Interleukin-6 in COVID-19: A Systematic<br>Review and Meta-Analysis\n",
            "  Sample: medRxiv preprint ABSTRACT Purpose -Coronaviruses may activate dysregulated host immune responses. As exploratory studies have suggested that interleukin-6 (IL-6) levels are elevated in cases of complicated COVID-19 and that the anti-IL-6 biologic tocilizumab may be beneficial, we undertook a systematic review and meta-analysis to assess the evidence in this field.\n",
            "Methods -We systematically searched MEDLINE and EMBASE for studies investigating the immunological response in COVID-19 or its treatm\n",
            "Loss: 1.958009123802185 Title:  Epidemiological and clinical features of<br>COVID-19 patients with and without pneumonia in<br>Beijing, China\n",
            "  Sample: Background: SARS-CoV-2-caused coronavirus disease (COVID-19) is posing a large casualty. The features of COVID-19 patients with and without pneumonia, SARS-CoV-2 transmissibility in asymptomatic carriers, and factors predicting disease progression remain unknown. Methods: We collected information on clinical characteristics, exposure history, and laboratory examinations of all laboratory-confirmed COVID-19 patients admitted to PLA General Hospital. Cox regression analysis was applied to identify\n",
            "Loss: 1.8875484466552734 Title:  Epidemiological, Clinical Characteristics<br>and Outcome of Medical Staff Infected with<br>COVID-19 in Wuhan, China: A Retrospective Case Series<br>Analysis\n",
            "  Sample: Backgrounds Since December 2019, a novel coronavirus epidemic has emerged in Wuhan city, China and then rapidly spread to other areas. As of 20 Feb 2020, a total of 2,055 medical staff confirmed with coronavirus disease 2019 (COVID-19) caused by SARS-Cov-2 in China had been reported. We sought to explore the epidemiological, clinical characteristics and prognosis of novel coronavirus-infected medical staff.\n",
            "In this retrospective study, 64 confirmed cases of novel coronavirus-infected medical sta\n",
            "Loss: 2.0845272541046143 Title:  Validation of reported risk factors for<br>disease classification and prognosis in COVID-19: a<br>descriptive and retrospective study\n",
            "  Sample: Risk indicators viral load (ORF1ab Ct), lymphocyte percentage (LYM%), C-reactive protein (CRP), interleukin-6 (IL-6), procalcitonin (PCT) and lactic acid (LA) in COVID-19 patients have been proposed in recent studies.\n",
            "However, the predictive effects of those indicators on disease classification and prognosis remains largely unknown. We dynamically measured those reported indicators in 132 cases of COVID-19 patients including the moderate-cured (moderated and cured), severe-cured (severe and cure\n",
            "Saved to Drive\n"
          ],
          "name": "stdout"
        }
      ]
    },
    {
      "cell_type": "markdown",
      "metadata": {
        "id": "Y3vRv04zdEoI",
        "colab_type": "text"
      },
      "source": [
        "# Testing Hugging Face API"
      ]
    },
    {
      "cell_type": "markdown",
      "metadata": {
        "id": "cLsndWNCjt8W",
        "colab_type": "text"
      },
      "source": [
        "As a sanity check we can see if the HF api + the doc2query-T5 checkpoint is predicting queries similar to the ones generated by the [doc2query model and T5 CLI](https://github.com/castorini/docTTTTTquery#t5-inference-predicting-queries-from-passages)."
      ]
    },
    {
      "cell_type": "code",
      "metadata": {
        "id": "jRJ4y0LAhupr",
        "colab_type": "code",
        "colab": {}
      },
      "source": [
        "%%capture\n",
        "# Predicted questions\n",
        "!curl -o predicted_queries_topk_sampling.zip \"https://storage.googleapis.com/doctttttquery_git/predicted_queries_topk_sampling.zip\"\n",
        "!unzip predicted_queries_topk_sampling.zip -d \"predicted_queries\"\n",
        "!rm -f predicted_queries_topk_sampling.zip\n",
        "\n",
        "# MS MARCO Dataset\n",
        "!curl \"https://storage.googleapis.com/doctttttquery_git/collection.tar.gz\" --output collection.tar.gz\n",
        "!tar -xvf collection.tar.gz\n",
        "!rm collection.tar.gz"
      ],
      "execution_count": 0,
      "outputs": []
    },
    {
      "cell_type": "code",
      "metadata": {
        "id": "mdgXcKsckZri",
        "colab_type": "code",
        "colab": {}
      },
      "source": [
        "import pandas as pd\n",
        "\n",
        "df = pd.read_csv(\"collection.tsv\",sep='\\t', header=None)"
      ],
      "execution_count": 0,
      "outputs": []
    },
    {
      "cell_type": "code",
      "metadata": {
        "id": "b2PdwiKr3VH_",
        "colab_type": "code",
        "outputId": "10905c13-4c19-4e35-ba38-8317293a072a",
        "colab": {
          "base_uri": "https://localhost:8080/",
          "height": 669
        }
      },
      "source": [
        "pd.options.display.max_colwidth = 200\n",
        "df.head(20)"
      ],
      "execution_count": 0,
      "outputs": [
        {
          "output_type": "execute_result",
          "data": {
            "text/html": [
              "<div>\n",
              "<style scoped>\n",
              "    .dataframe tbody tr th:only-of-type {\n",
              "        vertical-align: middle;\n",
              "    }\n",
              "\n",
              "    .dataframe tbody tr th {\n",
              "        vertical-align: top;\n",
              "    }\n",
              "\n",
              "    .dataframe thead th {\n",
              "        text-align: right;\n",
              "    }\n",
              "</style>\n",
              "<table border=\"1\" class=\"dataframe\">\n",
              "  <thead>\n",
              "    <tr style=\"text-align: right;\">\n",
              "      <th></th>\n",
              "      <th>0</th>\n",
              "      <th>1</th>\n",
              "    </tr>\n",
              "  </thead>\n",
              "  <tbody>\n",
              "    <tr>\n",
              "      <th>0</th>\n",
              "      <td>0</td>\n",
              "      <td>The presence of communication amid scientific minds was equally important to the success of the Manhattan Project as scientific intellect was. The only cloud hanging over the impressive achievemen...</td>\n",
              "    </tr>\n",
              "    <tr>\n",
              "      <th>1</th>\n",
              "      <td>1</td>\n",
              "      <td>The Manhattan Project and its atomic bomb helped bring an end to World War II. Its legacy of peaceful uses of atomic energy continues to have an impact on history and science.</td>\n",
              "    </tr>\n",
              "    <tr>\n",
              "      <th>2</th>\n",
              "      <td>2</td>\n",
              "      <td>Essay on The Manhattan Project - The Manhattan Project The Manhattan Project was to see if making an atomic bomb possible. The success of this project would forever change the world forever making...</td>\n",
              "    </tr>\n",
              "    <tr>\n",
              "      <th>3</th>\n",
              "      <td>3</td>\n",
              "      <td>The Manhattan Project was the name for a project conducted during World War II, to develop the first atomic bomb. It refers specifically to the period of the project from 194 â¦ 2-1946 under the ...</td>\n",
              "    </tr>\n",
              "    <tr>\n",
              "      <th>4</th>\n",
              "      <td>4</td>\n",
              "      <td>versions of each volume as well as complementary websites. The first websiteâThe Manhattan Project: An Interactive Historyâis available on the Office of History and Heritage Resources website,...</td>\n",
              "    </tr>\n",
              "    <tr>\n",
              "      <th>5</th>\n",
              "      <td>5</td>\n",
              "      <td>The Manhattan Project. This once classified photograph features the first atomic bomb â a weapon that atomic scientists had nicknamed Gadget.. The nuclear age began on July 16, 1945, when it was...</td>\n",
              "    </tr>\n",
              "    <tr>\n",
              "      <th>6</th>\n",
              "      <td>6</td>\n",
              "      <td>Nor will it attempt to substitute for the extraordinarily rich literature on the atomic bombs and the end of World War II. This collection does not attempt to document the origins and development ...</td>\n",
              "    </tr>\n",
              "    <tr>\n",
              "      <th>7</th>\n",
              "      <td>7</td>\n",
              "      <td>Manhattan Project. The Manhattan Project was a research and development undertaking during World War II that produced the first nuclear weapons. It was led by the United States with the support of...</td>\n",
              "    </tr>\n",
              "    <tr>\n",
              "      <th>8</th>\n",
              "      <td>8</td>\n",
              "      <td>In June 1942, the United States Army Corps of Engineersbegan the Manhattan Project- The secret name for the 2 atomic bombs.</td>\n",
              "    </tr>\n",
              "    <tr>\n",
              "      <th>9</th>\n",
              "      <td>9</td>\n",
              "      <td>One of the main reasons Hanford was selected as a site for the Manhattan Project's B Reactor was its proximity to the Columbia River, the largest river flowing into the Pacific Ocean from the Nort...</td>\n",
              "    </tr>\n",
              "    <tr>\n",
              "      <th>10</th>\n",
              "      <td>10</td>\n",
              "      <td>group discussions, community boards or panels with a third party, or victim and offender dialogues, and requires a skilled facilitator who also has sufficient understanding of sexual assault, dome...</td>\n",
              "    </tr>\n",
              "    <tr>\n",
              "      <th>11</th>\n",
              "      <td>11</td>\n",
              "      <td>punishment designed to repair the damage done to the victim and community by an offender's criminal act. Ex: community service, Big Brother program indeterminate sentence</td>\n",
              "    </tr>\n",
              "    <tr>\n",
              "      <th>12</th>\n",
              "      <td>12</td>\n",
              "      <td>Tutorial: Introduction to Restorative Justice. Restorative justice is a theory of justice that emphasizes repairing the harm caused by criminal behaviour. It is best accomplished through cooperati...</td>\n",
              "    </tr>\n",
              "    <tr>\n",
              "      <th>13</th>\n",
              "      <td>13</td>\n",
              "      <td>Organize volunteer community panels, boards, or committees that meet with the offender to discuss the incident and offender obligation to repair the harm to victims and community members. Facilita...</td>\n",
              "    </tr>\n",
              "    <tr>\n",
              "      <th>14</th>\n",
              "      <td>14</td>\n",
              "      <td>The purpose of this paper is to point out a number of unresolved issues in the criminal justice system, present the underlying principles of restorative justice, and then to review the growing amo...</td>\n",
              "    </tr>\n",
              "    <tr>\n",
              "      <th>15</th>\n",
              "      <td>15</td>\n",
              "      <td>Each of these types of communitiesâthe geographic community of the victim, offender, or crime; the community of care; and civil societyâmay be injured by crime in different ways and degrees, b...</td>\n",
              "    </tr>\n",
              "    <tr>\n",
              "      <th>16</th>\n",
              "      <td>16</td>\n",
              "      <td>The approach is based on a theory of justice that considers crime and wrongdoing to be an offense against an individual or community, rather than the State. Restorative justice that fosters dialog...</td>\n",
              "    </tr>\n",
              "    <tr>\n",
              "      <th>17</th>\n",
              "      <td>17</td>\n",
              "      <td>Inherent in many peopleâs understanding of the notion of ADR is the existence of a dispute between identifiable parties. Criminal justice, however, is not usually conceptualised as a dispute bet...</td>\n",
              "    </tr>\n",
              "    <tr>\n",
              "      <th>18</th>\n",
              "      <td>18</td>\n",
              "      <td>Criminal justice, however, is not usually conceptualised as a dispute between victim and offender, but is instead seen as a matter concerning the relationship between the offender and the state. 3...</td>\n",
              "    </tr>\n",
              "    <tr>\n",
              "      <th>19</th>\n",
              "      <td>19</td>\n",
              "      <td>The circle includes a wide range of participants including not only the offender and the victim but also friends and families, community members, and justice system representatives. The primary di...</td>\n",
              "    </tr>\n",
              "  </tbody>\n",
              "</table>\n",
              "</div>"
            ],
            "text/plain": [
              "     0                                                                                                                                                                                                        1\n",
              "0    0  The presence of communication amid scientific minds was equally important to the success of the Manhattan Project as scientific intellect was. The only cloud hanging over the impressive achievemen...\n",
              "1    1                          The Manhattan Project and its atomic bomb helped bring an end to World War II. Its legacy of peaceful uses of atomic energy continues to have an impact on history and science.\n",
              "2    2  Essay on The Manhattan Project - The Manhattan Project The Manhattan Project was to see if making an atomic bomb possible. The success of this project would forever change the world forever making...\n",
              "3    3  The Manhattan Project was the name for a project conducted during World War II, to develop the first atomic bomb. It refers specifically to the period of the project from 194 â¦ 2-1946 under the ...\n",
              "4    4  versions of each volume as well as complementary websites. The first websiteâThe Manhattan Project: An Interactive Historyâis available on the Office of History and Heritage Resources website,...\n",
              "5    5  The Manhattan Project. This once classified photograph features the first atomic bomb â a weapon that atomic scientists had nicknamed Gadget.. The nuclear age began on July 16, 1945, when it was...\n",
              "6    6  Nor will it attempt to substitute for the extraordinarily rich literature on the atomic bombs and the end of World War II. This collection does not attempt to document the origins and development ...\n",
              "7    7  Manhattan Project. The Manhattan Project was a research and development undertaking during World War II that produced the first nuclear weapons. It was led by the United States with the support of...\n",
              "8    8                                                                              In June 1942, the United States Army Corps of Engineersbegan the Manhattan Project- The secret name for the 2 atomic bombs.\n",
              "9    9  One of the main reasons Hanford was selected as a site for the Manhattan Project's B Reactor was its proximity to the Columbia River, the largest river flowing into the Pacific Ocean from the Nort...\n",
              "10  10  group discussions, community boards or panels with a third party, or victim and offender dialogues, and requires a skilled facilitator who also has sufficient understanding of sexual assault, dome...\n",
              "11  11                               punishment designed to repair the damage done to the victim and community by an offender's criminal act. Ex: community service, Big Brother program indeterminate sentence\n",
              "12  12  Tutorial: Introduction to Restorative Justice. Restorative justice is a theory of justice that emphasizes repairing the harm caused by criminal behaviour. It is best accomplished through cooperati...\n",
              "13  13  Organize volunteer community panels, boards, or committees that meet with the offender to discuss the incident and offender obligation to repair the harm to victims and community members. Facilita...\n",
              "14  14  The purpose of this paper is to point out a number of unresolved issues in the criminal justice system, present the underlying principles of restorative justice, and then to review the growing amo...\n",
              "15  15  Each of these types of communitiesâthe geographic community of the victim, offender, or crime; the community of care; and civil societyâmay be injured by crime in different ways and degrees, b...\n",
              "16  16  The approach is based on a theory of justice that considers crime and wrongdoing to be an offense against an individual or community, rather than the State. Restorative justice that fosters dialog...\n",
              "17  17  Inherent in many peopleâs understanding of the notion of ADR is the existence of a dispute between identifiable parties. Criminal justice, however, is not usually conceptualised as a dispute bet...\n",
              "18  18  Criminal justice, however, is not usually conceptualised as a dispute between victim and offender, but is instead seen as a matter concerning the relationship between the offender and the state. 3...\n",
              "19  19  The circle includes a wide range of participants including not only the offender and the victim but also friends and families, community members, and justice system representatives. The primary di..."
            ]
          },
          "metadata": {
            "tags": []
          },
          "execution_count": 7
        }
      ]
    },
    {
      "cell_type": "markdown",
      "metadata": {
        "id": "vfU4GXs0TsFa",
        "colab_type": "text"
      },
      "source": [
        "Compare the generated queries."
      ]
    },
    {
      "cell_type": "code",
      "metadata": {
        "id": "J96ZHGjnPkM3",
        "colab_type": "code",
        "outputId": "fa323100-420a-407a-ec4e-f2bdfae13aba",
        "colab": {
          "base_uri": "https://localhost:8080/",
          "height": 1000
        }
      },
      "source": [
        "docs_to_test = 10\n",
        "num_questions = 5\n",
        "\n",
        "for i, doc in enumerate(df[1][:docs_to_test]):\n",
        "  doc_token_ids = tokenizer.encode(doc, return_tensors=\"pt\")\n",
        "  \n",
        "  greedy_outputs = model.generate(\n",
        "    doc_token_ids.to(device),\n",
        "    do_sample=True,\n",
        "    max_length=64,\n",
        "    top_k=10,\n",
        "    num_return_sequences=5\n",
        "  )\n",
        "\n",
        "  for j, sample_output in enumerate(greedy_outputs):\n",
        "    print(\"{}: {}\".format(j, tokenizer.decode(sample_output, skip_special_tokens=True)))\n",
        "\n",
        "  print(\"\\n ---- doc2query-T5 predictions ---- \\n\")\n",
        "  for j in range(num_questions):\n",
        "    with open(f\"predicted_queries/predicted_queries_topk_sample00{j}.txt000-1004000\", 'r') as qs:\n",
        "      for line_num, q in enumerate(qs):\n",
        "        if line_num == i:\n",
        "          print(q.strip())\n",
        "          break\n",
        "\n",
        "  print(\"-\"*50)"
      ],
      "execution_count": 0,
      "outputs": [
        {
          "output_type": "stream",
          "text": [
            "0: what was the success of the atomic researchers and engineers means\n",
            "1: what is their success\n",
            "2: which cloud hanging over the impressive achievement of the atomic researchers and engineers is what their success truly meant\n",
            "3: which is true of the success of the atomic scientists and engineers\n",
            "4: what is the cloud hanging over the impressive achievement of the atomic researchers and engineers is what their success means; hundreds of thousands of innocent lives were obliterated.\n",
            "\n",
            " ---- doc2query-T5 predictions ---- \n",
            "\n",
            "what was important to the success of the manhattan project\n",
            "why was the manhattan project important?\n",
            "what was important about the manhattan project\n",
            "why was the success of the manhattan project so important?\n",
            "who was the manhattan project a scientific project for\n",
            "--------------------------------------------------\n",
            "0: why did the manhattan project impact the united states\n",
            "1: what legacy of peaceful uses of atomic energy continues to have an impact on history and science.\n",
            "2: what legacy continues peaceful uses of atomic energy?\n",
            "3: how does the legacy of peaceful uses of atomic energy continue to have an impact\n",
            "4: what was an impact of the manhattan project\n",
            "\n",
            " ---- doc2query-T5 predictions ---- \n",
            "\n",
            "what were a major contributions to the manhattan effort\n",
            "what impact did the manhattan project have on history\n",
            "what is the manhattan project impact on world\n",
            "what helped to end world war ii?\n",
            "why did the manhattan project help end world war ii?\n",
            "--------------------------------------------------\n",
            "0: how the manhattan project changed the world\n",
            "1: which was a result of the success of the manhattan project\n",
            "2: the manhattan project was to see if making an atomic bomb possible\n",
            "3: why was the united states successful in the manhattan project?\n",
            "4: which statement was made about the success of the Manhattan project essay?\n",
            "\n",
            " ---- doc2query-T5 predictions ---- \n",
            "\n",
            "what is manhattan project\n",
            "why did manhattan happen\n",
            "what was the purpose of the manhattan project\n",
            "what was the manhattan project\n",
            "what was the purpose of the manhattan project\n",
            "--------------------------------------------------\n",
            "0: what was the Manhattan Project\n",
            "1: what was the Manhattan Project?\n",
            "2: why did the manhattan project\n",
            "3: what year were the manhattan project in\n",
            "4: which project was the name of a project conducted during world war i, to develop the first atomic bomb.\n",
            "\n",
            " ---- doc2query-T5 predictions ---- \n",
            "\n",
            "who led the manhattan project\n",
            "who developed manhattan project\n",
            "what was manhattan project\n",
            "what was the name of the project that developed the first atomic bomb?\n",
            "who developed manhattan\n",
            "--------------------------------------------------\n",
            "0: what year was online the manhattan project an interactive history\n",
            "1: which websites are complementary websites?\n",
            "2: where is a website manhattan project\n",
            "3: manhattan project interactive history website\n",
            "4: who is the manhattan project\n",
            "\n",
            " ---- doc2query-T5 predictions ---- \n",
            "\n",
            "what is manhattan project\n",
            "what is the manhattan project interactive\n",
            "where are the manhattan project\n",
            "what is the manhattan project\n",
            "what was the first manhattan project website\n",
            "--------------------------------------------------\n",
            "0: what was the nuclear age begin when\n",
            "1: where did the nuclear age begin in the nuclear age\n",
            "2: what year did nuclear age begin\n",
            "3: when did the nuclear age start\n",
            "4: when did nuclear age started\n",
            "\n",
            " ---- doc2query-T5 predictions ---- \n",
            "\n",
            "when did the first atomic bomb hit\n",
            "when was the first nuclear bomb exploded\n",
            "what was the first atomic bomb\n",
            "when did the atomic age begin\n",
            "when was the first atom bomb sunk\n",
            "--------------------------------------------------\n",
            "0: who is the manchester project in the manhattan project in the manhattan project\n",
            "1: why did the manhattan project start\n",
            "2: when did the manhattan project start\n",
            "3: what is the Manhattan Project in the united states\n",
            "4: who started the manhattan project?\n",
            "\n",
            " ---- doc2query-T5 predictions ---- \n",
            "\n",
            "manhattan project history\n",
            "which book is the author's contribution to the manhattan project?\n",
            "what was the manhattan project for?\n",
            "what was the significance of the manhattan project\n",
            "what was the manhattan project\n",
            "--------------------------------------------------\n",
            "0: who was responsible for developing the manhattan project\n",
            "1: who designed the bombs for the manhattan project\n",
            "2: what was the manhattan project\n",
            "3: who led the manhattan project\n",
            "4: who was the director of the los alamos lab that designed the actual bombs?\n",
            "\n",
            " ---- doc2query-T5 predictions ---- \n",
            "\n",
            "who was the director of manhattan\n",
            "what was the manhattan project ?\n",
            "who directed the manhattan\n",
            "how long did the manhattan project take\n",
            "when did the manhattan project begin\n",
            "--------------------------------------------------\n",
            "0: why did the manhattan project start\n",
            "1: why was the manhattan project started\n",
            "2: when the manhattan project began\n",
            "3: which organization started the Manhattan Project\n",
            "4: when did the Manhattan Project begin\n",
            "\n",
            " ---- doc2query-T5 predictions ---- \n",
            "\n",
            "when were the two atomic bombs discovered\n",
            "when did manhattan project start\n",
            "why was manhattan bombing\n",
            "when did the manhattan bomb explode\n",
            "when did the manhattan project happen and why\n",
            "--------------------------------------------------\n",
            "0: why was hanford selected to be the site for the manhattan project's reactor site\n",
            "1: which river has a river flowing into the pacific ocean\n",
            "2: why was hanford selected as one of the sites for the Manhattan Project's b reactor?\n",
            "3: why was hanford selected\n",
            "4: where is hanford georgia located\n",
            "\n",
            " ---- doc2query-T5 predictions ---- \n",
            "\n",
            "why was hanford selected to build the b reactor\n",
            "where is hanford new york?\n",
            "who built a b reactor\n",
            "why was hanford selected as the manhattan project site\n",
            "hanford ohio is what river\n",
            "--------------------------------------------------\n"
          ],
          "name": "stdout"
        }
      ]
    }
  ]
}